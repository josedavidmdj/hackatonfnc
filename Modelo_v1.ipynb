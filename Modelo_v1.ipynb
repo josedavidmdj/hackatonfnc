{
 "cells": [
  {
   "cell_type": "markdown",
   "metadata": {},
   "source": [
    "📘 Introducción al modelo NEE\n",
    "\n",
    "En este cuaderno estimaremos el Intercambio Neto de CO₂ (NEE), una métrica que indica si un ecosistema es sumidero (NEE < 0) o fuente (NEE > 0) de carbono.\n",
    "\n",
    "El modelo está basado en el enfoque de Carbon Space, utilizando un operador no lineal:\n",
    "\n",
    "\\text{NEE} = H(F_1^{\\text{weighted}}, F_2^{\\text{weighted}}, \\ldots, F_M^{\\text{weighted}})\n",
    "\n",
    "donde H es un modelo de regresión no lineal (usamos Kernel Ridge Regression) que relaciona:\n",
    "\t•\tVariables satelitales (NDVI, LST, NDMI, etc.)\n",
    "\t•\tVariables meteorológicas (temperatura, precipitación, radiación)\n",
    "\t•\tEventualmente ponderadas espacialmente con “footprint” (no aplicado aquí)"
   ]
  },
  {
   "cell_type": "markdown",
   "metadata": {},
   "source": [
    "📌 Propósito:\n",
    "Instala las bibliotecas necesarias para manejar:\n",
    "\t•\tSTAC API: conexión a catálogos satelitales\n",
    "\t•\tRasterio: manejo de imágenes georreferenciadas (GeoTIFF)\n",
    "\t•\tScikit-learn: modelado ML (Kernel Ridge Regression)\n",
    "\t•\tPandas/NumPy: manipulación de datos\n",
    "\t•\tMatplotlib: visualización\n"
   ]
  },
  {
   "cell_type": "code",
   "execution_count": 2,
   "metadata": {},
   "outputs": [
    {
     "name": "stdout",
     "output_type": "stream",
     "text": [
      "\n",
      "\u001b[1m[\u001b[0m\u001b[34;49mnotice\u001b[0m\u001b[1;39;49m]\u001b[0m\u001b[39;49m A new release of pip is available: \u001b[0m\u001b[31;49m25.0.1\u001b[0m\u001b[39;49m -> \u001b[0m\u001b[32;49m25.1.1\u001b[0m\n",
      "\u001b[1m[\u001b[0m\u001b[34;49mnotice\u001b[0m\u001b[1;39;49m]\u001b[0m\u001b[39;49m To update, run: \u001b[0m\u001b[32;49mpip install --upgrade pip\u001b[0m\n"
     ]
    }
   ],
   "source": [
    "# ================================\n",
    "# 1. Instalación de librerías necesarias (si aún no están)\n",
    "# ================================\n",
    "!pip install pystac-client rasterio shapely scikit-learn pandas geopandas matplotlib -q"
   ]
  },
  {
   "cell_type": "code",
   "execution_count": 22,
   "metadata": {},
   "outputs": [],
   "source": [
    "# ================================\n",
    "# 2. Importar librerías\n",
    "# ================================\n",
    "import numpy as np\n",
    "import pandas as pd\n",
    "import matplotlib.pyplot as plt\n",
    "from pystac_client import Client\n",
    "import rasterio\n",
    "from rasterio.plot import show\n",
    "import requests\n",
    "from shapely.geometry import box\n",
    "from sklearn.kernel_ridge import KernelRidge\n",
    "from sklearn.model_selection import train_test_split\n",
    "from sklearn.metrics import mean_squared_error, r2_score\n",
    "from scipy.ndimage import zoom"
   ]
  },
  {
   "cell_type": "markdown",
   "metadata": {},
   "source": [
    "📌 Propósito técnico:\n",
    "\n",
    "\t•\tDefine un AOI (Area of Interest) usando coordenadas de Caldas, Colombia.\n",
    "\t•\tConsulta imágenes Sentinel-2 L2A del mes de enero de 2024 con <20% nubes.\n",
    "\t•\tUsa el cliente STAC para buscar y seleccionar la escena más relevante."
   ]
  },
  {
   "cell_type": "code",
   "execution_count": 3,
   "metadata": {},
   "outputs": [
    {
     "name": "stderr",
     "output_type": "stream",
     "text": [
      "c:\\Users\\joser\\anaconda3\\envs\\dataAnalysis\\lib\\site-packages\\pystac_client\\item_search.py:881: FutureWarning: get_items() is deprecated, use items() instead\n",
      "  warnings.warn(\n"
     ]
    }
   ],
   "source": [
    "# ================================\n",
    "# 3. Definir área de interés (Caldas, Colombia) y parámetros de búsqueda\n",
    "# ================================\n",
    "bbox = [-75.75, 4.8, -75.35, 5.4]  # xmin, ymin, xmax, ymax (aproximado) # LO QUE NOS DAN EN LA PLATAFORMA DE LA HACKATON ES ESTA UBICACIÓN , ESTO LO DEBEMOS ALINEAR \n",
    "\n",
    "date_range = \"2024-01-01/2024-01-31\"\n",
    "\n",
    "stac_url = \"https://earth-search.aws.element84.com/v1\"\n",
    "client = Client.open(stac_url)\n",
    "\n",
    "search = client.search(\n",
    "    collections=[\"sentinel-2-l2a\"],\n",
    "    bbox=bbox,\n",
    "    datetime=date_range,\n",
    "    query={\"eo:cloud_cover\": {\"lt\": 20}},\n",
    "    limit=1\n",
    ")\n",
    "\n",
    "items = list(search.get_items())\n",
    "assert items, \"No se encontraron imágenes para el rango y área definida.\"\n",
    "item = items[0]"
   ]
  },
  {
   "cell_type": "markdown",
   "metadata": {},
   "source": [
    "📌 Propósito técnico:\n",
    "\t•\tSe descargan las bandas roja (B04) y infrarroja cercana (B08).\n",
    "\t•\tEstas bandas se usarán para calcular el NDVI, variable explicativa clave del modelo.\n",
    "\n",
    "📌 Nota EO:\n",
    "NDVI capta la actividad fotosintética y está correlacionado negativamente con el NEE (zonas más verdes suelen ser sumideros de CO₂).\n",
    "\n",
    "⸻\n"
   ]
  },
  {
   "cell_type": "markdown",
   "metadata": {},
   "source": [
    "### 4. Descargar bandas RED y NIR desde STAC"
   ]
  },
  {
   "cell_type": "code",
   "execution_count": 6,
   "metadata": {},
   "outputs": [
    {
     "name": "stdout",
     "output_type": "stream",
     "text": [
      "Claves disponibles en item.assets:\n",
      "['aot', 'blue', 'coastal', 'granule_metadata', 'green', 'nir', 'nir08', 'nir09', 'red', 'rededge1', 'rededge2', 'rededge3', 'scl', 'swir16', 'swir22', 'thumbnail', 'tileinfo_metadata', 'visual', 'wvp', 'aot-jp2', 'blue-jp2', 'coastal-jp2', 'green-jp2', 'nir-jp2', 'nir08-jp2', 'nir09-jp2', 'red-jp2', 'rededge1-jp2', 'rededge2-jp2', 'rededge3-jp2', 'scl-jp2', 'swir16-jp2', 'swir22-jp2', 'visual-jp2', 'wvp-jp2']\n"
     ]
    }
   ],
   "source": [
    "print(\"Claves disponibles en item.assets:\")\n",
    "print(list(item.assets.keys()))"
   ]
  },
  {
   "cell_type": "code",
   "execution_count": null,
   "metadata": {},
   "outputs": [],
   "source": [
    "def download_band(item, stac_key, filename):\n",
    "    url = item.assets[stac_key].href\n",
    "    print(f\"Descargando {stac_key} desde: {url}\")\n",
    "    response = requests.get(url)\n",
    "    with open(filename, \"wb\") as f:\n",
    "        f.write(response.content)\n",
    "    print(f\"Guardado como: {filename}\")\n",
    "    return filename\n",
    "\n",
    "def read_band(filename):\n",
    "    with rasterio.open(filename) as src:\n",
    "        return src.read(1).astype(float)\n",
    "\n",
    "def graficar(array,name):\n",
    "    plt.figure(figsize=(8,6))\n",
    "    plt.imshow(array, cmap='RdYlGn')\n",
    "    # plt.colorbar(label=\"NDVI\")\n",
    "    plt.title(name)\n",
    "    plt.axis(\"off\")\n",
    "    plt.show()"
   ]
  },
  {
   "cell_type": "code",
   "execution_count": null,
   "metadata": {},
   "outputs": [
    {
     "name": "stdout",
     "output_type": "stream",
     "text": [
      "Descargando red desde: https://sentinel-cogs.s3.us-west-2.amazonaws.com/sentinel-s2-l2a-cogs/18/N/VL/2024/1/S2B_18NVL_20240123_0_L2A/B04.tif\n",
      "Guardado como: red.tif\n",
      "Descargando nir desde: https://sentinel-cogs.s3.us-west-2.amazonaws.com/sentinel-s2-l2a-cogs/18/N/VL/2024/1/S2B_18NVL_20240123_0_L2A/B08.tif\n",
      "Guardado como: nearinfrred.tif\n"
     ]
    },
    {
     "data": {
      "text/plain": [
       "'nearinfrred.tif'"
      ]
     },
     "execution_count": 7,
     "metadata": {},
     "output_type": "execute_result"
    }
   ],
   "source": [
    "download_band(item,'red', \"red.tif\")\n",
    "download_band(item, 'blue', \"blue.tif\")\n",
    "download_band(item, 'green', \"green.tif\")\n",
    "download_band(item, 'nir', \"nearinfrred.tif\")\n",
    "download_band(item, 'swir16','siwr16.tif')\n",
    "download_band(item, 'swir22','siwr22.tif')"
   ]
  },
  {
   "cell_type": "code",
   "execution_count": 27,
   "metadata": {},
   "outputs": [
    {
     "name": "stderr",
     "output_type": "stream",
     "text": [
      "C:\\Users\\joser\\AppData\\Local\\Temp\\ipykernel_7468\\2917966498.py:14: RuntimeWarning: divide by zero encountered in divide\n",
      "  evi = 2.5 * (nir - red) / (nir + 6 * red - 7.5 * blue + 1)\n"
     ]
    }
   ],
   "source": [
    "green = read_band(\"green.tif\")\n",
    "red = read_band(\"red.tif\")\n",
    "blue = read_band(\"blue.tif\")\n",
    "nir = read_band(\"nearinfrred.tif\")\n",
    "swir16 = read_band(\"siwr16.tif\")\n",
    "swir22 = read_band(\"siwr22.tif\")\n",
    "\n",
    "swir16_resampled = zoom(swir16, (2, 2), order=1)\n",
    "swir22_resampled = zoom(swir22, (2, 2), order=1)\n",
    "\n",
    "ndvi = (nir - red) / (nir + red + 1e-6)\n",
    "savi = ((nir - red) * (1.5)) / (nir + red + 0.5)\n",
    "evi = 2.5 * (nir - red) / (nir + 6 * red - 7.5 * blue + 1 + 1e-6)\n",
    "ndmi = (nir - swir16_resampled) / (nir + swir16_resampled + 1e-6)\n",
    "tcg = -0.2848*blue - 0.2435*green - 0.5436*red + 0.7243*nir + 0.0840*swir16_resampled - 0.1800*swir22_resampled\n",
    "tcw = -0.1511*blue - 0.1973*green - 0.3283*red + 0.3407*nir + 0.7117*swir16_resampled - 0.4559*swir22_resampled"
   ]
  },
  {
   "cell_type": "markdown",
   "metadata": {},
   "source": [
    "📌 Propósito técnico:\n",
    "\t•\tCalcula el NDVI a partir de la fórmula estándar.\n",
    "\t•\tSe normaliza la diferencia NIR - RED y se evita división por cero.\n",
    "\t•\tSe retorna profile para preservar la georreferenciación en exportación posterior.\n",
    "\n",
    "⸻\n"
   ]
  },
  {
   "cell_type": "markdown",
   "metadata": {},
   "source": [
    "📌 Propósito técnico:\n",
    "\n",
    "\t•\tGenera proxy de variables climáticas para cada píxel.\n",
    "\t•\tEstas variables serían idealmente tomadas de AgERA5 o ERA5 como en el estudio Carbon Space.\n",
    "\t•\tForman parte de las variables explicativas del modelo de predicción de NEE.\n",
    "\n",
    "⸻\n"
   ]
  },
  {
   "cell_type": "code",
   "execution_count": 7,
   "metadata": {},
   "outputs": [],
   "source": [
    "# ================================\n",
    "# 6. Simular variables meteorológicas (proxy de AgERA5)\n",
    "# ================================\n",
    "np.random.seed(42)\n",
    "rows, cols = ndvi.shape\n",
    "\n",
    "# Simular temperatura, precipitación y radiación por píxel\n",
    "temperature = np.random.normal(20, 2, size=(rows, cols))\n",
    "precipitation = np.random.normal(5, 1, size=(rows, cols))\n",
    "radiation = np.random.normal(300, 50, size=(rows, cols))"
   ]
  },
  {
   "cell_type": "markdown",
   "metadata": {},
   "source": [
    "📌 Propósito técnico:\n",
    "\t•\tConcatena las variables explicativas en una matriz X \\in \\mathbb{R}^{n \\times 4}.\n",
    "\t•\tSimula una variable dependiente y = NEE con ruido controlado.\n",
    "\t•\tLa relación es consistente con literatura: NDVI ↘ NEE; Temp ↗ NEE (mayor respiración)."
   ]
  },
  {
   "cell_type": "code",
   "execution_count": 8,
   "metadata": {},
   "outputs": [],
   "source": [
    "# ================================\n",
    "# 7. Preparar dataset para modelado\n",
    "# ================================\n",
    "#X = np.stack([\n",
    "#    ndvi.ravel(),\n",
    "#    temperature.ravel(),\n",
    "#    precipitation.ravel(),\n",
    "#    radiation.ravel()\n",
    "#], axis=1)\n",
    "\n",
    "# Simular NEE: relación inversa con NDVI + ruido\n",
    "#y = -1.2 * ndvi.ravel() + 0.05 * temperature.ravel() + np.random.normal(0, 0.1, ndvi.size)\n",
    "\n",
    "# AQUI NOS TOCO SACAR UNA SUBMUESTRA PERDIENDO MUCHA RESOLUCIÓN: OJO, ESTE PARAMETRO DE MUESTRO SE PUEDE CAMBIAR \n",
    "\n",
    "# Submuestreo aleatorio del dataset\n",
    "sample_size = 10000  # o menos si aún es lento\n",
    "flat_ndvi = ndvi.ravel()\n",
    "idx = np.random.choice(len(flat_ndvi), size=sample_size, replace=False)\n",
    "\n",
    "X = np.stack([\n",
    "    ndvi.ravel()[idx],\n",
    "    temperature.ravel()[idx],\n",
    "    precipitation.ravel()[idx],\n",
    "    radiation.ravel()[idx]\n",
    "], axis=1)\n",
    "\n",
    "y = -1.2 * X[:, 0] + 0.05 * X[:, 1] + np.random.normal(0, 0.1, sample_size)\n",
    "\n",
    "# Train/test split\n",
    "X_train, X_test, y_train, y_test = train_test_split(X, y, test_size=0.2)"
   ]
  },
  {
   "cell_type": "markdown",
   "metadata": {},
   "source": [
    "📌 Propósito técnico:\n",
    "\t•\tUsa Kernel Ridge Regression con kernel radial (RBF).\n",
    "\t•\tCaptura relaciones no lineales entre las variables explicativas y la respuesta.\n",
    "\t•\tEs el operador H(\\cdot) de la ecuación conceptual del modelo.\n",
    "\n",
    "📌 Justificación:\n",
    "KRR es adecuada para NEE por su capacidad de modelar relaciones suaves y no paramétricas en espacio-tiempo."
   ]
  },
  {
   "cell_type": "code",
   "execution_count": 9,
   "metadata": {},
   "outputs": [
    {
     "name": "stdout",
     "output_type": "stream",
     "text": [
      "RMSE: 0.21551678577987265\n",
      "R²: 0.4221236733051579\n"
     ]
    }
   ],
   "source": [
    "# ================================\n",
    "# 8. Entrenar modelo de Kernel Ridge Regression (KRR)\n",
    "# ================================\n",
    "model = KernelRidge(kernel='rbf', alpha=1.0, gamma=0.5)\n",
    "model.fit(X_train, y_train)\n",
    "y_pred = model.predict(X_test)\n",
    "\n",
    "print(\"RMSE:\", np.sqrt(mean_squared_error(y_test, y_pred)))\n",
    "print(\"R²:\", r2_score(y_test, y_pred))"
   ]
  },
  {
   "cell_type": "markdown",
   "metadata": {},
   "source": [
    "📌 Propósito técnico:\n",
    "\n",
    "\t•\tAplica el modelo entrenado a todos los píxeles del AOI.\n",
    "\t•\tGenera un mapa continuo de NEE diario o mensual, según el diseño.\n",
    "\t•\tResultado puede clasificarse: NEE < 0 = sumidero, NEE > 0 = fuente."
   ]
  },
  {
   "cell_type": "code",
   "execution_count": 11,
   "metadata": {},
   "outputs": [
    {
     "data": {
      "image/png": "[encoded data removed]",
      "text/plain": [
       "<Figure size 640x480 with 1 Axes>"
      ]
     },
     "metadata": {},
     "output_type": "display_data"
    }
   ],
   "source": [
    "# ================================\n",
    "# 9. Aplicar modelo a todos los píxeles y visualizar el mapa de NEE\n",
    "# ================================\n",
    "\n",
    "# Simplemente visualiza los resultados como histograma o scatter\n",
    "y_pred_sample = model.predict(X)\n",
    "plt.hist(y_pred_sample, bins=50, color='skyblue')\n",
    "plt.title(\"Distribución de NEE estimado sobre muestra\")\n",
    "plt.xlabel(\"NEE (gC/m²/día)\")\n",
    "plt.ylabel(\"Frecuencia\")\n",
    "plt.grid(True)\n",
    "plt.show()\n",
    "\n",
    "#ESTE CODIGO SERIA PARA GENERAR UN MAPA DE NEE, PERO COMO NO TENEMOS LOS DATOS DE LAS BANDAS RED Y NIR, NO SE PUEDE EJECUTAR DIRECTAMENTE: NO SE TIENE TODOS LOS DATOS POR CAPACIDAD DE COMPUTO\n",
    "#nee_map = model.predict(X).reshape(ndvi.shape)\n",
    "\n",
    "#plt.figure(figsize=(8,6))\n",
    "#plt.imshow(nee_map, cmap='coolwarm')\n",
    "#plt.colorbar(label=\"NEE estimado (gC/m²/día)\")\n",
    "#plt.title(\"Mapa estimado de NEE\")\n",
    "#plt.axis(\"off\")\n",
    "#plt.show()"
   ]
  },
  {
   "cell_type": "code",
   "execution_count": null,
   "metadata": {},
   "outputs": [],
   "source": [
    "# SE PUEDE ENTRENAR CON UNA SUBMUESTRA Y APLICAR A TODOS LOS DATOS: (PROBLEMA: CAPACIDAD DE COMPUTO)\n",
    "\n",
    "# ================================\n",
    "# Entrenar con una submuestra y aplicar a todo el conjunto\n",
    "# ================================\n",
    "\n",
    "# 1. Crear dataset completo\n",
    "X_full = np.stack([\n",
    "    ndvi.ravel(),\n",
    "    temperature.ravel(),\n",
    "    precipitation.ravel(),\n",
    "    radiation.ravel()\n",
    "], axis=1)\n",
    "\n",
    "y_full = -1.2 * ndvi.ravel() + 0.05 * temperature.ravel() + np.random.normal(0, 0.1, ndvi.size)\n",
    "\n",
    "# 2. Seleccionar una submuestra aleatoria\n",
    "sample_size = 10000\n",
    "np.random.seed(42)\n",
    "idx = np.random.choice(X_full.shape[0], sample_size, replace=False)\n",
    "\n",
    "X_sample = X_full[idx]\n",
    "y_sample = y_full[idx]\n",
    "\n",
    "# 3. Entrenar el modelo con la muestra\n",
    "from sklearn.kernel_ridge import KernelRidge\n",
    "model = KernelRidge(kernel='rbf', alpha=1.0, gamma=0.5)\n",
    "model.fit(X_sample, y_sample)\n",
    "\n",
    "# 4. Aplicar el modelo al conjunto completo\n",
    "nee_full = model.predict(X_full).reshape(ndvi.shape)\n",
    "\n",
    "# 5. Visualizar el resultado\n",
    "import matplotlib.pyplot as plt\n",
    "plt.figure(figsize=(8,6))\n",
    "plt.imshow(nee_full, cmap='coolwarm')\n",
    "plt.colorbar(label=\"NEE estimado (gC/m²/día)\")\n",
    "plt.title(\"Mapa estimado de NEE con modelo entrenado sobre muestra\")\n",
    "plt.axis(\"off\")\n",
    "plt.show()"
   ]
  },
  {
   "cell_type": "code",
   "execution_count": null,
   "metadata": {},
   "outputs": [],
   "source": [
    "📌 Propósito técnico: FINAL \n",
    "\t•\tCrea un archivo raster georreferenciado en formato GeoTIFF.\n",
    "\t•\tEste archivo puede ser publicado en plataformas como:\n",
    "\t•\tGeoServer\n",
    "\t•\tLayman\n",
    "\t•\tVisualizado en QGIS"
   ]
  },
  {
   "cell_type": "code",
   "execution_count": null,
   "metadata": {},
   "outputs": [],
   "source": [
    "with rasterio.open(\"NEE_map.tif\", \"w\", **profile) as dst:\n",
    "    dst.write(nee_map.astype(rasterio.float32), 1)"
   ]
  },
  {
   "cell_type": "markdown",
   "metadata": {},
   "source": []
  }
 ],
 "metadata": {
  "kernelspec": {
   "display_name": "dataAnalysis",
   "language": "python",
   "name": "python3"
  },
  "language_info": {
   "codemirror_mode": {
    "name": "ipython",
    "version": 3
   },
   "file_extension": ".py",
   "mimetype": "text/x-python",
   "name": "python",
   "nbconvert_exporter": "python",
   "pygments_lexer": "ipython3",
   "version": "3.10.9"
  }
 },
 "nbformat": 4,
 "nbformat_minor": 2
}
