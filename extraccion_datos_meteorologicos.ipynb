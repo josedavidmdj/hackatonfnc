{
 "cells": [
  {
   "cell_type": "markdown",
   "id": "ba1d54d0",
   "metadata": {},
   "source": [
    "### 📦 Instalación de librerías para datos climáticos y espaciales\n",
    "\n",
    "Instala paquetes necesarios para trabajar con datos NetCDF y raster: `xarray`, `rioxarray` y `netCDF4`.\n"
   ]
  },
  {
   "cell_type": "code",
   "execution_count": 1,
   "id": "e9e3ecb6",
   "metadata": {},
   "outputs": [
    {
     "name": "stdout",
     "output_type": "stream",
     "text": [
      "Requirement already satisfied: xarray in /usr/local/python/3.12.1/lib/python3.12/site-packages (2025.7.0)\n",
      "Requirement already satisfied: rioxarray in /usr/local/python/3.12.1/lib/python3.12/site-packages (0.19.0)\n",
      "Requirement already satisfied: netcdf4 in /usr/local/python/3.12.1/lib/python3.12/site-packages (1.7.2)\n",
      "Requirement already satisfied: numpy>=1.26 in /home/codespace/.local/lib/python3.12/site-packages (from xarray) (2.2.6)\n",
      "Requirement already satisfied: packaging>=24.1 in /home/codespace/.local/lib/python3.12/site-packages (from xarray) (25.0)\n",
      "Requirement already satisfied: pandas>=2.2 in /home/codespace/.local/lib/python3.12/site-packages (from xarray) (2.2.3)\n",
      "Requirement already satisfied: rasterio>=1.4.3 in /usr/local/python/3.12.1/lib/python3.12/site-packages (from rioxarray) (1.4.3)\n",
      "Requirement already satisfied: pyproj>=3.3 in /usr/local/python/3.12.1/lib/python3.12/site-packages (from rioxarray) (3.7.1)\n",
      "Requirement already satisfied: cftime in /usr/local/python/3.12.1/lib/python3.12/site-packages (from netcdf4) (1.6.4.post1)\n",
      "Requirement already satisfied: certifi in /home/codespace/.local/lib/python3.12/site-packages (from netcdf4) (2025.4.26)\n",
      "Requirement already satisfied: python-dateutil>=2.8.2 in /home/codespace/.local/lib/python3.12/site-packages (from pandas>=2.2->xarray) (2.9.0.post0)\n",
      "Requirement already satisfied: pytz>=2020.1 in /home/codespace/.local/lib/python3.12/site-packages (from pandas>=2.2->xarray) (2025.2)\n",
      "Requirement already satisfied: tzdata>=2022.7 in /home/codespace/.local/lib/python3.12/site-packages (from pandas>=2.2->xarray) (2025.2)\n",
      "Requirement already satisfied: six>=1.5 in /home/codespace/.local/lib/python3.12/site-packages (from python-dateutil>=2.8.2->pandas>=2.2->xarray) (1.17.0)\n",
      "Requirement already satisfied: affine in /usr/local/python/3.12.1/lib/python3.12/site-packages (from rasterio>=1.4.3->rioxarray) (2.4.0)\n",
      "Requirement already satisfied: attrs in /home/codespace/.local/lib/python3.12/site-packages (from rasterio>=1.4.3->rioxarray) (25.3.0)\n",
      "Requirement already satisfied: click>=4.0 in /usr/local/python/3.12.1/lib/python3.12/site-packages (from rasterio>=1.4.3->rioxarray) (8.2.1)\n",
      "Requirement already satisfied: cligj>=0.5 in /usr/local/python/3.12.1/lib/python3.12/site-packages (from rasterio>=1.4.3->rioxarray) (0.7.2)\n",
      "Requirement already satisfied: click-plugins in /usr/local/python/3.12.1/lib/python3.12/site-packages (from rasterio>=1.4.3->rioxarray) (1.1.1.2)\n",
      "Requirement already satisfied: pyparsing in /home/codespace/.local/lib/python3.12/site-packages (from rasterio>=1.4.3->rioxarray) (3.2.3)\n",
      "Note: you may need to restart the kernel to use updated packages.\n"
     ]
    }
   ],
   "source": [
    "pip install xarray rioxarray netcdf4 netCDF4\n"
   ]
  },
  {
   "cell_type": "markdown",
   "id": "2ed92f5e",
   "metadata": {},
   "source": [
    "### 🌍 Descarga de datos ERA5-Land desde Copernicus con `cdsapi`\n",
    "\n",
    "Este script automatiza la descarga de variables meteorológicas del conjunto de reanálisis **ERA5-Land** para el departamento de Caldas, Colombia.\n",
    "\n",
    "- Se utiliza la API oficial de **Copernicus Climate Data Store (CDS)** mediante `cdsapi`.\n",
    "- Se descarga por quincena (días 1-15 y 16-fin de mes) para los años especificados.\n",
    "- El área geográfica se define con coordenadas: `[Norte, Oeste, Sur, Este]`.\n",
    "- Las variables incluyen temperatura, radiación, viento, presión y precipitación.\n",
    "- Los archivos `.grib` descargados se guardan y, si están comprimidos, se descomprimen automáticamente.\n",
    "\n",
    "📁 **Estructura de carpetas**:\n",
    "- `descargas_zips`: contiene archivos originales `.grib` o `.zip`.\n",
    "- `datos_grib_validos`: almacena los archivos organizados por quincena y mes.\n",
    "\n",
    "⏱️ Se introduce una pausa de 3 segundos entre descargas para evitar sobrecargar el servidor.\n",
    "\n",
    "> ⚠️ Asegúrate de tener una cuenta en [CDS](https://cds.climate.copernicus.eu/) y configurar tu archivo `.cdsapirc`.\n",
    "\n"
   ]
  },
  {
   "cell_type": "code",
   "execution_count": null,
   "id": "0b53f641",
   "metadata": {},
   "outputs": [],
   "source": [
    "import cdsapi\n",
    "import os\n",
    "import zipfile\n",
    "from time import sleep\n",
    "\n",
    "client = cdsapi.Client()\n",
    "\n",
    "# Parámetros\n",
    "years = [\"2016\", \"2017\", \"2018\", \"2024\"]\n",
    "months = [f\"{m:02d}\" for m in range(1, 13)]\n",
    "hours = [f\"{h:02d}:00\" for h in range(24)]\n",
    "area = [5.4, -75.75, 4.8, -75.35]  # Caldas\n",
    "variables = [\n",
    "    \"2m_dewpoint_temperature\", \"2m_temperature\", \"surface_thermal_radiation_downwards\",\n",
    "    \"surface_solar_radiation_downwards\", \"10m_u_component_of_wind\",\n",
    "    \"10m_v_component_of_wind\", \"surface_pressure\", \"total_precipitation\"\n",
    "]\n",
    "\n",
    "# Carpetas\n",
    "carpeta_zips = \"descargas_zips\"\n",
    "carpeta_gribs = \"datos_grib_validos\"\n",
    "os.makedirs(carpeta_zips, exist_ok=True)\n",
    "os.makedirs(carpeta_gribs, exist_ok=True)\n",
    "\n",
    "def dias_en_mes(año, mes):\n",
    "    mes = int(mes)\n",
    "    if mes == 2:\n",
    "        return 29 if int(año) % 4 == 0 else 28\n",
    "    return 30 if mes in [4, 6, 9, 11] else 31\n",
    "\n",
    "# Descarga y extracción\n",
    "for year in years:\n",
    "    for month in months:\n",
    "        dias = dias_en_mes(year, month)\n",
    "\n",
    "        for parte, (d1, d2) in enumerate([(1, 15), (16, dias)], start=1):\n",
    "            dias_rango = [f\"{d:02d}\" for d in range(d1, d2 + 1)]\n",
    "\n",
    "            nombre_archivo = f\"era5land_{year}_{month}_q{parte}\"\n",
    "            zip_path = os.path.join(carpeta_zips, f\"{nombre_archivo}.grib\")\n",
    "            output_dir = os.path.join(carpeta_gribs, nombre_archivo)\n",
    "            os.makedirs(output_dir, exist_ok=True)\n",
    "\n",
    "            if os.path.exists(zip_path):\n",
    "                print(f\"✅ Ya existe: {zip_path}, saltando descarga...\")\n",
    "            else:\n",
    "                print(f\"📦 Descargando {nombre_archivo}...\")\n",
    "                try:\n",
    "                    client.retrieve(\n",
    "                        \"reanalysis-era5-land\",\n",
    "                        {\n",
    "                            \"product_type\": \"reanalysis\",\n",
    "                            \"variable\": variables,\n",
    "                            \"year\": year,\n",
    "                            \"month\": month,\n",
    "                            \"day\": dias_rango,\n",
    "                            \"time\": hours,\n",
    "                            \"format\": \"grib\",\n",
    "                            \"area\": area,\n",
    "                            \"grid\": [0.1, 0.1]\n",
    "                        }\n",
    "                    ).download(zip_path)\n",
    "                    print(f\"✅ Descargado: {zip_path}\")\n",
    "                except Exception as e:\n",
    "                    print(f\"❌ Error en {nombre_archivo}: {e}\")\n",
    "                    continue\n",
    "\n",
    "            # Verificar si es ZIP\n",
    "            with open(zip_path, \"rb\") as f:\n",
    "                firma = f.read(4)\n",
    "\n",
    "            if firma == b'PK\\x03\\x04':\n",
    "                print(f\"📂 {zip_path} es un ZIP, descomprimiendo...\")\n",
    "                try:\n",
    "                    with zipfile.ZipFile(zip_path, 'r') as zip_ref:\n",
    "                        zip_ref.extractall(output_dir)\n",
    "                    print(f\"✅ Descomprimido en: {output_dir}\\n\")\n",
    "                except Exception as e:\n",
    "                    print(f\"❌ Error al descomprimir {zip_path}: {e}\")\n",
    "            else:\n",
    "                print(f\"⚠️ {zip_path} no es ZIP, moviendo a carpeta final...\")\n",
    "                # Mover a carpeta destino\n",
    "                nuevo_path = os.path.join(output_dir, f\"{nombre_archivo}.grib\")\n",
    "                os.rename(zip_path, nuevo_path)\n",
    "                print(f\"✅ Movido a: {nuevo_path}\\n\")\n",
    "\n",
    "            sleep(3)  # Para evitar saturar el servidor\n"
   ]
  },
  {
   "cell_type": "markdown",
   "id": "bde83dcf",
   "metadata": {},
   "source": [
    "### 📂 Exploración de variables contenidas en archivos `.grib`\n",
    "\n",
    "Este bloque recorre una carpeta raíz (`datos_grib_validos`) que contiene subcarpetas con archivos `data.grib` descomprimidos. Su objetivo es identificar qué variables meteorológicas contiene cada archivo:\n",
    "\n",
    "- Utiliza `xarray` con el motor `cfgrib` para leer archivos `.grib`, formato común en datos meteorológicos.\n",
    "- Por cada subcarpeta:\n",
    "  - Abre el archivo `data.grib`.\n",
    "  - Extrae las variables disponibles (`ds.data_vars`).\n",
    "  - Las guarda en un diccionario `variables_por_archivo`, donde la llave es el nombre del subdirectorio.\n",
    "  - Muestra en consola las variables leídas o un mensaje de error si el archivo no existe o no puede abrirse.\n",
    "\n",
    "✅ Esto es útil para auditar la estructura de los datos descargados y confirmar que las variables esperadas están presentes en cada archivo quincenal o mensual.\n"
   ]
  },
  {
   "cell_type": "code",
   "execution_count": 3,
   "id": "0be5b6ba",
   "metadata": {},
   "outputs": [
    {
     "name": "stderr",
     "output_type": "stream",
     "text": [
      "Ignoring index file 'datos_grib_validos\\\\era5land_2016_01_q1\\\\data.grib.5b7b6.idx' older than GRIB file\n",
      "c:\\Users\\jessi\\AppData\\Local\\Programs\\Python\\Python311\\Lib\\site-packages\\cfgrib\\xarray_plugin.py:131: FutureWarning: In a future version, xarray will not decode timedelta values based on the presence of a timedelta-like units attribute by default. Instead it will rely on the presence of a timedelta64 dtype attribute, which is now xarray's default way of encoding timedelta64 values. To continue decoding timedeltas based on the presence of a timedelta-like units attribute, users will need to explicitly opt-in by passing True or CFTimedeltaCoder(decode_via_units=True) to decode_timedelta. To silence this warning, set decode_timedelta to True, False, or a 'CFTimedeltaCoder' instance.\n",
      "  vars, attrs, coord_names = xr.conventions.decode_cf_variables(\n",
      "Ignoring index file 'datos_grib_validos\\\\era5land_2016_01_q2\\\\data.grib.5b7b6.idx' older than GRIB file\n"
     ]
    },
    {
     "name": "stdout",
     "output_type": "stream",
     "text": [
      "✅ era5land_2016_01_q1: ['d2m', 'sp', 'ssrd', 'strd', 't2m', 'tp', 'u10', 'v10']\n"
     ]
    },
    {
     "name": "stderr",
     "output_type": "stream",
     "text": [
      "c:\\Users\\jessi\\AppData\\Local\\Programs\\Python\\Python311\\Lib\\site-packages\\cfgrib\\xarray_plugin.py:131: FutureWarning: In a future version, xarray will not decode timedelta values based on the presence of a timedelta-like units attribute by default. Instead it will rely on the presence of a timedelta64 dtype attribute, which is now xarray's default way of encoding timedelta64 values. To continue decoding timedeltas based on the presence of a timedelta-like units attribute, users will need to explicitly opt-in by passing True or CFTimedeltaCoder(decode_via_units=True) to decode_timedelta. To silence this warning, set decode_timedelta to True, False, or a 'CFTimedeltaCoder' instance.\n",
      "  vars, attrs, coord_names = xr.conventions.decode_cf_variables(\n",
      "Ignoring index file 'datos_grib_validos\\\\era5land_2016_02_q1\\\\data.grib.5b7b6.idx' older than GRIB file\n"
     ]
    },
    {
     "name": "stdout",
     "output_type": "stream",
     "text": [
      "✅ era5land_2016_01_q2: ['d2m', 'sp', 'ssrd', 'strd', 't2m', 'tp', 'u10', 'v10']\n"
     ]
    },
    {
     "name": "stderr",
     "output_type": "stream",
     "text": [
      "c:\\Users\\jessi\\AppData\\Local\\Programs\\Python\\Python311\\Lib\\site-packages\\cfgrib\\xarray_plugin.py:131: FutureWarning: In a future version, xarray will not decode timedelta values based on the presence of a timedelta-like units attribute by default. Instead it will rely on the presence of a timedelta64 dtype attribute, which is now xarray's default way of encoding timedelta64 values. To continue decoding timedeltas based on the presence of a timedelta-like units attribute, users will need to explicitly opt-in by passing True or CFTimedeltaCoder(decode_via_units=True) to decode_timedelta. To silence this warning, set decode_timedelta to True, False, or a 'CFTimedeltaCoder' instance.\n",
      "  vars, attrs, coord_names = xr.conventions.decode_cf_variables(\n",
      "Ignoring index file 'datos_grib_validos\\\\era5land_2016_02_q2\\\\data.grib.5b7b6.idx' older than GRIB file\n"
     ]
    },
    {
     "name": "stdout",
     "output_type": "stream",
     "text": [
      "✅ era5land_2016_02_q1: ['d2m', 'sp', 'ssrd', 'strd', 't2m', 'tp', 'u10', 'v10']\n"
     ]
    },
    {
     "name": "stderr",
     "output_type": "stream",
     "text": [
      "c:\\Users\\jessi\\AppData\\Local\\Programs\\Python\\Python311\\Lib\\site-packages\\cfgrib\\xarray_plugin.py:131: FutureWarning: In a future version, xarray will not decode timedelta values based on the presence of a timedelta-like units attribute by default. Instead it will rely on the presence of a timedelta64 dtype attribute, which is now xarray's default way of encoding timedelta64 values. To continue decoding timedeltas based on the presence of a timedelta-like units attribute, users will need to explicitly opt-in by passing True or CFTimedeltaCoder(decode_via_units=True) to decode_timedelta. To silence this warning, set decode_timedelta to True, False, or a 'CFTimedeltaCoder' instance.\n",
      "  vars, attrs, coord_names = xr.conventions.decode_cf_variables(\n",
      "Ignoring index file 'datos_grib_validos\\\\era5land_2016_03_q1\\\\data.grib.5b7b6.idx' older than GRIB file\n"
     ]
    },
    {
     "name": "stdout",
     "output_type": "stream",
     "text": [
      "✅ era5land_2016_02_q2: ['d2m', 'sp', 'ssrd', 'strd', 't2m', 'tp', 'u10', 'v10']\n"
     ]
    },
    {
     "name": "stderr",
     "output_type": "stream",
     "text": [
      "c:\\Users\\jessi\\AppData\\Local\\Programs\\Python\\Python311\\Lib\\site-packages\\cfgrib\\xarray_plugin.py:131: FutureWarning: In a future version, xarray will not decode timedelta values based on the presence of a timedelta-like units attribute by default. Instead it will rely on the presence of a timedelta64 dtype attribute, which is now xarray's default way of encoding timedelta64 values. To continue decoding timedeltas based on the presence of a timedelta-like units attribute, users will need to explicitly opt-in by passing True or CFTimedeltaCoder(decode_via_units=True) to decode_timedelta. To silence this warning, set decode_timedelta to True, False, or a 'CFTimedeltaCoder' instance.\n",
      "  vars, attrs, coord_names = xr.conventions.decode_cf_variables(\n",
      "Ignoring index file 'datos_grib_validos\\\\era5land_2016_03_q2\\\\data.grib.5b7b6.idx' older than GRIB file\n"
     ]
    },
    {
     "name": "stdout",
     "output_type": "stream",
     "text": [
      "✅ era5land_2016_03_q1: ['d2m', 'sp', 'ssrd', 'strd', 't2m', 'tp', 'u10', 'v10']\n"
     ]
    },
    {
     "name": "stderr",
     "output_type": "stream",
     "text": [
      "c:\\Users\\jessi\\AppData\\Local\\Programs\\Python\\Python311\\Lib\\site-packages\\cfgrib\\xarray_plugin.py:131: FutureWarning: In a future version, xarray will not decode timedelta values based on the presence of a timedelta-like units attribute by default. Instead it will rely on the presence of a timedelta64 dtype attribute, which is now xarray's default way of encoding timedelta64 values. To continue decoding timedeltas based on the presence of a timedelta-like units attribute, users will need to explicitly opt-in by passing True or CFTimedeltaCoder(decode_via_units=True) to decode_timedelta. To silence this warning, set decode_timedelta to True, False, or a 'CFTimedeltaCoder' instance.\n",
      "  vars, attrs, coord_names = xr.conventions.decode_cf_variables(\n",
      "Ignoring index file 'datos_grib_validos\\\\era5land_2016_04_q1\\\\data.grib.5b7b6.idx' older than GRIB file\n"
     ]
    },
    {
     "name": "stdout",
     "output_type": "stream",
     "text": [
      "✅ era5land_2016_03_q2: ['d2m', 'sp', 'ssrd', 'strd', 't2m', 'tp', 'u10', 'v10']\n"
     ]
    },
    {
     "name": "stderr",
     "output_type": "stream",
     "text": [
      "c:\\Users\\jessi\\AppData\\Local\\Programs\\Python\\Python311\\Lib\\site-packages\\cfgrib\\xarray_plugin.py:131: FutureWarning: In a future version, xarray will not decode timedelta values based on the presence of a timedelta-like units attribute by default. Instead it will rely on the presence of a timedelta64 dtype attribute, which is now xarray's default way of encoding timedelta64 values. To continue decoding timedeltas based on the presence of a timedelta-like units attribute, users will need to explicitly opt-in by passing True or CFTimedeltaCoder(decode_via_units=True) to decode_timedelta. To silence this warning, set decode_timedelta to True, False, or a 'CFTimedeltaCoder' instance.\n",
      "  vars, attrs, coord_names = xr.conventions.decode_cf_variables(\n",
      "Ignoring index file 'datos_grib_validos\\\\era5land_2016_04_q2\\\\data.grib.5b7b6.idx' older than GRIB file\n"
     ]
    },
    {
     "name": "stdout",
     "output_type": "stream",
     "text": [
      "✅ era5land_2016_04_q1: ['d2m', 'sp', 'ssrd', 'strd', 't2m', 'tp', 'u10', 'v10']\n"
     ]
    },
    {
     "name": "stderr",
     "output_type": "stream",
     "text": [
      "c:\\Users\\jessi\\AppData\\Local\\Programs\\Python\\Python311\\Lib\\site-packages\\cfgrib\\xarray_plugin.py:131: FutureWarning: In a future version, xarray will not decode timedelta values based on the presence of a timedelta-like units attribute by default. Instead it will rely on the presence of a timedelta64 dtype attribute, which is now xarray's default way of encoding timedelta64 values. To continue decoding timedeltas based on the presence of a timedelta-like units attribute, users will need to explicitly opt-in by passing True or CFTimedeltaCoder(decode_via_units=True) to decode_timedelta. To silence this warning, set decode_timedelta to True, False, or a 'CFTimedeltaCoder' instance.\n",
      "  vars, attrs, coord_names = xr.conventions.decode_cf_variables(\n",
      "Ignoring index file 'datos_grib_validos\\\\era5land_2016_05_q1\\\\data.grib.5b7b6.idx' older than GRIB file\n"
     ]
    },
    {
     "name": "stdout",
     "output_type": "stream",
     "text": [
      "✅ era5land_2016_04_q2: ['d2m', 'sp', 'ssrd', 'strd', 't2m', 'tp', 'u10', 'v10']\n"
     ]
    },
    {
     "name": "stderr",
     "output_type": "stream",
     "text": [
      "c:\\Users\\jessi\\AppData\\Local\\Programs\\Python\\Python311\\Lib\\site-packages\\cfgrib\\xarray_plugin.py:131: FutureWarning: In a future version, xarray will not decode timedelta values based on the presence of a timedelta-like units attribute by default. Instead it will rely on the presence of a timedelta64 dtype attribute, which is now xarray's default way of encoding timedelta64 values. To continue decoding timedeltas based on the presence of a timedelta-like units attribute, users will need to explicitly opt-in by passing True or CFTimedeltaCoder(decode_via_units=True) to decode_timedelta. To silence this warning, set decode_timedelta to True, False, or a 'CFTimedeltaCoder' instance.\n",
      "  vars, attrs, coord_names = xr.conventions.decode_cf_variables(\n",
      "Ignoring index file 'datos_grib_validos\\\\era5land_2016_05_q2\\\\data.grib.5b7b6.idx' older than GRIB file\n"
     ]
    },
    {
     "name": "stdout",
     "output_type": "stream",
     "text": [
      "✅ era5land_2016_05_q1: ['d2m', 'sp', 'ssrd', 'strd', 't2m', 'tp', 'u10', 'v10']\n"
     ]
    },
    {
     "name": "stderr",
     "output_type": "stream",
     "text": [
      "c:\\Users\\jessi\\AppData\\Local\\Programs\\Python\\Python311\\Lib\\site-packages\\cfgrib\\xarray_plugin.py:131: FutureWarning: In a future version, xarray will not decode timedelta values based on the presence of a timedelta-like units attribute by default. Instead it will rely on the presence of a timedelta64 dtype attribute, which is now xarray's default way of encoding timedelta64 values. To continue decoding timedeltas based on the presence of a timedelta-like units attribute, users will need to explicitly opt-in by passing True or CFTimedeltaCoder(decode_via_units=True) to decode_timedelta. To silence this warning, set decode_timedelta to True, False, or a 'CFTimedeltaCoder' instance.\n",
      "  vars, attrs, coord_names = xr.conventions.decode_cf_variables(\n",
      "Ignoring index file 'datos_grib_validos\\\\era5land_2016_06_q1\\\\data.grib.5b7b6.idx' older than GRIB file\n"
     ]
    },
    {
     "name": "stdout",
     "output_type": "stream",
     "text": [
      "✅ era5land_2016_05_q2: ['d2m', 'sp', 'ssrd', 'strd', 't2m', 'tp', 'u10', 'v10']\n"
     ]
    },
    {
     "name": "stderr",
     "output_type": "stream",
     "text": [
      "c:\\Users\\jessi\\AppData\\Local\\Programs\\Python\\Python311\\Lib\\site-packages\\cfgrib\\xarray_plugin.py:131: FutureWarning: In a future version, xarray will not decode timedelta values based on the presence of a timedelta-like units attribute by default. Instead it will rely on the presence of a timedelta64 dtype attribute, which is now xarray's default way of encoding timedelta64 values. To continue decoding timedeltas based on the presence of a timedelta-like units attribute, users will need to explicitly opt-in by passing True or CFTimedeltaCoder(decode_via_units=True) to decode_timedelta. To silence this warning, set decode_timedelta to True, False, or a 'CFTimedeltaCoder' instance.\n",
      "  vars, attrs, coord_names = xr.conventions.decode_cf_variables(\n",
      "Ignoring index file 'datos_grib_validos\\\\era5land_2016_06_q2\\\\data.grib.5b7b6.idx' older than GRIB file\n"
     ]
    },
    {
     "name": "stdout",
     "output_type": "stream",
     "text": [
      "✅ era5land_2016_06_q1: ['d2m', 'sp', 'ssrd', 'strd', 't2m', 'tp', 'u10', 'v10']\n"
     ]
    },
    {
     "name": "stderr",
     "output_type": "stream",
     "text": [
      "c:\\Users\\jessi\\AppData\\Local\\Programs\\Python\\Python311\\Lib\\site-packages\\cfgrib\\xarray_plugin.py:131: FutureWarning: In a future version, xarray will not decode timedelta values based on the presence of a timedelta-like units attribute by default. Instead it will rely on the presence of a timedelta64 dtype attribute, which is now xarray's default way of encoding timedelta64 values. To continue decoding timedeltas based on the presence of a timedelta-like units attribute, users will need to explicitly opt-in by passing True or CFTimedeltaCoder(decode_via_units=True) to decode_timedelta. To silence this warning, set decode_timedelta to True, False, or a 'CFTimedeltaCoder' instance.\n",
      "  vars, attrs, coord_names = xr.conventions.decode_cf_variables(\n",
      "Ignoring index file 'datos_grib_validos\\\\era5land_2016_07_q1\\\\data.grib.5b7b6.idx' older than GRIB file\n"
     ]
    },
    {
     "name": "stdout",
     "output_type": "stream",
     "text": [
      "✅ era5land_2016_06_q2: ['d2m', 'sp', 'ssrd', 'strd', 't2m', 'tp', 'u10', 'v10']\n"
     ]
    },
    {
     "name": "stderr",
     "output_type": "stream",
     "text": [
      "c:\\Users\\jessi\\AppData\\Local\\Programs\\Python\\Python311\\Lib\\site-packages\\cfgrib\\xarray_plugin.py:131: FutureWarning: In a future version, xarray will not decode timedelta values based on the presence of a timedelta-like units attribute by default. Instead it will rely on the presence of a timedelta64 dtype attribute, which is now xarray's default way of encoding timedelta64 values. To continue decoding timedeltas based on the presence of a timedelta-like units attribute, users will need to explicitly opt-in by passing True or CFTimedeltaCoder(decode_via_units=True) to decode_timedelta. To silence this warning, set decode_timedelta to True, False, or a 'CFTimedeltaCoder' instance.\n",
      "  vars, attrs, coord_names = xr.conventions.decode_cf_variables(\n",
      "Ignoring index file 'datos_grib_validos\\\\era5land_2016_07_q2\\\\data.grib.5b7b6.idx' older than GRIB file\n"
     ]
    },
    {
     "name": "stdout",
     "output_type": "stream",
     "text": [
      "✅ era5land_2016_07_q1: ['d2m', 'sp', 'ssrd', 'strd', 't2m', 'tp', 'u10', 'v10']\n"
     ]
    },
    {
     "name": "stderr",
     "output_type": "stream",
     "text": [
      "c:\\Users\\jessi\\AppData\\Local\\Programs\\Python\\Python311\\Lib\\site-packages\\cfgrib\\xarray_plugin.py:131: FutureWarning: In a future version, xarray will not decode timedelta values based on the presence of a timedelta-like units attribute by default. Instead it will rely on the presence of a timedelta64 dtype attribute, which is now xarray's default way of encoding timedelta64 values. To continue decoding timedeltas based on the presence of a timedelta-like units attribute, users will need to explicitly opt-in by passing True or CFTimedeltaCoder(decode_via_units=True) to decode_timedelta. To silence this warning, set decode_timedelta to True, False, or a 'CFTimedeltaCoder' instance.\n",
      "  vars, attrs, coord_names = xr.conventions.decode_cf_variables(\n",
      "Ignoring index file 'datos_grib_validos\\\\era5land_2016_08_q1\\\\data.grib.5b7b6.idx' older than GRIB file\n"
     ]
    },
    {
     "name": "stdout",
     "output_type": "stream",
     "text": [
      "✅ era5land_2016_07_q2: ['d2m', 'sp', 'ssrd', 'strd', 't2m', 'tp', 'u10', 'v10']\n"
     ]
    },
    {
     "name": "stderr",
     "output_type": "stream",
     "text": [
      "c:\\Users\\jessi\\AppData\\Local\\Programs\\Python\\Python311\\Lib\\site-packages\\cfgrib\\xarray_plugin.py:131: FutureWarning: In a future version, xarray will not decode timedelta values based on the presence of a timedelta-like units attribute by default. Instead it will rely on the presence of a timedelta64 dtype attribute, which is now xarray's default way of encoding timedelta64 values. To continue decoding timedeltas based on the presence of a timedelta-like units attribute, users will need to explicitly opt-in by passing True or CFTimedeltaCoder(decode_via_units=True) to decode_timedelta. To silence this warning, set decode_timedelta to True, False, or a 'CFTimedeltaCoder' instance.\n",
      "  vars, attrs, coord_names = xr.conventions.decode_cf_variables(\n",
      "Ignoring index file 'datos_grib_validos\\\\era5land_2016_08_q2\\\\data.grib.5b7b6.idx' older than GRIB file\n"
     ]
    },
    {
     "name": "stdout",
     "output_type": "stream",
     "text": [
      "✅ era5land_2016_08_q1: ['d2m', 'sp', 'ssrd', 'strd', 't2m', 'tp', 'u10', 'v10']\n"
     ]
    },
    {
     "name": "stderr",
     "output_type": "stream",
     "text": [
      "c:\\Users\\jessi\\AppData\\Local\\Programs\\Python\\Python311\\Lib\\site-packages\\cfgrib\\xarray_plugin.py:131: FutureWarning: In a future version, xarray will not decode timedelta values based on the presence of a timedelta-like units attribute by default. Instead it will rely on the presence of a timedelta64 dtype attribute, which is now xarray's default way of encoding timedelta64 values. To continue decoding timedeltas based on the presence of a timedelta-like units attribute, users will need to explicitly opt-in by passing True or CFTimedeltaCoder(decode_via_units=True) to decode_timedelta. To silence this warning, set decode_timedelta to True, False, or a 'CFTimedeltaCoder' instance.\n",
      "  vars, attrs, coord_names = xr.conventions.decode_cf_variables(\n",
      "Ignoring index file 'datos_grib_validos\\\\era5land_2016_09_q1\\\\data.grib.5b7b6.idx' older than GRIB file\n"
     ]
    },
    {
     "name": "stdout",
     "output_type": "stream",
     "text": [
      "✅ era5land_2016_08_q2: ['d2m', 'sp', 'ssrd', 'strd', 't2m', 'tp', 'u10', 'v10']\n"
     ]
    },
    {
     "name": "stderr",
     "output_type": "stream",
     "text": [
      "c:\\Users\\jessi\\AppData\\Local\\Programs\\Python\\Python311\\Lib\\site-packages\\cfgrib\\xarray_plugin.py:131: FutureWarning: In a future version, xarray will not decode timedelta values based on the presence of a timedelta-like units attribute by default. Instead it will rely on the presence of a timedelta64 dtype attribute, which is now xarray's default way of encoding timedelta64 values. To continue decoding timedeltas based on the presence of a timedelta-like units attribute, users will need to explicitly opt-in by passing True or CFTimedeltaCoder(decode_via_units=True) to decode_timedelta. To silence this warning, set decode_timedelta to True, False, or a 'CFTimedeltaCoder' instance.\n",
      "  vars, attrs, coord_names = xr.conventions.decode_cf_variables(\n",
      "Ignoring index file 'datos_grib_validos\\\\era5land_2016_09_q2\\\\data.grib.5b7b6.idx' older than GRIB file\n"
     ]
    },
    {
     "name": "stdout",
     "output_type": "stream",
     "text": [
      "✅ era5land_2016_09_q1: ['d2m', 'sp', 'ssrd', 'strd', 't2m', 'tp', 'u10', 'v10']\n"
     ]
    },
    {
     "name": "stderr",
     "output_type": "stream",
     "text": [
      "c:\\Users\\jessi\\AppData\\Local\\Programs\\Python\\Python311\\Lib\\site-packages\\cfgrib\\xarray_plugin.py:131: FutureWarning: In a future version, xarray will not decode timedelta values based on the presence of a timedelta-like units attribute by default. Instead it will rely on the presence of a timedelta64 dtype attribute, which is now xarray's default way of encoding timedelta64 values. To continue decoding timedeltas based on the presence of a timedelta-like units attribute, users will need to explicitly opt-in by passing True or CFTimedeltaCoder(decode_via_units=True) to decode_timedelta. To silence this warning, set decode_timedelta to True, False, or a 'CFTimedeltaCoder' instance.\n",
      "  vars, attrs, coord_names = xr.conventions.decode_cf_variables(\n",
      "Ignoring index file 'datos_grib_validos\\\\era5land_2016_10_q1\\\\data.grib.5b7b6.idx' older than GRIB file\n"
     ]
    },
    {
     "name": "stdout",
     "output_type": "stream",
     "text": [
      "✅ era5land_2016_09_q2: ['d2m', 'sp', 'ssrd', 'strd', 't2m', 'tp', 'u10', 'v10']\n"
     ]
    },
    {
     "name": "stderr",
     "output_type": "stream",
     "text": [
      "c:\\Users\\jessi\\AppData\\Local\\Programs\\Python\\Python311\\Lib\\site-packages\\cfgrib\\xarray_plugin.py:131: FutureWarning: In a future version, xarray will not decode timedelta values based on the presence of a timedelta-like units attribute by default. Instead it will rely on the presence of a timedelta64 dtype attribute, which is now xarray's default way of encoding timedelta64 values. To continue decoding timedeltas based on the presence of a timedelta-like units attribute, users will need to explicitly opt-in by passing True or CFTimedeltaCoder(decode_via_units=True) to decode_timedelta. To silence this warning, set decode_timedelta to True, False, or a 'CFTimedeltaCoder' instance.\n",
      "  vars, attrs, coord_names = xr.conventions.decode_cf_variables(\n",
      "Ignoring index file 'datos_grib_validos\\\\era5land_2016_10_q2\\\\data.grib.5b7b6.idx' older than GRIB file\n"
     ]
    },
    {
     "name": "stdout",
     "output_type": "stream",
     "text": [
      "✅ era5land_2016_10_q1: ['d2m', 'sp', 'ssrd', 'strd', 't2m', 'tp', 'u10', 'v10']\n"
     ]
    },
    {
     "name": "stderr",
     "output_type": "stream",
     "text": [
      "c:\\Users\\jessi\\AppData\\Local\\Programs\\Python\\Python311\\Lib\\site-packages\\cfgrib\\xarray_plugin.py:131: FutureWarning: In a future version, xarray will not decode timedelta values based on the presence of a timedelta-like units attribute by default. Instead it will rely on the presence of a timedelta64 dtype attribute, which is now xarray's default way of encoding timedelta64 values. To continue decoding timedeltas based on the presence of a timedelta-like units attribute, users will need to explicitly opt-in by passing True or CFTimedeltaCoder(decode_via_units=True) to decode_timedelta. To silence this warning, set decode_timedelta to True, False, or a 'CFTimedeltaCoder' instance.\n",
      "  vars, attrs, coord_names = xr.conventions.decode_cf_variables(\n",
      "Ignoring index file 'datos_grib_validos\\\\era5land_2016_11_q1\\\\data.grib.5b7b6.idx' older than GRIB file\n"
     ]
    },
    {
     "name": "stdout",
     "output_type": "stream",
     "text": [
      "✅ era5land_2016_10_q2: ['d2m', 'sp', 'ssrd', 'strd', 't2m', 'tp', 'u10', 'v10']\n"
     ]
    },
    {
     "name": "stderr",
     "output_type": "stream",
     "text": [
      "c:\\Users\\jessi\\AppData\\Local\\Programs\\Python\\Python311\\Lib\\site-packages\\cfgrib\\xarray_plugin.py:131: FutureWarning: In a future version, xarray will not decode timedelta values based on the presence of a timedelta-like units attribute by default. Instead it will rely on the presence of a timedelta64 dtype attribute, which is now xarray's default way of encoding timedelta64 values. To continue decoding timedeltas based on the presence of a timedelta-like units attribute, users will need to explicitly opt-in by passing True or CFTimedeltaCoder(decode_via_units=True) to decode_timedelta. To silence this warning, set decode_timedelta to True, False, or a 'CFTimedeltaCoder' instance.\n",
      "  vars, attrs, coord_names = xr.conventions.decode_cf_variables(\n",
      "Ignoring index file 'datos_grib_validos\\\\era5land_2016_11_q2\\\\data.grib.5b7b6.idx' older than GRIB file\n"
     ]
    },
    {
     "name": "stdout",
     "output_type": "stream",
     "text": [
      "✅ era5land_2016_11_q1: ['d2m', 'sp', 'ssrd', 'strd', 't2m', 'tp', 'u10', 'v10']\n"
     ]
    },
    {
     "name": "stderr",
     "output_type": "stream",
     "text": [
      "c:\\Users\\jessi\\AppData\\Local\\Programs\\Python\\Python311\\Lib\\site-packages\\cfgrib\\xarray_plugin.py:131: FutureWarning: In a future version, xarray will not decode timedelta values based on the presence of a timedelta-like units attribute by default. Instead it will rely on the presence of a timedelta64 dtype attribute, which is now xarray's default way of encoding timedelta64 values. To continue decoding timedeltas based on the presence of a timedelta-like units attribute, users will need to explicitly opt-in by passing True or CFTimedeltaCoder(decode_via_units=True) to decode_timedelta. To silence this warning, set decode_timedelta to True, False, or a 'CFTimedeltaCoder' instance.\n",
      "  vars, attrs, coord_names = xr.conventions.decode_cf_variables(\n",
      "Ignoring index file 'datos_grib_validos\\\\era5land_2016_12_q1\\\\data.grib.5b7b6.idx' older than GRIB file\n"
     ]
    },
    {
     "name": "stdout",
     "output_type": "stream",
     "text": [
      "✅ era5land_2016_11_q2: ['d2m', 'sp', 'ssrd', 'strd', 't2m', 'tp', 'u10', 'v10']\n"
     ]
    },
    {
     "name": "stderr",
     "output_type": "stream",
     "text": [
      "c:\\Users\\jessi\\AppData\\Local\\Programs\\Python\\Python311\\Lib\\site-packages\\cfgrib\\xarray_plugin.py:131: FutureWarning: In a future version, xarray will not decode timedelta values based on the presence of a timedelta-like units attribute by default. Instead it will rely on the presence of a timedelta64 dtype attribute, which is now xarray's default way of encoding timedelta64 values. To continue decoding timedeltas based on the presence of a timedelta-like units attribute, users will need to explicitly opt-in by passing True or CFTimedeltaCoder(decode_via_units=True) to decode_timedelta. To silence this warning, set decode_timedelta to True, False, or a 'CFTimedeltaCoder' instance.\n",
      "  vars, attrs, coord_names = xr.conventions.decode_cf_variables(\n",
      "Ignoring index file 'datos_grib_validos\\\\era5land_2016_12_q2\\\\data.grib.5b7b6.idx' older than GRIB file\n"
     ]
    },
    {
     "name": "stdout",
     "output_type": "stream",
     "text": [
      "✅ era5land_2016_12_q1: ['d2m', 'sp', 'ssrd', 'strd', 't2m', 'tp', 'u10', 'v10']\n"
     ]
    },
    {
     "name": "stderr",
     "output_type": "stream",
     "text": [
      "c:\\Users\\jessi\\AppData\\Local\\Programs\\Python\\Python311\\Lib\\site-packages\\cfgrib\\xarray_plugin.py:131: FutureWarning: In a future version, xarray will not decode timedelta values based on the presence of a timedelta-like units attribute by default. Instead it will rely on the presence of a timedelta64 dtype attribute, which is now xarray's default way of encoding timedelta64 values. To continue decoding timedeltas based on the presence of a timedelta-like units attribute, users will need to explicitly opt-in by passing True or CFTimedeltaCoder(decode_via_units=True) to decode_timedelta. To silence this warning, set decode_timedelta to True, False, or a 'CFTimedeltaCoder' instance.\n",
      "  vars, attrs, coord_names = xr.conventions.decode_cf_variables(\n",
      "Ignoring index file 'datos_grib_validos\\\\era5land_2017_01_q1\\\\data.grib.5b7b6.idx' older than GRIB file\n"
     ]
    },
    {
     "name": "stdout",
     "output_type": "stream",
     "text": [
      "✅ era5land_2016_12_q2: ['d2m', 'sp', 'ssrd', 'strd', 't2m', 'tp', 'u10', 'v10']\n"
     ]
    },
    {
     "name": "stderr",
     "output_type": "stream",
     "text": [
      "c:\\Users\\jessi\\AppData\\Local\\Programs\\Python\\Python311\\Lib\\site-packages\\cfgrib\\xarray_plugin.py:131: FutureWarning: In a future version, xarray will not decode timedelta values based on the presence of a timedelta-like units attribute by default. Instead it will rely on the presence of a timedelta64 dtype attribute, which is now xarray's default way of encoding timedelta64 values. To continue decoding timedeltas based on the presence of a timedelta-like units attribute, users will need to explicitly opt-in by passing True or CFTimedeltaCoder(decode_via_units=True) to decode_timedelta. To silence this warning, set decode_timedelta to True, False, or a 'CFTimedeltaCoder' instance.\n",
      "  vars, attrs, coord_names = xr.conventions.decode_cf_variables(\n",
      "Ignoring index file 'datos_grib_validos\\\\era5land_2017_01_q2\\\\data.grib.5b7b6.idx' older than GRIB file\n"
     ]
    },
    {
     "name": "stdout",
     "output_type": "stream",
     "text": [
      "✅ era5land_2017_01_q1: ['d2m', 'sp', 'ssrd', 'strd', 't2m', 'tp', 'u10', 'v10']\n"
     ]
    },
    {
     "name": "stderr",
     "output_type": "stream",
     "text": [
      "c:\\Users\\jessi\\AppData\\Local\\Programs\\Python\\Python311\\Lib\\site-packages\\cfgrib\\xarray_plugin.py:131: FutureWarning: In a future version, xarray will not decode timedelta values based on the presence of a timedelta-like units attribute by default. Instead it will rely on the presence of a timedelta64 dtype attribute, which is now xarray's default way of encoding timedelta64 values. To continue decoding timedeltas based on the presence of a timedelta-like units attribute, users will need to explicitly opt-in by passing True or CFTimedeltaCoder(decode_via_units=True) to decode_timedelta. To silence this warning, set decode_timedelta to True, False, or a 'CFTimedeltaCoder' instance.\n",
      "  vars, attrs, coord_names = xr.conventions.decode_cf_variables(\n",
      "Ignoring index file 'datos_grib_validos\\\\era5land_2017_02_q1\\\\data.grib.5b7b6.idx' older than GRIB file\n"
     ]
    },
    {
     "name": "stdout",
     "output_type": "stream",
     "text": [
      "✅ era5land_2017_01_q2: ['d2m', 'sp', 'ssrd', 'strd', 't2m', 'tp', 'u10', 'v10']\n"
     ]
    },
    {
     "name": "stderr",
     "output_type": "stream",
     "text": [
      "c:\\Users\\jessi\\AppData\\Local\\Programs\\Python\\Python311\\Lib\\site-packages\\cfgrib\\xarray_plugin.py:131: FutureWarning: In a future version, xarray will not decode timedelta values based on the presence of a timedelta-like units attribute by default. Instead it will rely on the presence of a timedelta64 dtype attribute, which is now xarray's default way of encoding timedelta64 values. To continue decoding timedeltas based on the presence of a timedelta-like units attribute, users will need to explicitly opt-in by passing True or CFTimedeltaCoder(decode_via_units=True) to decode_timedelta. To silence this warning, set decode_timedelta to True, False, or a 'CFTimedeltaCoder' instance.\n",
      "  vars, attrs, coord_names = xr.conventions.decode_cf_variables(\n",
      "Ignoring index file 'datos_grib_validos\\\\era5land_2017_02_q2\\\\data.grib.5b7b6.idx' older than GRIB file\n"
     ]
    },
    {
     "name": "stdout",
     "output_type": "stream",
     "text": [
      "✅ era5land_2017_02_q1: ['d2m', 'sp', 'ssrd', 'strd', 't2m', 'tp', 'u10', 'v10']\n"
     ]
    },
    {
     "name": "stderr",
     "output_type": "stream",
     "text": [
      "c:\\Users\\jessi\\AppData\\Local\\Programs\\Python\\Python311\\Lib\\site-packages\\cfgrib\\xarray_plugin.py:131: FutureWarning: In a future version, xarray will not decode timedelta values based on the presence of a timedelta-like units attribute by default. Instead it will rely on the presence of a timedelta64 dtype attribute, which is now xarray's default way of encoding timedelta64 values. To continue decoding timedeltas based on the presence of a timedelta-like units attribute, users will need to explicitly opt-in by passing True or CFTimedeltaCoder(decode_via_units=True) to decode_timedelta. To silence this warning, set decode_timedelta to True, False, or a 'CFTimedeltaCoder' instance.\n",
      "  vars, attrs, coord_names = xr.conventions.decode_cf_variables(\n",
      "Ignoring index file 'datos_grib_validos\\\\era5land_2017_03_q1\\\\data.grib.5b7b6.idx' older than GRIB file\n"
     ]
    },
    {
     "name": "stdout",
     "output_type": "stream",
     "text": [
      "✅ era5land_2017_02_q2: ['d2m', 'sp', 'ssrd', 'strd', 't2m', 'tp', 'u10', 'v10']\n"
     ]
    },
    {
     "name": "stderr",
     "output_type": "stream",
     "text": [
      "c:\\Users\\jessi\\AppData\\Local\\Programs\\Python\\Python311\\Lib\\site-packages\\cfgrib\\xarray_plugin.py:131: FutureWarning: In a future version, xarray will not decode timedelta values based on the presence of a timedelta-like units attribute by default. Instead it will rely on the presence of a timedelta64 dtype attribute, which is now xarray's default way of encoding timedelta64 values. To continue decoding timedeltas based on the presence of a timedelta-like units attribute, users will need to explicitly opt-in by passing True or CFTimedeltaCoder(decode_via_units=True) to decode_timedelta. To silence this warning, set decode_timedelta to True, False, or a 'CFTimedeltaCoder' instance.\n",
      "  vars, attrs, coord_names = xr.conventions.decode_cf_variables(\n",
      "Ignoring index file 'datos_grib_validos\\\\era5land_2017_03_q2\\\\data.grib.5b7b6.idx' older than GRIB file\n"
     ]
    },
    {
     "name": "stdout",
     "output_type": "stream",
     "text": [
      "✅ era5land_2017_03_q1: ['d2m', 'sp', 'ssrd', 'strd', 't2m', 'tp', 'u10', 'v10']\n"
     ]
    },
    {
     "name": "stderr",
     "output_type": "stream",
     "text": [
      "c:\\Users\\jessi\\AppData\\Local\\Programs\\Python\\Python311\\Lib\\site-packages\\cfgrib\\xarray_plugin.py:131: FutureWarning: In a future version, xarray will not decode timedelta values based on the presence of a timedelta-like units attribute by default. Instead it will rely on the presence of a timedelta64 dtype attribute, which is now xarray's default way of encoding timedelta64 values. To continue decoding timedeltas based on the presence of a timedelta-like units attribute, users will need to explicitly opt-in by passing True or CFTimedeltaCoder(decode_via_units=True) to decode_timedelta. To silence this warning, set decode_timedelta to True, False, or a 'CFTimedeltaCoder' instance.\n",
      "  vars, attrs, coord_names = xr.conventions.decode_cf_variables(\n",
      "Ignoring index file 'datos_grib_validos\\\\era5land_2017_04_q1\\\\data.grib.5b7b6.idx' older than GRIB file\n"
     ]
    },
    {
     "name": "stdout",
     "output_type": "stream",
     "text": [
      "✅ era5land_2017_03_q2: ['d2m', 'sp', 'ssrd', 'strd', 't2m', 'tp', 'u10', 'v10']\n"
     ]
    },
    {
     "name": "stderr",
     "output_type": "stream",
     "text": [
      "c:\\Users\\jessi\\AppData\\Local\\Programs\\Python\\Python311\\Lib\\site-packages\\cfgrib\\xarray_plugin.py:131: FutureWarning: In a future version, xarray will not decode timedelta values based on the presence of a timedelta-like units attribute by default. Instead it will rely on the presence of a timedelta64 dtype attribute, which is now xarray's default way of encoding timedelta64 values. To continue decoding timedeltas based on the presence of a timedelta-like units attribute, users will need to explicitly opt-in by passing True or CFTimedeltaCoder(decode_via_units=True) to decode_timedelta. To silence this warning, set decode_timedelta to True, False, or a 'CFTimedeltaCoder' instance.\n",
      "  vars, attrs, coord_names = xr.conventions.decode_cf_variables(\n",
      "Ignoring index file 'datos_grib_validos\\\\era5land_2017_04_q2\\\\data.grib.5b7b6.idx' older than GRIB file\n"
     ]
    },
    {
     "name": "stdout",
     "output_type": "stream",
     "text": [
      "✅ era5land_2017_04_q1: ['d2m', 'sp', 'ssrd', 'strd', 't2m', 'tp', 'u10', 'v10']\n"
     ]
    },
    {
     "name": "stderr",
     "output_type": "stream",
     "text": [
      "c:\\Users\\jessi\\AppData\\Local\\Programs\\Python\\Python311\\Lib\\site-packages\\cfgrib\\xarray_plugin.py:131: FutureWarning: In a future version, xarray will not decode timedelta values based on the presence of a timedelta-like units attribute by default. Instead it will rely on the presence of a timedelta64 dtype attribute, which is now xarray's default way of encoding timedelta64 values. To continue decoding timedeltas based on the presence of a timedelta-like units attribute, users will need to explicitly opt-in by passing True or CFTimedeltaCoder(decode_via_units=True) to decode_timedelta. To silence this warning, set decode_timedelta to True, False, or a 'CFTimedeltaCoder' instance.\n",
      "  vars, attrs, coord_names = xr.conventions.decode_cf_variables(\n",
      "Ignoring index file 'datos_grib_validos\\\\era5land_2017_05_q1\\\\data.grib.5b7b6.idx' older than GRIB file\n"
     ]
    },
    {
     "name": "stdout",
     "output_type": "stream",
     "text": [
      "✅ era5land_2017_04_q2: ['d2m', 'sp', 'ssrd', 'strd', 't2m', 'tp', 'u10', 'v10']\n"
     ]
    },
    {
     "name": "stderr",
     "output_type": "stream",
     "text": [
      "c:\\Users\\jessi\\AppData\\Local\\Programs\\Python\\Python311\\Lib\\site-packages\\cfgrib\\xarray_plugin.py:131: FutureWarning: In a future version, xarray will not decode timedelta values based on the presence of a timedelta-like units attribute by default. Instead it will rely on the presence of a timedelta64 dtype attribute, which is now xarray's default way of encoding timedelta64 values. To continue decoding timedeltas based on the presence of a timedelta-like units attribute, users will need to explicitly opt-in by passing True or CFTimedeltaCoder(decode_via_units=True) to decode_timedelta. To silence this warning, set decode_timedelta to True, False, or a 'CFTimedeltaCoder' instance.\n",
      "  vars, attrs, coord_names = xr.conventions.decode_cf_variables(\n",
      "Ignoring index file 'datos_grib_validos\\\\era5land_2017_05_q2\\\\data.grib.5b7b6.idx' older than GRIB file\n"
     ]
    },
    {
     "name": "stdout",
     "output_type": "stream",
     "text": [
      "✅ era5land_2017_05_q1: ['d2m', 'sp', 'ssrd', 'strd', 't2m', 'tp', 'u10', 'v10']\n"
     ]
    },
    {
     "name": "stderr",
     "output_type": "stream",
     "text": [
      "c:\\Users\\jessi\\AppData\\Local\\Programs\\Python\\Python311\\Lib\\site-packages\\cfgrib\\xarray_plugin.py:131: FutureWarning: In a future version, xarray will not decode timedelta values based on the presence of a timedelta-like units attribute by default. Instead it will rely on the presence of a timedelta64 dtype attribute, which is now xarray's default way of encoding timedelta64 values. To continue decoding timedeltas based on the presence of a timedelta-like units attribute, users will need to explicitly opt-in by passing True or CFTimedeltaCoder(decode_via_units=True) to decode_timedelta. To silence this warning, set decode_timedelta to True, False, or a 'CFTimedeltaCoder' instance.\n",
      "  vars, attrs, coord_names = xr.conventions.decode_cf_variables(\n",
      "Ignoring index file 'datos_grib_validos\\\\era5land_2017_06_q1\\\\data.grib.5b7b6.idx' older than GRIB file\n"
     ]
    },
    {
     "name": "stdout",
     "output_type": "stream",
     "text": [
      "✅ era5land_2017_05_q2: ['d2m', 'sp', 'ssrd', 'strd', 't2m', 'tp', 'u10', 'v10']\n"
     ]
    },
    {
     "name": "stderr",
     "output_type": "stream",
     "text": [
      "c:\\Users\\jessi\\AppData\\Local\\Programs\\Python\\Python311\\Lib\\site-packages\\cfgrib\\xarray_plugin.py:131: FutureWarning: In a future version, xarray will not decode timedelta values based on the presence of a timedelta-like units attribute by default. Instead it will rely on the presence of a timedelta64 dtype attribute, which is now xarray's default way of encoding timedelta64 values. To continue decoding timedeltas based on the presence of a timedelta-like units attribute, users will need to explicitly opt-in by passing True or CFTimedeltaCoder(decode_via_units=True) to decode_timedelta. To silence this warning, set decode_timedelta to True, False, or a 'CFTimedeltaCoder' instance.\n",
      "  vars, attrs, coord_names = xr.conventions.decode_cf_variables(\n",
      "Ignoring index file 'datos_grib_validos\\\\era5land_2017_06_q2\\\\data.grib.5b7b6.idx' older than GRIB file\n"
     ]
    },
    {
     "name": "stdout",
     "output_type": "stream",
     "text": [
      "✅ era5land_2017_06_q1: ['d2m', 'sp', 'ssrd', 'strd', 't2m', 'tp', 'u10', 'v10']\n"
     ]
    },
    {
     "name": "stderr",
     "output_type": "stream",
     "text": [
      "c:\\Users\\jessi\\AppData\\Local\\Programs\\Python\\Python311\\Lib\\site-packages\\cfgrib\\xarray_plugin.py:131: FutureWarning: In a future version, xarray will not decode timedelta values based on the presence of a timedelta-like units attribute by default. Instead it will rely on the presence of a timedelta64 dtype attribute, which is now xarray's default way of encoding timedelta64 values. To continue decoding timedeltas based on the presence of a timedelta-like units attribute, users will need to explicitly opt-in by passing True or CFTimedeltaCoder(decode_via_units=True) to decode_timedelta. To silence this warning, set decode_timedelta to True, False, or a 'CFTimedeltaCoder' instance.\n",
      "  vars, attrs, coord_names = xr.conventions.decode_cf_variables(\n",
      "Ignoring index file 'datos_grib_validos\\\\era5land_2017_07_q1\\\\data.grib.5b7b6.idx' older than GRIB file\n"
     ]
    },
    {
     "name": "stdout",
     "output_type": "stream",
     "text": [
      "✅ era5land_2017_06_q2: ['d2m', 'sp', 'ssrd', 'strd', 't2m', 'tp', 'u10', 'v10']\n"
     ]
    },
    {
     "name": "stderr",
     "output_type": "stream",
     "text": [
      "c:\\Users\\jessi\\AppData\\Local\\Programs\\Python\\Python311\\Lib\\site-packages\\cfgrib\\xarray_plugin.py:131: FutureWarning: In a future version, xarray will not decode timedelta values based on the presence of a timedelta-like units attribute by default. Instead it will rely on the presence of a timedelta64 dtype attribute, which is now xarray's default way of encoding timedelta64 values. To continue decoding timedeltas based on the presence of a timedelta-like units attribute, users will need to explicitly opt-in by passing True or CFTimedeltaCoder(decode_via_units=True) to decode_timedelta. To silence this warning, set decode_timedelta to True, False, or a 'CFTimedeltaCoder' instance.\n",
      "  vars, attrs, coord_names = xr.conventions.decode_cf_variables(\n",
      "Ignoring index file 'datos_grib_validos\\\\era5land_2017_07_q2\\\\data.grib.5b7b6.idx' older than GRIB file\n"
     ]
    },
    {
     "name": "stdout",
     "output_type": "stream",
     "text": [
      "✅ era5land_2017_07_q1: ['d2m', 'sp', 'ssrd', 'strd', 't2m', 'tp', 'u10', 'v10']\n"
     ]
    },
    {
     "name": "stderr",
     "output_type": "stream",
     "text": [
      "c:\\Users\\jessi\\AppData\\Local\\Programs\\Python\\Python311\\Lib\\site-packages\\cfgrib\\xarray_plugin.py:131: FutureWarning: In a future version, xarray will not decode timedelta values based on the presence of a timedelta-like units attribute by default. Instead it will rely on the presence of a timedelta64 dtype attribute, which is now xarray's default way of encoding timedelta64 values. To continue decoding timedeltas based on the presence of a timedelta-like units attribute, users will need to explicitly opt-in by passing True or CFTimedeltaCoder(decode_via_units=True) to decode_timedelta. To silence this warning, set decode_timedelta to True, False, or a 'CFTimedeltaCoder' instance.\n",
      "  vars, attrs, coord_names = xr.conventions.decode_cf_variables(\n",
      "Ignoring index file 'datos_grib_validos\\\\era5land_2017_08_q1\\\\data.grib.5b7b6.idx' older than GRIB file\n"
     ]
    },
    {
     "name": "stdout",
     "output_type": "stream",
     "text": [
      "✅ era5land_2017_07_q2: ['d2m', 'sp', 'ssrd', 'strd', 't2m', 'tp', 'u10', 'v10']\n"
     ]
    },
    {
     "name": "stderr",
     "output_type": "stream",
     "text": [
      "c:\\Users\\jessi\\AppData\\Local\\Programs\\Python\\Python311\\Lib\\site-packages\\cfgrib\\xarray_plugin.py:131: FutureWarning: In a future version, xarray will not decode timedelta values based on the presence of a timedelta-like units attribute by default. Instead it will rely on the presence of a timedelta64 dtype attribute, which is now xarray's default way of encoding timedelta64 values. To continue decoding timedeltas based on the presence of a timedelta-like units attribute, users will need to explicitly opt-in by passing True or CFTimedeltaCoder(decode_via_units=True) to decode_timedelta. To silence this warning, set decode_timedelta to True, False, or a 'CFTimedeltaCoder' instance.\n",
      "  vars, attrs, coord_names = xr.conventions.decode_cf_variables(\n",
      "Ignoring index file 'datos_grib_validos\\\\era5land_2017_08_q2\\\\data.grib.5b7b6.idx' older than GRIB file\n"
     ]
    },
    {
     "name": "stdout",
     "output_type": "stream",
     "text": [
      "✅ era5land_2017_08_q1: ['d2m', 'sp', 'ssrd', 'strd', 't2m', 'tp', 'u10', 'v10']\n"
     ]
    },
    {
     "name": "stderr",
     "output_type": "stream",
     "text": [
      "c:\\Users\\jessi\\AppData\\Local\\Programs\\Python\\Python311\\Lib\\site-packages\\cfgrib\\xarray_plugin.py:131: FutureWarning: In a future version, xarray will not decode timedelta values based on the presence of a timedelta-like units attribute by default. Instead it will rely on the presence of a timedelta64 dtype attribute, which is now xarray's default way of encoding timedelta64 values. To continue decoding timedeltas based on the presence of a timedelta-like units attribute, users will need to explicitly opt-in by passing True or CFTimedeltaCoder(decode_via_units=True) to decode_timedelta. To silence this warning, set decode_timedelta to True, False, or a 'CFTimedeltaCoder' instance.\n",
      "  vars, attrs, coord_names = xr.conventions.decode_cf_variables(\n",
      "Ignoring index file 'datos_grib_validos\\\\era5land_2017_09_q1\\\\data.grib.5b7b6.idx' older than GRIB file\n"
     ]
    },
    {
     "name": "stdout",
     "output_type": "stream",
     "text": [
      "✅ era5land_2017_08_q2: ['d2m', 'sp', 'ssrd', 'strd', 't2m', 'tp', 'u10', 'v10']\n"
     ]
    },
    {
     "name": "stderr",
     "output_type": "stream",
     "text": [
      "c:\\Users\\jessi\\AppData\\Local\\Programs\\Python\\Python311\\Lib\\site-packages\\cfgrib\\xarray_plugin.py:131: FutureWarning: In a future version, xarray will not decode timedelta values based on the presence of a timedelta-like units attribute by default. Instead it will rely on the presence of a timedelta64 dtype attribute, which is now xarray's default way of encoding timedelta64 values. To continue decoding timedeltas based on the presence of a timedelta-like units attribute, users will need to explicitly opt-in by passing True or CFTimedeltaCoder(decode_via_units=True) to decode_timedelta. To silence this warning, set decode_timedelta to True, False, or a 'CFTimedeltaCoder' instance.\n",
      "  vars, attrs, coord_names = xr.conventions.decode_cf_variables(\n",
      "Ignoring index file 'datos_grib_validos\\\\era5land_2017_09_q2\\\\data.grib.5b7b6.idx' older than GRIB file\n"
     ]
    },
    {
     "name": "stdout",
     "output_type": "stream",
     "text": [
      "✅ era5land_2017_09_q1: ['d2m', 'sp', 'ssrd', 'strd', 't2m', 'tp', 'u10', 'v10']\n"
     ]
    },
    {
     "name": "stderr",
     "output_type": "stream",
     "text": [
      "c:\\Users\\jessi\\AppData\\Local\\Programs\\Python\\Python311\\Lib\\site-packages\\cfgrib\\xarray_plugin.py:131: FutureWarning: In a future version, xarray will not decode timedelta values based on the presence of a timedelta-like units attribute by default. Instead it will rely on the presence of a timedelta64 dtype attribute, which is now xarray's default way of encoding timedelta64 values. To continue decoding timedeltas based on the presence of a timedelta-like units attribute, users will need to explicitly opt-in by passing True or CFTimedeltaCoder(decode_via_units=True) to decode_timedelta. To silence this warning, set decode_timedelta to True, False, or a 'CFTimedeltaCoder' instance.\n",
      "  vars, attrs, coord_names = xr.conventions.decode_cf_variables(\n",
      "Ignoring index file 'datos_grib_validos\\\\era5land_2017_10_q1\\\\data.grib.5b7b6.idx' older than GRIB file\n"
     ]
    },
    {
     "name": "stdout",
     "output_type": "stream",
     "text": [
      "✅ era5land_2017_09_q2: ['d2m', 'sp', 'ssrd', 'strd', 't2m', 'tp', 'u10', 'v10']\n"
     ]
    },
    {
     "name": "stderr",
     "output_type": "stream",
     "text": [
      "c:\\Users\\jessi\\AppData\\Local\\Programs\\Python\\Python311\\Lib\\site-packages\\cfgrib\\xarray_plugin.py:131: FutureWarning: In a future version, xarray will not decode timedelta values based on the presence of a timedelta-like units attribute by default. Instead it will rely on the presence of a timedelta64 dtype attribute, which is now xarray's default way of encoding timedelta64 values. To continue decoding timedeltas based on the presence of a timedelta-like units attribute, users will need to explicitly opt-in by passing True or CFTimedeltaCoder(decode_via_units=True) to decode_timedelta. To silence this warning, set decode_timedelta to True, False, or a 'CFTimedeltaCoder' instance.\n",
      "  vars, attrs, coord_names = xr.conventions.decode_cf_variables(\n",
      "Ignoring index file 'datos_grib_validos\\\\era5land_2017_10_q2\\\\data.grib.5b7b6.idx' older than GRIB file\n"
     ]
    },
    {
     "name": "stdout",
     "output_type": "stream",
     "text": [
      "✅ era5land_2017_10_q1: ['d2m', 'sp', 'ssrd', 'strd', 't2m', 'tp', 'u10', 'v10']\n"
     ]
    },
    {
     "name": "stderr",
     "output_type": "stream",
     "text": [
      "c:\\Users\\jessi\\AppData\\Local\\Programs\\Python\\Python311\\Lib\\site-packages\\cfgrib\\xarray_plugin.py:131: FutureWarning: In a future version, xarray will not decode timedelta values based on the presence of a timedelta-like units attribute by default. Instead it will rely on the presence of a timedelta64 dtype attribute, which is now xarray's default way of encoding timedelta64 values. To continue decoding timedeltas based on the presence of a timedelta-like units attribute, users will need to explicitly opt-in by passing True or CFTimedeltaCoder(decode_via_units=True) to decode_timedelta. To silence this warning, set decode_timedelta to True, False, or a 'CFTimedeltaCoder' instance.\n",
      "  vars, attrs, coord_names = xr.conventions.decode_cf_variables(\n",
      "Ignoring index file 'datos_grib_validos\\\\era5land_2017_11_q1\\\\data.grib.5b7b6.idx' older than GRIB file\n"
     ]
    },
    {
     "name": "stdout",
     "output_type": "stream",
     "text": [
      "✅ era5land_2017_10_q2: ['d2m', 'sp', 'ssrd', 'strd', 't2m', 'tp', 'u10', 'v10']\n"
     ]
    },
    {
     "name": "stderr",
     "output_type": "stream",
     "text": [
      "c:\\Users\\jessi\\AppData\\Local\\Programs\\Python\\Python311\\Lib\\site-packages\\cfgrib\\xarray_plugin.py:131: FutureWarning: In a future version, xarray will not decode timedelta values based on the presence of a timedelta-like units attribute by default. Instead it will rely on the presence of a timedelta64 dtype attribute, which is now xarray's default way of encoding timedelta64 values. To continue decoding timedeltas based on the presence of a timedelta-like units attribute, users will need to explicitly opt-in by passing True or CFTimedeltaCoder(decode_via_units=True) to decode_timedelta. To silence this warning, set decode_timedelta to True, False, or a 'CFTimedeltaCoder' instance.\n",
      "  vars, attrs, coord_names = xr.conventions.decode_cf_variables(\n",
      "Ignoring index file 'datos_grib_validos\\\\era5land_2017_11_q2\\\\data.grib.5b7b6.idx' older than GRIB file\n"
     ]
    },
    {
     "name": "stdout",
     "output_type": "stream",
     "text": [
      "✅ era5land_2017_11_q1: ['d2m', 'sp', 'ssrd', 'strd', 't2m', 'tp', 'u10', 'v10']\n"
     ]
    },
    {
     "name": "stderr",
     "output_type": "stream",
     "text": [
      "c:\\Users\\jessi\\AppData\\Local\\Programs\\Python\\Python311\\Lib\\site-packages\\cfgrib\\xarray_plugin.py:131: FutureWarning: In a future version, xarray will not decode timedelta values based on the presence of a timedelta-like units attribute by default. Instead it will rely on the presence of a timedelta64 dtype attribute, which is now xarray's default way of encoding timedelta64 values. To continue decoding timedeltas based on the presence of a timedelta-like units attribute, users will need to explicitly opt-in by passing True or CFTimedeltaCoder(decode_via_units=True) to decode_timedelta. To silence this warning, set decode_timedelta to True, False, or a 'CFTimedeltaCoder' instance.\n",
      "  vars, attrs, coord_names = xr.conventions.decode_cf_variables(\n",
      "Ignoring index file 'datos_grib_validos\\\\era5land_2017_12_q1\\\\data.grib.5b7b6.idx' older than GRIB file\n"
     ]
    },
    {
     "name": "stdout",
     "output_type": "stream",
     "text": [
      "✅ era5land_2017_11_q2: ['d2m', 'sp', 'ssrd', 'strd', 't2m', 'tp', 'u10', 'v10']\n"
     ]
    },
    {
     "name": "stderr",
     "output_type": "stream",
     "text": [
      "c:\\Users\\jessi\\AppData\\Local\\Programs\\Python\\Python311\\Lib\\site-packages\\cfgrib\\xarray_plugin.py:131: FutureWarning: In a future version, xarray will not decode timedelta values based on the presence of a timedelta-like units attribute by default. Instead it will rely on the presence of a timedelta64 dtype attribute, which is now xarray's default way of encoding timedelta64 values. To continue decoding timedeltas based on the presence of a timedelta-like units attribute, users will need to explicitly opt-in by passing True or CFTimedeltaCoder(decode_via_units=True) to decode_timedelta. To silence this warning, set decode_timedelta to True, False, or a 'CFTimedeltaCoder' instance.\n",
      "  vars, attrs, coord_names = xr.conventions.decode_cf_variables(\n",
      "Ignoring index file 'datos_grib_validos\\\\era5land_2017_12_q2\\\\data.grib.5b7b6.idx' older than GRIB file\n"
     ]
    },
    {
     "name": "stdout",
     "output_type": "stream",
     "text": [
      "✅ era5land_2017_12_q1: ['d2m', 'sp', 'ssrd', 'strd', 't2m', 'tp', 'u10', 'v10']\n"
     ]
    },
    {
     "name": "stderr",
     "output_type": "stream",
     "text": [
      "c:\\Users\\jessi\\AppData\\Local\\Programs\\Python\\Python311\\Lib\\site-packages\\cfgrib\\xarray_plugin.py:131: FutureWarning: In a future version, xarray will not decode timedelta values based on the presence of a timedelta-like units attribute by default. Instead it will rely on the presence of a timedelta64 dtype attribute, which is now xarray's default way of encoding timedelta64 values. To continue decoding timedeltas based on the presence of a timedelta-like units attribute, users will need to explicitly opt-in by passing True or CFTimedeltaCoder(decode_via_units=True) to decode_timedelta. To silence this warning, set decode_timedelta to True, False, or a 'CFTimedeltaCoder' instance.\n",
      "  vars, attrs, coord_names = xr.conventions.decode_cf_variables(\n",
      "Ignoring index file 'datos_grib_validos\\\\era5land_2018_01_q1\\\\data.grib.5b7b6.idx' older than GRIB file\n"
     ]
    },
    {
     "name": "stdout",
     "output_type": "stream",
     "text": [
      "✅ era5land_2017_12_q2: ['d2m', 'sp', 'ssrd', 'strd', 't2m', 'tp', 'u10', 'v10']\n"
     ]
    },
    {
     "name": "stderr",
     "output_type": "stream",
     "text": [
      "c:\\Users\\jessi\\AppData\\Local\\Programs\\Python\\Python311\\Lib\\site-packages\\cfgrib\\xarray_plugin.py:131: FutureWarning: In a future version, xarray will not decode timedelta values based on the presence of a timedelta-like units attribute by default. Instead it will rely on the presence of a timedelta64 dtype attribute, which is now xarray's default way of encoding timedelta64 values. To continue decoding timedeltas based on the presence of a timedelta-like units attribute, users will need to explicitly opt-in by passing True or CFTimedeltaCoder(decode_via_units=True) to decode_timedelta. To silence this warning, set decode_timedelta to True, False, or a 'CFTimedeltaCoder' instance.\n",
      "  vars, attrs, coord_names = xr.conventions.decode_cf_variables(\n",
      "Ignoring index file 'datos_grib_validos\\\\era5land_2018_01_q2\\\\data.grib.5b7b6.idx' older than GRIB file\n"
     ]
    },
    {
     "name": "stdout",
     "output_type": "stream",
     "text": [
      "✅ era5land_2018_01_q1: ['d2m', 'sp', 'ssrd', 'strd', 't2m', 'tp', 'u10', 'v10']\n"
     ]
    },
    {
     "name": "stderr",
     "output_type": "stream",
     "text": [
      "c:\\Users\\jessi\\AppData\\Local\\Programs\\Python\\Python311\\Lib\\site-packages\\cfgrib\\xarray_plugin.py:131: FutureWarning: In a future version, xarray will not decode timedelta values based on the presence of a timedelta-like units attribute by default. Instead it will rely on the presence of a timedelta64 dtype attribute, which is now xarray's default way of encoding timedelta64 values. To continue decoding timedeltas based on the presence of a timedelta-like units attribute, users will need to explicitly opt-in by passing True or CFTimedeltaCoder(decode_via_units=True) to decode_timedelta. To silence this warning, set decode_timedelta to True, False, or a 'CFTimedeltaCoder' instance.\n",
      "  vars, attrs, coord_names = xr.conventions.decode_cf_variables(\n",
      "Ignoring index file 'datos_grib_validos\\\\era5land_2018_02_q1\\\\data.grib.5b7b6.idx' older than GRIB file\n"
     ]
    },
    {
     "name": "stdout",
     "output_type": "stream",
     "text": [
      "✅ era5land_2018_01_q2: ['d2m', 'sp', 'ssrd', 'strd', 't2m', 'tp', 'u10', 'v10']\n"
     ]
    },
    {
     "name": "stderr",
     "output_type": "stream",
     "text": [
      "c:\\Users\\jessi\\AppData\\Local\\Programs\\Python\\Python311\\Lib\\site-packages\\cfgrib\\xarray_plugin.py:131: FutureWarning: In a future version, xarray will not decode timedelta values based on the presence of a timedelta-like units attribute by default. Instead it will rely on the presence of a timedelta64 dtype attribute, which is now xarray's default way of encoding timedelta64 values. To continue decoding timedeltas based on the presence of a timedelta-like units attribute, users will need to explicitly opt-in by passing True or CFTimedeltaCoder(decode_via_units=True) to decode_timedelta. To silence this warning, set decode_timedelta to True, False, or a 'CFTimedeltaCoder' instance.\n",
      "  vars, attrs, coord_names = xr.conventions.decode_cf_variables(\n",
      "Ignoring index file 'datos_grib_validos\\\\era5land_2018_02_q2\\\\data.grib.5b7b6.idx' older than GRIB file\n"
     ]
    },
    {
     "name": "stdout",
     "output_type": "stream",
     "text": [
      "✅ era5land_2018_02_q1: ['d2m', 'sp', 'ssrd', 'strd', 't2m', 'tp', 'u10', 'v10']\n"
     ]
    },
    {
     "name": "stderr",
     "output_type": "stream",
     "text": [
      "c:\\Users\\jessi\\AppData\\Local\\Programs\\Python\\Python311\\Lib\\site-packages\\cfgrib\\xarray_plugin.py:131: FutureWarning: In a future version, xarray will not decode timedelta values based on the presence of a timedelta-like units attribute by default. Instead it will rely on the presence of a timedelta64 dtype attribute, which is now xarray's default way of encoding timedelta64 values. To continue decoding timedeltas based on the presence of a timedelta-like units attribute, users will need to explicitly opt-in by passing True or CFTimedeltaCoder(decode_via_units=True) to decode_timedelta. To silence this warning, set decode_timedelta to True, False, or a 'CFTimedeltaCoder' instance.\n",
      "  vars, attrs, coord_names = xr.conventions.decode_cf_variables(\n",
      "Ignoring index file 'datos_grib_validos\\\\era5land_2018_03_q1\\\\data.grib.5b7b6.idx' older than GRIB file\n"
     ]
    },
    {
     "name": "stdout",
     "output_type": "stream",
     "text": [
      "✅ era5land_2018_02_q2: ['d2m', 'sp', 'ssrd', 'strd', 't2m', 'tp', 'u10', 'v10']\n"
     ]
    },
    {
     "name": "stderr",
     "output_type": "stream",
     "text": [
      "c:\\Users\\jessi\\AppData\\Local\\Programs\\Python\\Python311\\Lib\\site-packages\\cfgrib\\xarray_plugin.py:131: FutureWarning: In a future version, xarray will not decode timedelta values based on the presence of a timedelta-like units attribute by default. Instead it will rely on the presence of a timedelta64 dtype attribute, which is now xarray's default way of encoding timedelta64 values. To continue decoding timedeltas based on the presence of a timedelta-like units attribute, users will need to explicitly opt-in by passing True or CFTimedeltaCoder(decode_via_units=True) to decode_timedelta. To silence this warning, set decode_timedelta to True, False, or a 'CFTimedeltaCoder' instance.\n",
      "  vars, attrs, coord_names = xr.conventions.decode_cf_variables(\n",
      "Ignoring index file 'datos_grib_validos\\\\era5land_2018_03_q2\\\\data.grib.5b7b6.idx' older than GRIB file\n"
     ]
    },
    {
     "name": "stdout",
     "output_type": "stream",
     "text": [
      "✅ era5land_2018_03_q1: ['d2m', 'sp', 'ssrd', 'strd', 't2m', 'tp', 'u10', 'v10']\n"
     ]
    },
    {
     "name": "stderr",
     "output_type": "stream",
     "text": [
      "c:\\Users\\jessi\\AppData\\Local\\Programs\\Python\\Python311\\Lib\\site-packages\\cfgrib\\xarray_plugin.py:131: FutureWarning: In a future version, xarray will not decode timedelta values based on the presence of a timedelta-like units attribute by default. Instead it will rely on the presence of a timedelta64 dtype attribute, which is now xarray's default way of encoding timedelta64 values. To continue decoding timedeltas based on the presence of a timedelta-like units attribute, users will need to explicitly opt-in by passing True or CFTimedeltaCoder(decode_via_units=True) to decode_timedelta. To silence this warning, set decode_timedelta to True, False, or a 'CFTimedeltaCoder' instance.\n",
      "  vars, attrs, coord_names = xr.conventions.decode_cf_variables(\n",
      "Ignoring index file 'datos_grib_validos\\\\era5land_2018_04_q1\\\\data.grib.5b7b6.idx' older than GRIB file\n"
     ]
    },
    {
     "name": "stdout",
     "output_type": "stream",
     "text": [
      "✅ era5land_2018_03_q2: ['d2m', 'sp', 'ssrd', 'strd', 't2m', 'tp', 'u10', 'v10']\n"
     ]
    },
    {
     "name": "stderr",
     "output_type": "stream",
     "text": [
      "c:\\Users\\jessi\\AppData\\Local\\Programs\\Python\\Python311\\Lib\\site-packages\\cfgrib\\xarray_plugin.py:131: FutureWarning: In a future version, xarray will not decode timedelta values based on the presence of a timedelta-like units attribute by default. Instead it will rely on the presence of a timedelta64 dtype attribute, which is now xarray's default way of encoding timedelta64 values. To continue decoding timedeltas based on the presence of a timedelta-like units attribute, users will need to explicitly opt-in by passing True or CFTimedeltaCoder(decode_via_units=True) to decode_timedelta. To silence this warning, set decode_timedelta to True, False, or a 'CFTimedeltaCoder' instance.\n",
      "  vars, attrs, coord_names = xr.conventions.decode_cf_variables(\n",
      "Ignoring index file 'datos_grib_validos\\\\era5land_2018_04_q2\\\\data.grib.5b7b6.idx' older than GRIB file\n"
     ]
    },
    {
     "name": "stdout",
     "output_type": "stream",
     "text": [
      "✅ era5land_2018_04_q1: ['d2m', 'sp', 'ssrd', 'strd', 't2m', 'tp', 'u10', 'v10']\n"
     ]
    },
    {
     "name": "stderr",
     "output_type": "stream",
     "text": [
      "c:\\Users\\jessi\\AppData\\Local\\Programs\\Python\\Python311\\Lib\\site-packages\\cfgrib\\xarray_plugin.py:131: FutureWarning: In a future version, xarray will not decode timedelta values based on the presence of a timedelta-like units attribute by default. Instead it will rely on the presence of a timedelta64 dtype attribute, which is now xarray's default way of encoding timedelta64 values. To continue decoding timedeltas based on the presence of a timedelta-like units attribute, users will need to explicitly opt-in by passing True or CFTimedeltaCoder(decode_via_units=True) to decode_timedelta. To silence this warning, set decode_timedelta to True, False, or a 'CFTimedeltaCoder' instance.\n",
      "  vars, attrs, coord_names = xr.conventions.decode_cf_variables(\n",
      "Ignoring index file 'datos_grib_validos\\\\era5land_2018_05_q1\\\\data.grib.5b7b6.idx' older than GRIB file\n"
     ]
    },
    {
     "name": "stdout",
     "output_type": "stream",
     "text": [
      "✅ era5land_2018_04_q2: ['d2m', 'sp', 'ssrd', 'strd', 't2m', 'tp', 'u10', 'v10']\n"
     ]
    },
    {
     "name": "stderr",
     "output_type": "stream",
     "text": [
      "c:\\Users\\jessi\\AppData\\Local\\Programs\\Python\\Python311\\Lib\\site-packages\\cfgrib\\xarray_plugin.py:131: FutureWarning: In a future version, xarray will not decode timedelta values based on the presence of a timedelta-like units attribute by default. Instead it will rely on the presence of a timedelta64 dtype attribute, which is now xarray's default way of encoding timedelta64 values. To continue decoding timedeltas based on the presence of a timedelta-like units attribute, users will need to explicitly opt-in by passing True or CFTimedeltaCoder(decode_via_units=True) to decode_timedelta. To silence this warning, set decode_timedelta to True, False, or a 'CFTimedeltaCoder' instance.\n",
      "  vars, attrs, coord_names = xr.conventions.decode_cf_variables(\n",
      "Ignoring index file 'datos_grib_validos\\\\era5land_2018_05_q2\\\\data.grib.5b7b6.idx' older than GRIB file\n"
     ]
    },
    {
     "name": "stdout",
     "output_type": "stream",
     "text": [
      "✅ era5land_2018_05_q1: ['d2m', 'sp', 'ssrd', 'strd', 't2m', 'tp', 'u10', 'v10']\n"
     ]
    },
    {
     "name": "stderr",
     "output_type": "stream",
     "text": [
      "c:\\Users\\jessi\\AppData\\Local\\Programs\\Python\\Python311\\Lib\\site-packages\\cfgrib\\xarray_plugin.py:131: FutureWarning: In a future version, xarray will not decode timedelta values based on the presence of a timedelta-like units attribute by default. Instead it will rely on the presence of a timedelta64 dtype attribute, which is now xarray's default way of encoding timedelta64 values. To continue decoding timedeltas based on the presence of a timedelta-like units attribute, users will need to explicitly opt-in by passing True or CFTimedeltaCoder(decode_via_units=True) to decode_timedelta. To silence this warning, set decode_timedelta to True, False, or a 'CFTimedeltaCoder' instance.\n",
      "  vars, attrs, coord_names = xr.conventions.decode_cf_variables(\n",
      "Ignoring index file 'datos_grib_validos\\\\era5land_2018_06_q1\\\\data.grib.5b7b6.idx' older than GRIB file\n"
     ]
    },
    {
     "name": "stdout",
     "output_type": "stream",
     "text": [
      "✅ era5land_2018_05_q2: ['d2m', 'sp', 'ssrd', 'strd', 't2m', 'tp', 'u10', 'v10']\n"
     ]
    },
    {
     "name": "stderr",
     "output_type": "stream",
     "text": [
      "c:\\Users\\jessi\\AppData\\Local\\Programs\\Python\\Python311\\Lib\\site-packages\\cfgrib\\xarray_plugin.py:131: FutureWarning: In a future version, xarray will not decode timedelta values based on the presence of a timedelta-like units attribute by default. Instead it will rely on the presence of a timedelta64 dtype attribute, which is now xarray's default way of encoding timedelta64 values. To continue decoding timedeltas based on the presence of a timedelta-like units attribute, users will need to explicitly opt-in by passing True or CFTimedeltaCoder(decode_via_units=True) to decode_timedelta. To silence this warning, set decode_timedelta to True, False, or a 'CFTimedeltaCoder' instance.\n",
      "  vars, attrs, coord_names = xr.conventions.decode_cf_variables(\n",
      "Ignoring index file 'datos_grib_validos\\\\era5land_2018_06_q2\\\\data.grib.5b7b6.idx' older than GRIB file\n"
     ]
    },
    {
     "name": "stdout",
     "output_type": "stream",
     "text": [
      "✅ era5land_2018_06_q1: ['d2m', 'sp', 'ssrd', 'strd', 't2m', 'tp', 'u10', 'v10']\n"
     ]
    },
    {
     "name": "stderr",
     "output_type": "stream",
     "text": [
      "c:\\Users\\jessi\\AppData\\Local\\Programs\\Python\\Python311\\Lib\\site-packages\\cfgrib\\xarray_plugin.py:131: FutureWarning: In a future version, xarray will not decode timedelta values based on the presence of a timedelta-like units attribute by default. Instead it will rely on the presence of a timedelta64 dtype attribute, which is now xarray's default way of encoding timedelta64 values. To continue decoding timedeltas based on the presence of a timedelta-like units attribute, users will need to explicitly opt-in by passing True or CFTimedeltaCoder(decode_via_units=True) to decode_timedelta. To silence this warning, set decode_timedelta to True, False, or a 'CFTimedeltaCoder' instance.\n",
      "  vars, attrs, coord_names = xr.conventions.decode_cf_variables(\n",
      "Ignoring index file 'datos_grib_validos\\\\era5land_2018_07_q1\\\\data.grib.5b7b6.idx' older than GRIB file\n"
     ]
    },
    {
     "name": "stdout",
     "output_type": "stream",
     "text": [
      "✅ era5land_2018_06_q2: ['d2m', 'sp', 'ssrd', 'strd', 't2m', 'tp', 'u10', 'v10']\n"
     ]
    },
    {
     "name": "stderr",
     "output_type": "stream",
     "text": [
      "c:\\Users\\jessi\\AppData\\Local\\Programs\\Python\\Python311\\Lib\\site-packages\\cfgrib\\xarray_plugin.py:131: FutureWarning: In a future version, xarray will not decode timedelta values based on the presence of a timedelta-like units attribute by default. Instead it will rely on the presence of a timedelta64 dtype attribute, which is now xarray's default way of encoding timedelta64 values. To continue decoding timedeltas based on the presence of a timedelta-like units attribute, users will need to explicitly opt-in by passing True or CFTimedeltaCoder(decode_via_units=True) to decode_timedelta. To silence this warning, set decode_timedelta to True, False, or a 'CFTimedeltaCoder' instance.\n",
      "  vars, attrs, coord_names = xr.conventions.decode_cf_variables(\n",
      "Ignoring index file 'datos_grib_validos\\\\era5land_2018_07_q2\\\\data.grib.5b7b6.idx' older than GRIB file\n"
     ]
    },
    {
     "name": "stdout",
     "output_type": "stream",
     "text": [
      "✅ era5land_2018_07_q1: ['d2m', 'sp', 'ssrd', 'strd', 't2m', 'tp', 'u10', 'v10']\n"
     ]
    },
    {
     "name": "stderr",
     "output_type": "stream",
     "text": [
      "c:\\Users\\jessi\\AppData\\Local\\Programs\\Python\\Python311\\Lib\\site-packages\\cfgrib\\xarray_plugin.py:131: FutureWarning: In a future version, xarray will not decode timedelta values based on the presence of a timedelta-like units attribute by default. Instead it will rely on the presence of a timedelta64 dtype attribute, which is now xarray's default way of encoding timedelta64 values. To continue decoding timedeltas based on the presence of a timedelta-like units attribute, users will need to explicitly opt-in by passing True or CFTimedeltaCoder(decode_via_units=True) to decode_timedelta. To silence this warning, set decode_timedelta to True, False, or a 'CFTimedeltaCoder' instance.\n",
      "  vars, attrs, coord_names = xr.conventions.decode_cf_variables(\n",
      "Ignoring index file 'datos_grib_validos\\\\era5land_2018_08_q1\\\\data.grib.5b7b6.idx' older than GRIB file\n"
     ]
    },
    {
     "name": "stdout",
     "output_type": "stream",
     "text": [
      "✅ era5land_2018_07_q2: ['d2m', 'sp', 'ssrd', 'strd', 't2m', 'tp', 'u10', 'v10']\n"
     ]
    },
    {
     "name": "stderr",
     "output_type": "stream",
     "text": [
      "c:\\Users\\jessi\\AppData\\Local\\Programs\\Python\\Python311\\Lib\\site-packages\\cfgrib\\xarray_plugin.py:131: FutureWarning: In a future version, xarray will not decode timedelta values based on the presence of a timedelta-like units attribute by default. Instead it will rely on the presence of a timedelta64 dtype attribute, which is now xarray's default way of encoding timedelta64 values. To continue decoding timedeltas based on the presence of a timedelta-like units attribute, users will need to explicitly opt-in by passing True or CFTimedeltaCoder(decode_via_units=True) to decode_timedelta. To silence this warning, set decode_timedelta to True, False, or a 'CFTimedeltaCoder' instance.\n",
      "  vars, attrs, coord_names = xr.conventions.decode_cf_variables(\n",
      "Ignoring index file 'datos_grib_validos\\\\era5land_2018_08_q2\\\\data.grib.5b7b6.idx' older than GRIB file\n"
     ]
    },
    {
     "name": "stdout",
     "output_type": "stream",
     "text": [
      "✅ era5land_2018_08_q1: ['d2m', 'sp', 'ssrd', 'strd', 't2m', 'tp', 'u10', 'v10']\n"
     ]
    },
    {
     "name": "stderr",
     "output_type": "stream",
     "text": [
      "c:\\Users\\jessi\\AppData\\Local\\Programs\\Python\\Python311\\Lib\\site-packages\\cfgrib\\xarray_plugin.py:131: FutureWarning: In a future version, xarray will not decode timedelta values based on the presence of a timedelta-like units attribute by default. Instead it will rely on the presence of a timedelta64 dtype attribute, which is now xarray's default way of encoding timedelta64 values. To continue decoding timedeltas based on the presence of a timedelta-like units attribute, users will need to explicitly opt-in by passing True or CFTimedeltaCoder(decode_via_units=True) to decode_timedelta. To silence this warning, set decode_timedelta to True, False, or a 'CFTimedeltaCoder' instance.\n",
      "  vars, attrs, coord_names = xr.conventions.decode_cf_variables(\n",
      "Ignoring index file 'datos_grib_validos\\\\era5land_2018_09_q1\\\\data.grib.5b7b6.idx' older than GRIB file\n"
     ]
    },
    {
     "name": "stdout",
     "output_type": "stream",
     "text": [
      "✅ era5land_2018_08_q2: ['d2m', 'sp', 'ssrd', 'strd', 't2m', 'tp', 'u10', 'v10']\n"
     ]
    },
    {
     "name": "stderr",
     "output_type": "stream",
     "text": [
      "c:\\Users\\jessi\\AppData\\Local\\Programs\\Python\\Python311\\Lib\\site-packages\\cfgrib\\xarray_plugin.py:131: FutureWarning: In a future version, xarray will not decode timedelta values based on the presence of a timedelta-like units attribute by default. Instead it will rely on the presence of a timedelta64 dtype attribute, which is now xarray's default way of encoding timedelta64 values. To continue decoding timedeltas based on the presence of a timedelta-like units attribute, users will need to explicitly opt-in by passing True or CFTimedeltaCoder(decode_via_units=True) to decode_timedelta. To silence this warning, set decode_timedelta to True, False, or a 'CFTimedeltaCoder' instance.\n",
      "  vars, attrs, coord_names = xr.conventions.decode_cf_variables(\n",
      "Ignoring index file 'datos_grib_validos\\\\era5land_2018_09_q2\\\\data.grib.5b7b6.idx' older than GRIB file\n"
     ]
    },
    {
     "name": "stdout",
     "output_type": "stream",
     "text": [
      "✅ era5land_2018_09_q1: ['d2m', 'sp', 'ssrd', 'strd', 't2m', 'tp', 'u10', 'v10']\n"
     ]
    },
    {
     "name": "stderr",
     "output_type": "stream",
     "text": [
      "c:\\Users\\jessi\\AppData\\Local\\Programs\\Python\\Python311\\Lib\\site-packages\\cfgrib\\xarray_plugin.py:131: FutureWarning: In a future version, xarray will not decode timedelta values based on the presence of a timedelta-like units attribute by default. Instead it will rely on the presence of a timedelta64 dtype attribute, which is now xarray's default way of encoding timedelta64 values. To continue decoding timedeltas based on the presence of a timedelta-like units attribute, users will need to explicitly opt-in by passing True or CFTimedeltaCoder(decode_via_units=True) to decode_timedelta. To silence this warning, set decode_timedelta to True, False, or a 'CFTimedeltaCoder' instance.\n",
      "  vars, attrs, coord_names = xr.conventions.decode_cf_variables(\n",
      "Ignoring index file 'datos_grib_validos\\\\era5land_2018_10_q1\\\\data.grib.5b7b6.idx' older than GRIB file\n"
     ]
    },
    {
     "name": "stdout",
     "output_type": "stream",
     "text": [
      "✅ era5land_2018_09_q2: ['d2m', 'sp', 'ssrd', 'strd', 't2m', 'tp', 'u10', 'v10']\n"
     ]
    },
    {
     "name": "stderr",
     "output_type": "stream",
     "text": [
      "c:\\Users\\jessi\\AppData\\Local\\Programs\\Python\\Python311\\Lib\\site-packages\\cfgrib\\xarray_plugin.py:131: FutureWarning: In a future version, xarray will not decode timedelta values based on the presence of a timedelta-like units attribute by default. Instead it will rely on the presence of a timedelta64 dtype attribute, which is now xarray's default way of encoding timedelta64 values. To continue decoding timedeltas based on the presence of a timedelta-like units attribute, users will need to explicitly opt-in by passing True or CFTimedeltaCoder(decode_via_units=True) to decode_timedelta. To silence this warning, set decode_timedelta to True, False, or a 'CFTimedeltaCoder' instance.\n",
      "  vars, attrs, coord_names = xr.conventions.decode_cf_variables(\n",
      "Ignoring index file 'datos_grib_validos\\\\era5land_2018_10_q2\\\\data.grib.5b7b6.idx' older than GRIB file\n"
     ]
    },
    {
     "name": "stdout",
     "output_type": "stream",
     "text": [
      "✅ era5land_2018_10_q1: ['d2m', 'sp', 'ssrd', 'strd', 't2m', 'tp', 'u10', 'v10']\n"
     ]
    },
    {
     "name": "stderr",
     "output_type": "stream",
     "text": [
      "c:\\Users\\jessi\\AppData\\Local\\Programs\\Python\\Python311\\Lib\\site-packages\\cfgrib\\xarray_plugin.py:131: FutureWarning: In a future version, xarray will not decode timedelta values based on the presence of a timedelta-like units attribute by default. Instead it will rely on the presence of a timedelta64 dtype attribute, which is now xarray's default way of encoding timedelta64 values. To continue decoding timedeltas based on the presence of a timedelta-like units attribute, users will need to explicitly opt-in by passing True or CFTimedeltaCoder(decode_via_units=True) to decode_timedelta. To silence this warning, set decode_timedelta to True, False, or a 'CFTimedeltaCoder' instance.\n",
      "  vars, attrs, coord_names = xr.conventions.decode_cf_variables(\n",
      "Ignoring index file 'datos_grib_validos\\\\era5land_2018_11_q1\\\\data.grib.5b7b6.idx' older than GRIB file\n"
     ]
    },
    {
     "name": "stdout",
     "output_type": "stream",
     "text": [
      "✅ era5land_2018_10_q2: ['d2m', 'sp', 'ssrd', 'strd', 't2m', 'tp', 'u10', 'v10']\n"
     ]
    },
    {
     "name": "stderr",
     "output_type": "stream",
     "text": [
      "c:\\Users\\jessi\\AppData\\Local\\Programs\\Python\\Python311\\Lib\\site-packages\\cfgrib\\xarray_plugin.py:131: FutureWarning: In a future version, xarray will not decode timedelta values based on the presence of a timedelta-like units attribute by default. Instead it will rely on the presence of a timedelta64 dtype attribute, which is now xarray's default way of encoding timedelta64 values. To continue decoding timedeltas based on the presence of a timedelta-like units attribute, users will need to explicitly opt-in by passing True or CFTimedeltaCoder(decode_via_units=True) to decode_timedelta. To silence this warning, set decode_timedelta to True, False, or a 'CFTimedeltaCoder' instance.\n",
      "  vars, attrs, coord_names = xr.conventions.decode_cf_variables(\n",
      "Ignoring index file 'datos_grib_validos\\\\era5land_2018_11_q2\\\\data.grib.5b7b6.idx' older than GRIB file\n"
     ]
    },
    {
     "name": "stdout",
     "output_type": "stream",
     "text": [
      "✅ era5land_2018_11_q1: ['d2m', 'sp', 'ssrd', 'strd', 't2m', 'tp', 'u10', 'v10']\n"
     ]
    },
    {
     "name": "stderr",
     "output_type": "stream",
     "text": [
      "c:\\Users\\jessi\\AppData\\Local\\Programs\\Python\\Python311\\Lib\\site-packages\\cfgrib\\xarray_plugin.py:131: FutureWarning: In a future version, xarray will not decode timedelta values based on the presence of a timedelta-like units attribute by default. Instead it will rely on the presence of a timedelta64 dtype attribute, which is now xarray's default way of encoding timedelta64 values. To continue decoding timedeltas based on the presence of a timedelta-like units attribute, users will need to explicitly opt-in by passing True or CFTimedeltaCoder(decode_via_units=True) to decode_timedelta. To silence this warning, set decode_timedelta to True, False, or a 'CFTimedeltaCoder' instance.\n",
      "  vars, attrs, coord_names = xr.conventions.decode_cf_variables(\n",
      "Ignoring index file 'datos_grib_validos\\\\era5land_2018_12_q1\\\\data.grib.5b7b6.idx' older than GRIB file\n"
     ]
    },
    {
     "name": "stdout",
     "output_type": "stream",
     "text": [
      "✅ era5land_2018_11_q2: ['d2m', 'sp', 'ssrd', 'strd', 't2m', 'tp', 'u10', 'v10']\n"
     ]
    },
    {
     "name": "stderr",
     "output_type": "stream",
     "text": [
      "c:\\Users\\jessi\\AppData\\Local\\Programs\\Python\\Python311\\Lib\\site-packages\\cfgrib\\xarray_plugin.py:131: FutureWarning: In a future version, xarray will not decode timedelta values based on the presence of a timedelta-like units attribute by default. Instead it will rely on the presence of a timedelta64 dtype attribute, which is now xarray's default way of encoding timedelta64 values. To continue decoding timedeltas based on the presence of a timedelta-like units attribute, users will need to explicitly opt-in by passing True or CFTimedeltaCoder(decode_via_units=True) to decode_timedelta. To silence this warning, set decode_timedelta to True, False, or a 'CFTimedeltaCoder' instance.\n",
      "  vars, attrs, coord_names = xr.conventions.decode_cf_variables(\n",
      "Ignoring index file 'datos_grib_validos\\\\era5land_2018_12_q2\\\\data.grib.5b7b6.idx' older than GRIB file\n"
     ]
    },
    {
     "name": "stdout",
     "output_type": "stream",
     "text": [
      "✅ era5land_2018_12_q1: ['d2m', 'sp', 'ssrd', 'strd', 't2m', 'tp', 'u10', 'v10']\n"
     ]
    },
    {
     "name": "stderr",
     "output_type": "stream",
     "text": [
      "c:\\Users\\jessi\\AppData\\Local\\Programs\\Python\\Python311\\Lib\\site-packages\\cfgrib\\xarray_plugin.py:131: FutureWarning: In a future version, xarray will not decode timedelta values based on the presence of a timedelta-like units attribute by default. Instead it will rely on the presence of a timedelta64 dtype attribute, which is now xarray's default way of encoding timedelta64 values. To continue decoding timedeltas based on the presence of a timedelta-like units attribute, users will need to explicitly opt-in by passing True or CFTimedeltaCoder(decode_via_units=True) to decode_timedelta. To silence this warning, set decode_timedelta to True, False, or a 'CFTimedeltaCoder' instance.\n",
      "  vars, attrs, coord_names = xr.conventions.decode_cf_variables(\n",
      "c:\\Users\\jessi\\AppData\\Local\\Programs\\Python\\Python311\\Lib\\site-packages\\cfgrib\\xarray_plugin.py:131: FutureWarning: In a future version, xarray will not decode timedelta values based on the presence of a timedelta-like units attribute by default. Instead it will rely on the presence of a timedelta64 dtype attribute, which is now xarray's default way of encoding timedelta64 values. To continue decoding timedeltas based on the presence of a timedelta-like units attribute, users will need to explicitly opt-in by passing True or CFTimedeltaCoder(decode_via_units=True) to decode_timedelta. To silence this warning, set decode_timedelta to True, False, or a 'CFTimedeltaCoder' instance.\n",
      "  vars, attrs, coord_names = xr.conventions.decode_cf_variables(\n",
      "c:\\Users\\jessi\\AppData\\Local\\Programs\\Python\\Python311\\Lib\\site-packages\\cfgrib\\xarray_plugin.py:131: FutureWarning: In a future version, xarray will not decode timedelta values based on the presence of a timedelta-like units attribute by default. Instead it will rely on the presence of a timedelta64 dtype attribute, which is now xarray's default way of encoding timedelta64 values. To continue decoding timedeltas based on the presence of a timedelta-like units attribute, users will need to explicitly opt-in by passing True or CFTimedeltaCoder(decode_via_units=True) to decode_timedelta. To silence this warning, set decode_timedelta to True, False, or a 'CFTimedeltaCoder' instance.\n",
      "  vars, attrs, coord_names = xr.conventions.decode_cf_variables(\n",
      "c:\\Users\\jessi\\AppData\\Local\\Programs\\Python\\Python311\\Lib\\site-packages\\cfgrib\\xarray_plugin.py:131: FutureWarning: In a future version, xarray will not decode timedelta values based on the presence of a timedelta-like units attribute by default. Instead it will rely on the presence of a timedelta64 dtype attribute, which is now xarray's default way of encoding timedelta64 values. To continue decoding timedeltas based on the presence of a timedelta-like units attribute, users will need to explicitly opt-in by passing True or CFTimedeltaCoder(decode_via_units=True) to decode_timedelta. To silence this warning, set decode_timedelta to True, False, or a 'CFTimedeltaCoder' instance.\n",
      "  vars, attrs, coord_names = xr.conventions.decode_cf_variables(\n"
     ]
    },
    {
     "name": "stdout",
     "output_type": "stream",
     "text": [
      "✅ era5land_2018_12_q2: ['d2m', 'sp', 'ssrd', 'strd', 't2m', 'tp', 'u10', 'v10']\n",
      "✅ era5land_2024_01_q1: ['d2m', 'sp', 'ssrd', 'strd', 't2m', 'tp', 'u10', 'v10']\n",
      "✅ era5land_2024_01_q2: ['d2m', 'sp', 'ssrd', 'strd', 't2m', 'tp', 'u10', 'v10']\n",
      "✅ era5land_2024_02_q1: ['d2m', 'sp', 'ssrd', 'strd', 't2m', 'tp', 'u10', 'v10']\n"
     ]
    },
    {
     "name": "stderr",
     "output_type": "stream",
     "text": [
      "c:\\Users\\jessi\\AppData\\Local\\Programs\\Python\\Python311\\Lib\\site-packages\\cfgrib\\xarray_plugin.py:131: FutureWarning: In a future version, xarray will not decode timedelta values based on the presence of a timedelta-like units attribute by default. Instead it will rely on the presence of a timedelta64 dtype attribute, which is now xarray's default way of encoding timedelta64 values. To continue decoding timedeltas based on the presence of a timedelta-like units attribute, users will need to explicitly opt-in by passing True or CFTimedeltaCoder(decode_via_units=True) to decode_timedelta. To silence this warning, set decode_timedelta to True, False, or a 'CFTimedeltaCoder' instance.\n",
      "  vars, attrs, coord_names = xr.conventions.decode_cf_variables(\n",
      "c:\\Users\\jessi\\AppData\\Local\\Programs\\Python\\Python311\\Lib\\site-packages\\cfgrib\\xarray_plugin.py:131: FutureWarning: In a future version, xarray will not decode timedelta values based on the presence of a timedelta-like units attribute by default. Instead it will rely on the presence of a timedelta64 dtype attribute, which is now xarray's default way of encoding timedelta64 values. To continue decoding timedeltas based on the presence of a timedelta-like units attribute, users will need to explicitly opt-in by passing True or CFTimedeltaCoder(decode_via_units=True) to decode_timedelta. To silence this warning, set decode_timedelta to True, False, or a 'CFTimedeltaCoder' instance.\n",
      "  vars, attrs, coord_names = xr.conventions.decode_cf_variables(\n",
      "c:\\Users\\jessi\\AppData\\Local\\Programs\\Python\\Python311\\Lib\\site-packages\\cfgrib\\xarray_plugin.py:131: FutureWarning: In a future version, xarray will not decode timedelta values based on the presence of a timedelta-like units attribute by default. Instead it will rely on the presence of a timedelta64 dtype attribute, which is now xarray's default way of encoding timedelta64 values. To continue decoding timedeltas based on the presence of a timedelta-like units attribute, users will need to explicitly opt-in by passing True or CFTimedeltaCoder(decode_via_units=True) to decode_timedelta. To silence this warning, set decode_timedelta to True, False, or a 'CFTimedeltaCoder' instance.\n",
      "  vars, attrs, coord_names = xr.conventions.decode_cf_variables(\n"
     ]
    },
    {
     "name": "stdout",
     "output_type": "stream",
     "text": [
      "✅ era5land_2024_02_q2: ['d2m', 'sp', 'ssrd', 'strd', 't2m', 'tp', 'u10', 'v10']\n",
      "✅ era5land_2024_03_q1: ['d2m', 'sp', 'ssrd', 'strd', 't2m', 'tp', 'u10', 'v10']\n",
      "✅ era5land_2024_03_q2: ['d2m', 'sp', 'ssrd', 'strd', 't2m', 'tp', 'u10', 'v10']\n"
     ]
    },
    {
     "name": "stderr",
     "output_type": "stream",
     "text": [
      "c:\\Users\\jessi\\AppData\\Local\\Programs\\Python\\Python311\\Lib\\site-packages\\cfgrib\\xarray_plugin.py:131: FutureWarning: In a future version, xarray will not decode timedelta values based on the presence of a timedelta-like units attribute by default. Instead it will rely on the presence of a timedelta64 dtype attribute, which is now xarray's default way of encoding timedelta64 values. To continue decoding timedeltas based on the presence of a timedelta-like units attribute, users will need to explicitly opt-in by passing True or CFTimedeltaCoder(decode_via_units=True) to decode_timedelta. To silence this warning, set decode_timedelta to True, False, or a 'CFTimedeltaCoder' instance.\n",
      "  vars, attrs, coord_names = xr.conventions.decode_cf_variables(\n",
      "c:\\Users\\jessi\\AppData\\Local\\Programs\\Python\\Python311\\Lib\\site-packages\\cfgrib\\xarray_plugin.py:131: FutureWarning: In a future version, xarray will not decode timedelta values based on the presence of a timedelta-like units attribute by default. Instead it will rely on the presence of a timedelta64 dtype attribute, which is now xarray's default way of encoding timedelta64 values. To continue decoding timedeltas based on the presence of a timedelta-like units attribute, users will need to explicitly opt-in by passing True or CFTimedeltaCoder(decode_via_units=True) to decode_timedelta. To silence this warning, set decode_timedelta to True, False, or a 'CFTimedeltaCoder' instance.\n",
      "  vars, attrs, coord_names = xr.conventions.decode_cf_variables(\n",
      "c:\\Users\\jessi\\AppData\\Local\\Programs\\Python\\Python311\\Lib\\site-packages\\cfgrib\\xarray_plugin.py:131: FutureWarning: In a future version, xarray will not decode timedelta values based on the presence of a timedelta-like units attribute by default. Instead it will rely on the presence of a timedelta64 dtype attribute, which is now xarray's default way of encoding timedelta64 values. To continue decoding timedeltas based on the presence of a timedelta-like units attribute, users will need to explicitly opt-in by passing True or CFTimedeltaCoder(decode_via_units=True) to decode_timedelta. To silence this warning, set decode_timedelta to True, False, or a 'CFTimedeltaCoder' instance.\n",
      "  vars, attrs, coord_names = xr.conventions.decode_cf_variables(\n",
      "c:\\Users\\jessi\\AppData\\Local\\Programs\\Python\\Python311\\Lib\\site-packages\\cfgrib\\xarray_plugin.py:131: FutureWarning: In a future version, xarray will not decode timedelta values based on the presence of a timedelta-like units attribute by default. Instead it will rely on the presence of a timedelta64 dtype attribute, which is now xarray's default way of encoding timedelta64 values. To continue decoding timedeltas based on the presence of a timedelta-like units attribute, users will need to explicitly opt-in by passing True or CFTimedeltaCoder(decode_via_units=True) to decode_timedelta. To silence this warning, set decode_timedelta to True, False, or a 'CFTimedeltaCoder' instance.\n",
      "  vars, attrs, coord_names = xr.conventions.decode_cf_variables(\n"
     ]
    },
    {
     "name": "stdout",
     "output_type": "stream",
     "text": [
      "✅ era5land_2024_04_q1: ['d2m', 'sp', 'ssrd', 'strd', 't2m', 'tp', 'u10', 'v10']\n",
      "✅ era5land_2024_04_q2: ['d2m', 'sp', 'ssrd', 'strd', 't2m', 'tp', 'u10', 'v10']\n",
      "✅ era5land_2024_05_q1: ['d2m', 'sp', 'ssrd', 'strd', 't2m', 'tp', 'u10', 'v10']\n",
      "✅ era5land_2024_05_q2: ['d2m', 'sp', 'ssrd', 'strd', 't2m', 'tp', 'u10', 'v10']\n"
     ]
    },
    {
     "name": "stderr",
     "output_type": "stream",
     "text": [
      "c:\\Users\\jessi\\AppData\\Local\\Programs\\Python\\Python311\\Lib\\site-packages\\cfgrib\\xarray_plugin.py:131: FutureWarning: In a future version, xarray will not decode timedelta values based on the presence of a timedelta-like units attribute by default. Instead it will rely on the presence of a timedelta64 dtype attribute, which is now xarray's default way of encoding timedelta64 values. To continue decoding timedeltas based on the presence of a timedelta-like units attribute, users will need to explicitly opt-in by passing True or CFTimedeltaCoder(decode_via_units=True) to decode_timedelta. To silence this warning, set decode_timedelta to True, False, or a 'CFTimedeltaCoder' instance.\n",
      "  vars, attrs, coord_names = xr.conventions.decode_cf_variables(\n",
      "c:\\Users\\jessi\\AppData\\Local\\Programs\\Python\\Python311\\Lib\\site-packages\\cfgrib\\xarray_plugin.py:131: FutureWarning: In a future version, xarray will not decode timedelta values based on the presence of a timedelta-like units attribute by default. Instead it will rely on the presence of a timedelta64 dtype attribute, which is now xarray's default way of encoding timedelta64 values. To continue decoding timedeltas based on the presence of a timedelta-like units attribute, users will need to explicitly opt-in by passing True or CFTimedeltaCoder(decode_via_units=True) to decode_timedelta. To silence this warning, set decode_timedelta to True, False, or a 'CFTimedeltaCoder' instance.\n",
      "  vars, attrs, coord_names = xr.conventions.decode_cf_variables(\n",
      "c:\\Users\\jessi\\AppData\\Local\\Programs\\Python\\Python311\\Lib\\site-packages\\cfgrib\\xarray_plugin.py:131: FutureWarning: In a future version, xarray will not decode timedelta values based on the presence of a timedelta-like units attribute by default. Instead it will rely on the presence of a timedelta64 dtype attribute, which is now xarray's default way of encoding timedelta64 values. To continue decoding timedeltas based on the presence of a timedelta-like units attribute, users will need to explicitly opt-in by passing True or CFTimedeltaCoder(decode_via_units=True) to decode_timedelta. To silence this warning, set decode_timedelta to True, False, or a 'CFTimedeltaCoder' instance.\n",
      "  vars, attrs, coord_names = xr.conventions.decode_cf_variables(\n"
     ]
    },
    {
     "name": "stdout",
     "output_type": "stream",
     "text": [
      "✅ era5land_2024_06_q1: ['d2m', 'sp', 'ssrd', 'strd', 't2m', 'tp', 'u10', 'v10']\n",
      "✅ era5land_2024_06_q2: ['d2m', 'sp', 'ssrd', 'strd', 't2m', 'tp', 'u10', 'v10']\n",
      "✅ era5land_2024_07_q1: ['d2m', 'sp', 'ssrd', 'strd', 't2m', 'tp', 'u10', 'v10']\n"
     ]
    },
    {
     "name": "stderr",
     "output_type": "stream",
     "text": [
      "c:\\Users\\jessi\\AppData\\Local\\Programs\\Python\\Python311\\Lib\\site-packages\\cfgrib\\xarray_plugin.py:131: FutureWarning: In a future version, xarray will not decode timedelta values based on the presence of a timedelta-like units attribute by default. Instead it will rely on the presence of a timedelta64 dtype attribute, which is now xarray's default way of encoding timedelta64 values. To continue decoding timedeltas based on the presence of a timedelta-like units attribute, users will need to explicitly opt-in by passing True or CFTimedeltaCoder(decode_via_units=True) to decode_timedelta. To silence this warning, set decode_timedelta to True, False, or a 'CFTimedeltaCoder' instance.\n",
      "  vars, attrs, coord_names = xr.conventions.decode_cf_variables(\n",
      "c:\\Users\\jessi\\AppData\\Local\\Programs\\Python\\Python311\\Lib\\site-packages\\cfgrib\\xarray_plugin.py:131: FutureWarning: In a future version, xarray will not decode timedelta values based on the presence of a timedelta-like units attribute by default. Instead it will rely on the presence of a timedelta64 dtype attribute, which is now xarray's default way of encoding timedelta64 values. To continue decoding timedeltas based on the presence of a timedelta-like units attribute, users will need to explicitly opt-in by passing True or CFTimedeltaCoder(decode_via_units=True) to decode_timedelta. To silence this warning, set decode_timedelta to True, False, or a 'CFTimedeltaCoder' instance.\n",
      "  vars, attrs, coord_names = xr.conventions.decode_cf_variables(\n",
      "c:\\Users\\jessi\\AppData\\Local\\Programs\\Python\\Python311\\Lib\\site-packages\\cfgrib\\xarray_plugin.py:131: FutureWarning: In a future version, xarray will not decode timedelta values based on the presence of a timedelta-like units attribute by default. Instead it will rely on the presence of a timedelta64 dtype attribute, which is now xarray's default way of encoding timedelta64 values. To continue decoding timedeltas based on the presence of a timedelta-like units attribute, users will need to explicitly opt-in by passing True or CFTimedeltaCoder(decode_via_units=True) to decode_timedelta. To silence this warning, set decode_timedelta to True, False, or a 'CFTimedeltaCoder' instance.\n",
      "  vars, attrs, coord_names = xr.conventions.decode_cf_variables(\n",
      "c:\\Users\\jessi\\AppData\\Local\\Programs\\Python\\Python311\\Lib\\site-packages\\cfgrib\\xarray_plugin.py:131: FutureWarning: In a future version, xarray will not decode timedelta values based on the presence of a timedelta-like units attribute by default. Instead it will rely on the presence of a timedelta64 dtype attribute, which is now xarray's default way of encoding timedelta64 values. To continue decoding timedeltas based on the presence of a timedelta-like units attribute, users will need to explicitly opt-in by passing True or CFTimedeltaCoder(decode_via_units=True) to decode_timedelta. To silence this warning, set decode_timedelta to True, False, or a 'CFTimedeltaCoder' instance.\n",
      "  vars, attrs, coord_names = xr.conventions.decode_cf_variables(\n"
     ]
    },
    {
     "name": "stdout",
     "output_type": "stream",
     "text": [
      "✅ era5land_2024_07_q2: ['d2m', 'sp', 'ssrd', 'strd', 't2m', 'tp', 'u10', 'v10']\n",
      "✅ era5land_2024_08_q1: ['d2m', 'sp', 'ssrd', 'strd', 't2m', 'tp', 'u10', 'v10']\n",
      "✅ era5land_2024_08_q2: ['d2m', 'sp', 'ssrd', 'strd', 't2m', 'tp', 'u10', 'v10']\n",
      "✅ era5land_2024_09_q1: ['d2m', 'sp', 'ssrd', 'strd', 't2m', 'tp', 'u10', 'v10']\n"
     ]
    },
    {
     "name": "stderr",
     "output_type": "stream",
     "text": [
      "c:\\Users\\jessi\\AppData\\Local\\Programs\\Python\\Python311\\Lib\\site-packages\\cfgrib\\xarray_plugin.py:131: FutureWarning: In a future version, xarray will not decode timedelta values based on the presence of a timedelta-like units attribute by default. Instead it will rely on the presence of a timedelta64 dtype attribute, which is now xarray's default way of encoding timedelta64 values. To continue decoding timedeltas based on the presence of a timedelta-like units attribute, users will need to explicitly opt-in by passing True or CFTimedeltaCoder(decode_via_units=True) to decode_timedelta. To silence this warning, set decode_timedelta to True, False, or a 'CFTimedeltaCoder' instance.\n",
      "  vars, attrs, coord_names = xr.conventions.decode_cf_variables(\n",
      "c:\\Users\\jessi\\AppData\\Local\\Programs\\Python\\Python311\\Lib\\site-packages\\cfgrib\\xarray_plugin.py:131: FutureWarning: In a future version, xarray will not decode timedelta values based on the presence of a timedelta-like units attribute by default. Instead it will rely on the presence of a timedelta64 dtype attribute, which is now xarray's default way of encoding timedelta64 values. To continue decoding timedeltas based on the presence of a timedelta-like units attribute, users will need to explicitly opt-in by passing True or CFTimedeltaCoder(decode_via_units=True) to decode_timedelta. To silence this warning, set decode_timedelta to True, False, or a 'CFTimedeltaCoder' instance.\n",
      "  vars, attrs, coord_names = xr.conventions.decode_cf_variables(\n",
      "c:\\Users\\jessi\\AppData\\Local\\Programs\\Python\\Python311\\Lib\\site-packages\\cfgrib\\xarray_plugin.py:131: FutureWarning: In a future version, xarray will not decode timedelta values based on the presence of a timedelta-like units attribute by default. Instead it will rely on the presence of a timedelta64 dtype attribute, which is now xarray's default way of encoding timedelta64 values. To continue decoding timedeltas based on the presence of a timedelta-like units attribute, users will need to explicitly opt-in by passing True or CFTimedeltaCoder(decode_via_units=True) to decode_timedelta. To silence this warning, set decode_timedelta to True, False, or a 'CFTimedeltaCoder' instance.\n",
      "  vars, attrs, coord_names = xr.conventions.decode_cf_variables(\n"
     ]
    },
    {
     "name": "stdout",
     "output_type": "stream",
     "text": [
      "✅ era5land_2024_09_q2: ['d2m', 'sp', 'ssrd', 'strd', 't2m', 'tp', 'u10', 'v10']\n",
      "✅ era5land_2024_10_q1: ['d2m', 'sp', 'ssrd', 'strd', 't2m', 'tp', 'u10', 'v10']\n",
      "✅ era5land_2024_10_q2: ['d2m', 'sp', 'ssrd', 'strd', 't2m', 'tp', 'u10', 'v10']\n",
      "✅ era5land_2024_11_q1: ['d2m', 'sp', 'ssrd', 'strd', 't2m', 'tp', 'u10', 'v10']\n",
      "✅ era5land_2024_11_q2: ['d2m', 'sp', 'ssrd', 'strd', 't2m', 'tp', 'u10', 'v10']\n",
      "✅ era5land_2024_12_q1: ['d2m', 'sp', 'ssrd', 'strd', 't2m', 'tp', 'u10', 'v10']\n",
      "✅ era5land_2024_12_q2: ['d2m', 'sp', 'ssrd', 'strd', 't2m', 'tp', 'u10', 'v10']\n"
     ]
    },
    {
     "name": "stderr",
     "output_type": "stream",
     "text": [
      "c:\\Users\\jessi\\AppData\\Local\\Programs\\Python\\Python311\\Lib\\site-packages\\cfgrib\\xarray_plugin.py:131: FutureWarning: In a future version, xarray will not decode timedelta values based on the presence of a timedelta-like units attribute by default. Instead it will rely on the presence of a timedelta64 dtype attribute, which is now xarray's default way of encoding timedelta64 values. To continue decoding timedeltas based on the presence of a timedelta-like units attribute, users will need to explicitly opt-in by passing True or CFTimedeltaCoder(decode_via_units=True) to decode_timedelta. To silence this warning, set decode_timedelta to True, False, or a 'CFTimedeltaCoder' instance.\n",
      "  vars, attrs, coord_names = xr.conventions.decode_cf_variables(\n",
      "c:\\Users\\jessi\\AppData\\Local\\Programs\\Python\\Python311\\Lib\\site-packages\\cfgrib\\xarray_plugin.py:131: FutureWarning: In a future version, xarray will not decode timedelta values based on the presence of a timedelta-like units attribute by default. Instead it will rely on the presence of a timedelta64 dtype attribute, which is now xarray's default way of encoding timedelta64 values. To continue decoding timedeltas based on the presence of a timedelta-like units attribute, users will need to explicitly opt-in by passing True or CFTimedeltaCoder(decode_via_units=True) to decode_timedelta. To silence this warning, set decode_timedelta to True, False, or a 'CFTimedeltaCoder' instance.\n",
      "  vars, attrs, coord_names = xr.conventions.decode_cf_variables(\n",
      "c:\\Users\\jessi\\AppData\\Local\\Programs\\Python\\Python311\\Lib\\site-packages\\cfgrib\\xarray_plugin.py:131: FutureWarning: In a future version, xarray will not decode timedelta values based on the presence of a timedelta-like units attribute by default. Instead it will rely on the presence of a timedelta64 dtype attribute, which is now xarray's default way of encoding timedelta64 values. To continue decoding timedeltas based on the presence of a timedelta-like units attribute, users will need to explicitly opt-in by passing True or CFTimedeltaCoder(decode_via_units=True) to decode_timedelta. To silence this warning, set decode_timedelta to True, False, or a 'CFTimedeltaCoder' instance.\n",
      "  vars, attrs, coord_names = xr.conventions.decode_cf_variables(\n",
      "c:\\Users\\jessi\\AppData\\Local\\Programs\\Python\\Python311\\Lib\\site-packages\\cfgrib\\xarray_plugin.py:131: FutureWarning: In a future version, xarray will not decode timedelta values based on the presence of a timedelta-like units attribute by default. Instead it will rely on the presence of a timedelta64 dtype attribute, which is now xarray's default way of encoding timedelta64 values. To continue decoding timedeltas based on the presence of a timedelta-like units attribute, users will need to explicitly opt-in by passing True or CFTimedeltaCoder(decode_via_units=True) to decode_timedelta. To silence this warning, set decode_timedelta to True, False, or a 'CFTimedeltaCoder' instance.\n",
      "  vars, attrs, coord_names = xr.conventions.decode_cf_variables(\n"
     ]
    }
   ],
   "source": [
    "import os\n",
    "import xarray as xr\n",
    "\n",
    "# Ruta raíz donde están los .grib descomprimidos\n",
    "carpeta_gribs = \"datos_grib_validos\"\n",
    "\n",
    "# Diccionario para guardar el conjunto de variables por archivo\n",
    "variables_por_archivo = {}\n",
    "\n",
    "# Leer todos los archivos y guardar sus variables\n",
    "for subdir in sorted(os.listdir(carpeta_gribs)):\n",
    "    ruta = os.path.join(carpeta_gribs, subdir, \"data.grib\")\n",
    "    \n",
    "    if os.path.exists(ruta):\n",
    "        try:\n",
    "            ds = xr.open_dataset(ruta, engine=\"cfgrib\")\n",
    "            variables = set(ds.data_vars)\n",
    "            variables_por_archivo[subdir] = variables\n",
    "            print(f\"✅ {subdir}: {sorted(variables)}\")\n",
    "        except Exception as e:\n",
    "            print(f\"❌ Error al leer {subdir}: {e}\")\n",
    "    else:\n",
    "        print(f\"⚠️ Archivo no encontrado: {ruta}\")\n"
   ]
  },
  {
   "cell_type": "markdown",
   "id": "81fae3be",
   "metadata": {},
   "source": [
    "### ✅ Verificación de consistencia en las variables entre archivos `.grib`\n",
    "\n",
    "Este fragmento compara las variables meteorológicas contenidas en todos los archivos `.grib` respecto al primer archivo leído:\n",
    "\n",
    "- Se toma el primer conjunto de variables como **referencia base**.\n",
    "- Se comparan todos los demás archivos contra esa base.\n",
    "- Si un archivo tiene variables diferentes, se guarda en el diccionario `inconsistencias` con las diferencias identificadas mediante `symmetric_difference`.\n",
    "- Finalmente:\n",
    "  - Si no hay inconsistencias, imprime un mensaje de éxito.\n",
    "  - Si hay diferencias, las lista archivo por archivo indicando qué variables faltan o sobran.\n",
    "\n",
    "📌 Esto permite asegurar que todos los archivos `.grib` tienen las mismas variables antes de integrarlos o analizarlos en conjunto.\n"
   ]
  },
  {
   "cell_type": "code",
   "execution_count": 4,
   "id": "1447229f",
   "metadata": {},
   "outputs": [
    {
     "name": "stdout",
     "output_type": "stream",
     "text": [
      "🎯 Todos los archivos contienen las mismas variables.\n"
     ]
    }
   ],
   "source": [
    "# Comparar todas las variables con respecto al primer archivo\n",
    "base_archivo, base_vars = next(iter(variables_por_archivo.items()))\n",
    "inconsistencias = {}\n",
    "\n",
    "for nombre, vars_actuales in variables_por_archivo.items():\n",
    "    if vars_actuales != base_vars:\n",
    "        inconsistencias[nombre] = vars_actuales.symmetric_difference(base_vars)\n",
    "\n",
    "# Mostrar resultados\n",
    "if not inconsistencias:\n",
    "    print(\"🎯 Todos los archivos contienen las mismas variables.\")\n",
    "else:\n",
    "    print(\"⚠️ Archivos con diferencias en variables:\")\n",
    "    for nombre, dif in inconsistencias.items():\n",
    "        print(f\"- {nombre}: diferencia = {sorted(dif)}\")\n"
   ]
  },
  {
   "cell_type": "markdown",
   "id": "11720a57",
   "metadata": {},
   "source": [
    "### 🧩 Lectura y concatenación de múltiples archivos `.grib` en un solo Dataset\n",
    "\n",
    "Este bloque tiene como objetivo unificar todos los archivos `data.grib` ubicados en subdirectorios dentro de la carpeta `datos_grib_validos`:\n",
    "\n",
    "1. 🔄 **Recorrido ordenado**:\n",
    "   - Se recorre la lista de subdirectorios en orden alfabético (para mantener el orden temporal).\n",
    "   - Cada archivo `data.grib` se abre con `xarray` usando el motor `cfgrib`.\n",
    "\n",
    "2. 📦 **Carga y almacenamiento**:\n",
    "   - Los datasets leídos se agregan a una lista llamada `datasets`.\n",
    "\n",
    "3. 🔗 **Concatenación**:\n",
    "   - Todos los datasets son concatenados a lo largo de la dimensión temporal (`dim=\"time\"`) usando `xr.concat`.\n",
    "\n",
    "4. 📋 **Resumen del resultado**:\n",
    "   - Finalmente, se imprime el resumen del dataset resultante (`ds_concatenado`), que ahora contiene datos meteorológicos de múltiples fechas en una sola estructura.\n",
    "\n",
    "✅ Este paso es clave para preparar los datos en un solo objeto que pueda ser analizado o transformado más fácilmente.\n"
   ]
  },
  {
   "cell_type": "code",
   "execution_count": 5,
   "id": "d5f766fc",
   "metadata": {},
   "outputs": [
    {
     "name": "stderr",
     "output_type": "stream",
     "text": [
      "Ignoring index file 'datos_grib_validos\\\\era5land_2016_01_q1\\\\data.grib.5b7b6.idx' older than GRIB file\n",
      "c:\\Users\\jessi\\AppData\\Local\\Programs\\Python\\Python311\\Lib\\site-packages\\cfgrib\\xarray_plugin.py:131: FutureWarning: In a future version, xarray will not decode timedelta values based on the presence of a timedelta-like units attribute by default. Instead it will rely on the presence of a timedelta64 dtype attribute, which is now xarray's default way of encoding timedelta64 values. To continue decoding timedeltas based on the presence of a timedelta-like units attribute, users will need to explicitly opt-in by passing True or CFTimedeltaCoder(decode_via_units=True) to decode_timedelta. To silence this warning, set decode_timedelta to True, False, or a 'CFTimedeltaCoder' instance.\n",
      "  vars, attrs, coord_names = xr.conventions.decode_cf_variables(\n",
      "Ignoring index file 'datos_grib_validos\\\\era5land_2016_01_q2\\\\data.grib.5b7b6.idx' older than GRIB file\n"
     ]
    },
    {
     "name": "stdout",
     "output_type": "stream",
     "text": [
      "✅ Añadido: era5land_2016_01_q1\n"
     ]
    },
    {
     "name": "stderr",
     "output_type": "stream",
     "text": [
      "c:\\Users\\jessi\\AppData\\Local\\Programs\\Python\\Python311\\Lib\\site-packages\\cfgrib\\xarray_plugin.py:131: FutureWarning: In a future version, xarray will not decode timedelta values based on the presence of a timedelta-like units attribute by default. Instead it will rely on the presence of a timedelta64 dtype attribute, which is now xarray's default way of encoding timedelta64 values. To continue decoding timedeltas based on the presence of a timedelta-like units attribute, users will need to explicitly opt-in by passing True or CFTimedeltaCoder(decode_via_units=True) to decode_timedelta. To silence this warning, set decode_timedelta to True, False, or a 'CFTimedeltaCoder' instance.\n",
      "  vars, attrs, coord_names = xr.conventions.decode_cf_variables(\n",
      "Ignoring index file 'datos_grib_validos\\\\era5land_2016_02_q1\\\\data.grib.5b7b6.idx' older than GRIB file\n"
     ]
    },
    {
     "name": "stdout",
     "output_type": "stream",
     "text": [
      "✅ Añadido: era5land_2016_01_q2\n"
     ]
    },
    {
     "name": "stderr",
     "output_type": "stream",
     "text": [
      "c:\\Users\\jessi\\AppData\\Local\\Programs\\Python\\Python311\\Lib\\site-packages\\cfgrib\\xarray_plugin.py:131: FutureWarning: In a future version, xarray will not decode timedelta values based on the presence of a timedelta-like units attribute by default. Instead it will rely on the presence of a timedelta64 dtype attribute, which is now xarray's default way of encoding timedelta64 values. To continue decoding timedeltas based on the presence of a timedelta-like units attribute, users will need to explicitly opt-in by passing True or CFTimedeltaCoder(decode_via_units=True) to decode_timedelta. To silence this warning, set decode_timedelta to True, False, or a 'CFTimedeltaCoder' instance.\n",
      "  vars, attrs, coord_names = xr.conventions.decode_cf_variables(\n",
      "Ignoring index file 'datos_grib_validos\\\\era5land_2016_02_q2\\\\data.grib.5b7b6.idx' older than GRIB file\n"
     ]
    },
    {
     "name": "stdout",
     "output_type": "stream",
     "text": [
      "✅ Añadido: era5land_2016_02_q1\n"
     ]
    },
    {
     "name": "stderr",
     "output_type": "stream",
     "text": [
      "c:\\Users\\jessi\\AppData\\Local\\Programs\\Python\\Python311\\Lib\\site-packages\\cfgrib\\xarray_plugin.py:131: FutureWarning: In a future version, xarray will not decode timedelta values based on the presence of a timedelta-like units attribute by default. Instead it will rely on the presence of a timedelta64 dtype attribute, which is now xarray's default way of encoding timedelta64 values. To continue decoding timedeltas based on the presence of a timedelta-like units attribute, users will need to explicitly opt-in by passing True or CFTimedeltaCoder(decode_via_units=True) to decode_timedelta. To silence this warning, set decode_timedelta to True, False, or a 'CFTimedeltaCoder' instance.\n",
      "  vars, attrs, coord_names = xr.conventions.decode_cf_variables(\n",
      "Ignoring index file 'datos_grib_validos\\\\era5land_2016_03_q1\\\\data.grib.5b7b6.idx' older than GRIB file\n"
     ]
    },
    {
     "name": "stdout",
     "output_type": "stream",
     "text": [
      "✅ Añadido: era5land_2016_02_q2\n"
     ]
    },
    {
     "name": "stderr",
     "output_type": "stream",
     "text": [
      "c:\\Users\\jessi\\AppData\\Local\\Programs\\Python\\Python311\\Lib\\site-packages\\cfgrib\\xarray_plugin.py:131: FutureWarning: In a future version, xarray will not decode timedelta values based on the presence of a timedelta-like units attribute by default. Instead it will rely on the presence of a timedelta64 dtype attribute, which is now xarray's default way of encoding timedelta64 values. To continue decoding timedeltas based on the presence of a timedelta-like units attribute, users will need to explicitly opt-in by passing True or CFTimedeltaCoder(decode_via_units=True) to decode_timedelta. To silence this warning, set decode_timedelta to True, False, or a 'CFTimedeltaCoder' instance.\n",
      "  vars, attrs, coord_names = xr.conventions.decode_cf_variables(\n",
      "Ignoring index file 'datos_grib_validos\\\\era5land_2016_03_q2\\\\data.grib.5b7b6.idx' older than GRIB file\n"
     ]
    },
    {
     "name": "stdout",
     "output_type": "stream",
     "text": [
      "✅ Añadido: era5land_2016_03_q1\n"
     ]
    },
    {
     "name": "stderr",
     "output_type": "stream",
     "text": [
      "c:\\Users\\jessi\\AppData\\Local\\Programs\\Python\\Python311\\Lib\\site-packages\\cfgrib\\xarray_plugin.py:131: FutureWarning: In a future version, xarray will not decode timedelta values based on the presence of a timedelta-like units attribute by default. Instead it will rely on the presence of a timedelta64 dtype attribute, which is now xarray's default way of encoding timedelta64 values. To continue decoding timedeltas based on the presence of a timedelta-like units attribute, users will need to explicitly opt-in by passing True or CFTimedeltaCoder(decode_via_units=True) to decode_timedelta. To silence this warning, set decode_timedelta to True, False, or a 'CFTimedeltaCoder' instance.\n",
      "  vars, attrs, coord_names = xr.conventions.decode_cf_variables(\n",
      "Ignoring index file 'datos_grib_validos\\\\era5land_2016_04_q1\\\\data.grib.5b7b6.idx' older than GRIB file\n"
     ]
    },
    {
     "name": "stdout",
     "output_type": "stream",
     "text": [
      "✅ Añadido: era5land_2016_03_q2\n"
     ]
    },
    {
     "name": "stderr",
     "output_type": "stream",
     "text": [
      "c:\\Users\\jessi\\AppData\\Local\\Programs\\Python\\Python311\\Lib\\site-packages\\cfgrib\\xarray_plugin.py:131: FutureWarning: In a future version, xarray will not decode timedelta values based on the presence of a timedelta-like units attribute by default. Instead it will rely on the presence of a timedelta64 dtype attribute, which is now xarray's default way of encoding timedelta64 values. To continue decoding timedeltas based on the presence of a timedelta-like units attribute, users will need to explicitly opt-in by passing True or CFTimedeltaCoder(decode_via_units=True) to decode_timedelta. To silence this warning, set decode_timedelta to True, False, or a 'CFTimedeltaCoder' instance.\n",
      "  vars, attrs, coord_names = xr.conventions.decode_cf_variables(\n",
      "Ignoring index file 'datos_grib_validos\\\\era5land_2016_04_q2\\\\data.grib.5b7b6.idx' older than GRIB file\n"
     ]
    },
    {
     "name": "stdout",
     "output_type": "stream",
     "text": [
      "✅ Añadido: era5land_2016_04_q1\n"
     ]
    },
    {
     "name": "stderr",
     "output_type": "stream",
     "text": [
      "c:\\Users\\jessi\\AppData\\Local\\Programs\\Python\\Python311\\Lib\\site-packages\\cfgrib\\xarray_plugin.py:131: FutureWarning: In a future version, xarray will not decode timedelta values based on the presence of a timedelta-like units attribute by default. Instead it will rely on the presence of a timedelta64 dtype attribute, which is now xarray's default way of encoding timedelta64 values. To continue decoding timedeltas based on the presence of a timedelta-like units attribute, users will need to explicitly opt-in by passing True or CFTimedeltaCoder(decode_via_units=True) to decode_timedelta. To silence this warning, set decode_timedelta to True, False, or a 'CFTimedeltaCoder' instance.\n",
      "  vars, attrs, coord_names = xr.conventions.decode_cf_variables(\n",
      "Ignoring index file 'datos_grib_validos\\\\era5land_2016_05_q1\\\\data.grib.5b7b6.idx' older than GRIB file\n"
     ]
    },
    {
     "name": "stdout",
     "output_type": "stream",
     "text": [
      "✅ Añadido: era5land_2016_04_q2\n"
     ]
    },
    {
     "name": "stderr",
     "output_type": "stream",
     "text": [
      "c:\\Users\\jessi\\AppData\\Local\\Programs\\Python\\Python311\\Lib\\site-packages\\cfgrib\\xarray_plugin.py:131: FutureWarning: In a future version, xarray will not decode timedelta values based on the presence of a timedelta-like units attribute by default. Instead it will rely on the presence of a timedelta64 dtype attribute, which is now xarray's default way of encoding timedelta64 values. To continue decoding timedeltas based on the presence of a timedelta-like units attribute, users will need to explicitly opt-in by passing True or CFTimedeltaCoder(decode_via_units=True) to decode_timedelta. To silence this warning, set decode_timedelta to True, False, or a 'CFTimedeltaCoder' instance.\n",
      "  vars, attrs, coord_names = xr.conventions.decode_cf_variables(\n",
      "Ignoring index file 'datos_grib_validos\\\\era5land_2016_05_q2\\\\data.grib.5b7b6.idx' older than GRIB file\n"
     ]
    },
    {
     "name": "stdout",
     "output_type": "stream",
     "text": [
      "✅ Añadido: era5land_2016_05_q1\n"
     ]
    },
    {
     "name": "stderr",
     "output_type": "stream",
     "text": [
      "c:\\Users\\jessi\\AppData\\Local\\Programs\\Python\\Python311\\Lib\\site-packages\\cfgrib\\xarray_plugin.py:131: FutureWarning: In a future version, xarray will not decode timedelta values based on the presence of a timedelta-like units attribute by default. Instead it will rely on the presence of a timedelta64 dtype attribute, which is now xarray's default way of encoding timedelta64 values. To continue decoding timedeltas based on the presence of a timedelta-like units attribute, users will need to explicitly opt-in by passing True or CFTimedeltaCoder(decode_via_units=True) to decode_timedelta. To silence this warning, set decode_timedelta to True, False, or a 'CFTimedeltaCoder' instance.\n",
      "  vars, attrs, coord_names = xr.conventions.decode_cf_variables(\n",
      "Ignoring index file 'datos_grib_validos\\\\era5land_2016_06_q1\\\\data.grib.5b7b6.idx' older than GRIB file\n"
     ]
    },
    {
     "name": "stdout",
     "output_type": "stream",
     "text": [
      "✅ Añadido: era5land_2016_05_q2\n"
     ]
    },
    {
     "name": "stderr",
     "output_type": "stream",
     "text": [
      "c:\\Users\\jessi\\AppData\\Local\\Programs\\Python\\Python311\\Lib\\site-packages\\cfgrib\\xarray_plugin.py:131: FutureWarning: In a future version, xarray will not decode timedelta values based on the presence of a timedelta-like units attribute by default. Instead it will rely on the presence of a timedelta64 dtype attribute, which is now xarray's default way of encoding timedelta64 values. To continue decoding timedeltas based on the presence of a timedelta-like units attribute, users will need to explicitly opt-in by passing True or CFTimedeltaCoder(decode_via_units=True) to decode_timedelta. To silence this warning, set decode_timedelta to True, False, or a 'CFTimedeltaCoder' instance.\n",
      "  vars, attrs, coord_names = xr.conventions.decode_cf_variables(\n",
      "Ignoring index file 'datos_grib_validos\\\\era5land_2016_06_q2\\\\data.grib.5b7b6.idx' older than GRIB file\n"
     ]
    },
    {
     "name": "stdout",
     "output_type": "stream",
     "text": [
      "✅ Añadido: era5land_2016_06_q1\n"
     ]
    },
    {
     "name": "stderr",
     "output_type": "stream",
     "text": [
      "c:\\Users\\jessi\\AppData\\Local\\Programs\\Python\\Python311\\Lib\\site-packages\\cfgrib\\xarray_plugin.py:131: FutureWarning: In a future version, xarray will not decode timedelta values based on the presence of a timedelta-like units attribute by default. Instead it will rely on the presence of a timedelta64 dtype attribute, which is now xarray's default way of encoding timedelta64 values. To continue decoding timedeltas based on the presence of a timedelta-like units attribute, users will need to explicitly opt-in by passing True or CFTimedeltaCoder(decode_via_units=True) to decode_timedelta. To silence this warning, set decode_timedelta to True, False, or a 'CFTimedeltaCoder' instance.\n",
      "  vars, attrs, coord_names = xr.conventions.decode_cf_variables(\n",
      "Ignoring index file 'datos_grib_validos\\\\era5land_2016_07_q1\\\\data.grib.5b7b6.idx' older than GRIB file\n"
     ]
    },
    {
     "name": "stdout",
     "output_type": "stream",
     "text": [
      "✅ Añadido: era5land_2016_06_q2\n"
     ]
    },
    {
     "name": "stderr",
     "output_type": "stream",
     "text": [
      "c:\\Users\\jessi\\AppData\\Local\\Programs\\Python\\Python311\\Lib\\site-packages\\cfgrib\\xarray_plugin.py:131: FutureWarning: In a future version, xarray will not decode timedelta values based on the presence of a timedelta-like units attribute by default. Instead it will rely on the presence of a timedelta64 dtype attribute, which is now xarray's default way of encoding timedelta64 values. To continue decoding timedeltas based on the presence of a timedelta-like units attribute, users will need to explicitly opt-in by passing True or CFTimedeltaCoder(decode_via_units=True) to decode_timedelta. To silence this warning, set decode_timedelta to True, False, or a 'CFTimedeltaCoder' instance.\n",
      "  vars, attrs, coord_names = xr.conventions.decode_cf_variables(\n",
      "Ignoring index file 'datos_grib_validos\\\\era5land_2016_07_q2\\\\data.grib.5b7b6.idx' older than GRIB file\n"
     ]
    },
    {
     "name": "stdout",
     "output_type": "stream",
     "text": [
      "✅ Añadido: era5land_2016_07_q1\n"
     ]
    },
    {
     "name": "stderr",
     "output_type": "stream",
     "text": [
      "c:\\Users\\jessi\\AppData\\Local\\Programs\\Python\\Python311\\Lib\\site-packages\\cfgrib\\xarray_plugin.py:131: FutureWarning: In a future version, xarray will not decode timedelta values based on the presence of a timedelta-like units attribute by default. Instead it will rely on the presence of a timedelta64 dtype attribute, which is now xarray's default way of encoding timedelta64 values. To continue decoding timedeltas based on the presence of a timedelta-like units attribute, users will need to explicitly opt-in by passing True or CFTimedeltaCoder(decode_via_units=True) to decode_timedelta. To silence this warning, set decode_timedelta to True, False, or a 'CFTimedeltaCoder' instance.\n",
      "  vars, attrs, coord_names = xr.conventions.decode_cf_variables(\n",
      "Ignoring index file 'datos_grib_validos\\\\era5land_2016_08_q1\\\\data.grib.5b7b6.idx' older than GRIB file\n"
     ]
    },
    {
     "name": "stdout",
     "output_type": "stream",
     "text": [
      "✅ Añadido: era5land_2016_07_q2\n"
     ]
    },
    {
     "name": "stderr",
     "output_type": "stream",
     "text": [
      "c:\\Users\\jessi\\AppData\\Local\\Programs\\Python\\Python311\\Lib\\site-packages\\cfgrib\\xarray_plugin.py:131: FutureWarning: In a future version, xarray will not decode timedelta values based on the presence of a timedelta-like units attribute by default. Instead it will rely on the presence of a timedelta64 dtype attribute, which is now xarray's default way of encoding timedelta64 values. To continue decoding timedeltas based on the presence of a timedelta-like units attribute, users will need to explicitly opt-in by passing True or CFTimedeltaCoder(decode_via_units=True) to decode_timedelta. To silence this warning, set decode_timedelta to True, False, or a 'CFTimedeltaCoder' instance.\n",
      "  vars, attrs, coord_names = xr.conventions.decode_cf_variables(\n",
      "Ignoring index file 'datos_grib_validos\\\\era5land_2016_08_q2\\\\data.grib.5b7b6.idx' older than GRIB file\n"
     ]
    },
    {
     "name": "stdout",
     "output_type": "stream",
     "text": [
      "✅ Añadido: era5land_2016_08_q1\n"
     ]
    },
    {
     "name": "stderr",
     "output_type": "stream",
     "text": [
      "c:\\Users\\jessi\\AppData\\Local\\Programs\\Python\\Python311\\Lib\\site-packages\\cfgrib\\xarray_plugin.py:131: FutureWarning: In a future version, xarray will not decode timedelta values based on the presence of a timedelta-like units attribute by default. Instead it will rely on the presence of a timedelta64 dtype attribute, which is now xarray's default way of encoding timedelta64 values. To continue decoding timedeltas based on the presence of a timedelta-like units attribute, users will need to explicitly opt-in by passing True or CFTimedeltaCoder(decode_via_units=True) to decode_timedelta. To silence this warning, set decode_timedelta to True, False, or a 'CFTimedeltaCoder' instance.\n",
      "  vars, attrs, coord_names = xr.conventions.decode_cf_variables(\n",
      "Ignoring index file 'datos_grib_validos\\\\era5land_2016_09_q1\\\\data.grib.5b7b6.idx' older than GRIB file\n"
     ]
    },
    {
     "name": "stdout",
     "output_type": "stream",
     "text": [
      "✅ Añadido: era5land_2016_08_q2\n"
     ]
    },
    {
     "name": "stderr",
     "output_type": "stream",
     "text": [
      "c:\\Users\\jessi\\AppData\\Local\\Programs\\Python\\Python311\\Lib\\site-packages\\cfgrib\\xarray_plugin.py:131: FutureWarning: In a future version, xarray will not decode timedelta values based on the presence of a timedelta-like units attribute by default. Instead it will rely on the presence of a timedelta64 dtype attribute, which is now xarray's default way of encoding timedelta64 values. To continue decoding timedeltas based on the presence of a timedelta-like units attribute, users will need to explicitly opt-in by passing True or CFTimedeltaCoder(decode_via_units=True) to decode_timedelta. To silence this warning, set decode_timedelta to True, False, or a 'CFTimedeltaCoder' instance.\n",
      "  vars, attrs, coord_names = xr.conventions.decode_cf_variables(\n",
      "Ignoring index file 'datos_grib_validos\\\\era5land_2016_09_q2\\\\data.grib.5b7b6.idx' older than GRIB file\n"
     ]
    },
    {
     "name": "stdout",
     "output_type": "stream",
     "text": [
      "✅ Añadido: era5land_2016_09_q1\n"
     ]
    },
    {
     "name": "stderr",
     "output_type": "stream",
     "text": [
      "c:\\Users\\jessi\\AppData\\Local\\Programs\\Python\\Python311\\Lib\\site-packages\\cfgrib\\xarray_plugin.py:131: FutureWarning: In a future version, xarray will not decode timedelta values based on the presence of a timedelta-like units attribute by default. Instead it will rely on the presence of a timedelta64 dtype attribute, which is now xarray's default way of encoding timedelta64 values. To continue decoding timedeltas based on the presence of a timedelta-like units attribute, users will need to explicitly opt-in by passing True or CFTimedeltaCoder(decode_via_units=True) to decode_timedelta. To silence this warning, set decode_timedelta to True, False, or a 'CFTimedeltaCoder' instance.\n",
      "  vars, attrs, coord_names = xr.conventions.decode_cf_variables(\n",
      "Ignoring index file 'datos_grib_validos\\\\era5land_2016_10_q1\\\\data.grib.5b7b6.idx' older than GRIB file\n"
     ]
    },
    {
     "name": "stdout",
     "output_type": "stream",
     "text": [
      "✅ Añadido: era5land_2016_09_q2\n"
     ]
    },
    {
     "name": "stderr",
     "output_type": "stream",
     "text": [
      "c:\\Users\\jessi\\AppData\\Local\\Programs\\Python\\Python311\\Lib\\site-packages\\cfgrib\\xarray_plugin.py:131: FutureWarning: In a future version, xarray will not decode timedelta values based on the presence of a timedelta-like units attribute by default. Instead it will rely on the presence of a timedelta64 dtype attribute, which is now xarray's default way of encoding timedelta64 values. To continue decoding timedeltas based on the presence of a timedelta-like units attribute, users will need to explicitly opt-in by passing True or CFTimedeltaCoder(decode_via_units=True) to decode_timedelta. To silence this warning, set decode_timedelta to True, False, or a 'CFTimedeltaCoder' instance.\n",
      "  vars, attrs, coord_names = xr.conventions.decode_cf_variables(\n",
      "Ignoring index file 'datos_grib_validos\\\\era5land_2016_10_q2\\\\data.grib.5b7b6.idx' older than GRIB file\n"
     ]
    },
    {
     "name": "stdout",
     "output_type": "stream",
     "text": [
      "✅ Añadido: era5land_2016_10_q1\n"
     ]
    },
    {
     "name": "stderr",
     "output_type": "stream",
     "text": [
      "c:\\Users\\jessi\\AppData\\Local\\Programs\\Python\\Python311\\Lib\\site-packages\\cfgrib\\xarray_plugin.py:131: FutureWarning: In a future version, xarray will not decode timedelta values based on the presence of a timedelta-like units attribute by default. Instead it will rely on the presence of a timedelta64 dtype attribute, which is now xarray's default way of encoding timedelta64 values. To continue decoding timedeltas based on the presence of a timedelta-like units attribute, users will need to explicitly opt-in by passing True or CFTimedeltaCoder(decode_via_units=True) to decode_timedelta. To silence this warning, set decode_timedelta to True, False, or a 'CFTimedeltaCoder' instance.\n",
      "  vars, attrs, coord_names = xr.conventions.decode_cf_variables(\n",
      "Ignoring index file 'datos_grib_validos\\\\era5land_2016_11_q1\\\\data.grib.5b7b6.idx' older than GRIB file\n"
     ]
    },
    {
     "name": "stdout",
     "output_type": "stream",
     "text": [
      "✅ Añadido: era5land_2016_10_q2\n"
     ]
    },
    {
     "name": "stderr",
     "output_type": "stream",
     "text": [
      "c:\\Users\\jessi\\AppData\\Local\\Programs\\Python\\Python311\\Lib\\site-packages\\cfgrib\\xarray_plugin.py:131: FutureWarning: In a future version, xarray will not decode timedelta values based on the presence of a timedelta-like units attribute by default. Instead it will rely on the presence of a timedelta64 dtype attribute, which is now xarray's default way of encoding timedelta64 values. To continue decoding timedeltas based on the presence of a timedelta-like units attribute, users will need to explicitly opt-in by passing True or CFTimedeltaCoder(decode_via_units=True) to decode_timedelta. To silence this warning, set decode_timedelta to True, False, or a 'CFTimedeltaCoder' instance.\n",
      "  vars, attrs, coord_names = xr.conventions.decode_cf_variables(\n",
      "Ignoring index file 'datos_grib_validos\\\\era5land_2016_11_q2\\\\data.grib.5b7b6.idx' older than GRIB file\n"
     ]
    },
    {
     "name": "stdout",
     "output_type": "stream",
     "text": [
      "✅ Añadido: era5land_2016_11_q1\n"
     ]
    },
    {
     "name": "stderr",
     "output_type": "stream",
     "text": [
      "c:\\Users\\jessi\\AppData\\Local\\Programs\\Python\\Python311\\Lib\\site-packages\\cfgrib\\xarray_plugin.py:131: FutureWarning: In a future version, xarray will not decode timedelta values based on the presence of a timedelta-like units attribute by default. Instead it will rely on the presence of a timedelta64 dtype attribute, which is now xarray's default way of encoding timedelta64 values. To continue decoding timedeltas based on the presence of a timedelta-like units attribute, users will need to explicitly opt-in by passing True or CFTimedeltaCoder(decode_via_units=True) to decode_timedelta. To silence this warning, set decode_timedelta to True, False, or a 'CFTimedeltaCoder' instance.\n",
      "  vars, attrs, coord_names = xr.conventions.decode_cf_variables(\n",
      "Ignoring index file 'datos_grib_validos\\\\era5land_2016_12_q1\\\\data.grib.5b7b6.idx' older than GRIB file\n"
     ]
    },
    {
     "name": "stdout",
     "output_type": "stream",
     "text": [
      "✅ Añadido: era5land_2016_11_q2\n"
     ]
    },
    {
     "name": "stderr",
     "output_type": "stream",
     "text": [
      "c:\\Users\\jessi\\AppData\\Local\\Programs\\Python\\Python311\\Lib\\site-packages\\cfgrib\\xarray_plugin.py:131: FutureWarning: In a future version, xarray will not decode timedelta values based on the presence of a timedelta-like units attribute by default. Instead it will rely on the presence of a timedelta64 dtype attribute, which is now xarray's default way of encoding timedelta64 values. To continue decoding timedeltas based on the presence of a timedelta-like units attribute, users will need to explicitly opt-in by passing True or CFTimedeltaCoder(decode_via_units=True) to decode_timedelta. To silence this warning, set decode_timedelta to True, False, or a 'CFTimedeltaCoder' instance.\n",
      "  vars, attrs, coord_names = xr.conventions.decode_cf_variables(\n",
      "Ignoring index file 'datos_grib_validos\\\\era5land_2016_12_q2\\\\data.grib.5b7b6.idx' older than GRIB file\n"
     ]
    },
    {
     "name": "stdout",
     "output_type": "stream",
     "text": [
      "✅ Añadido: era5land_2016_12_q1\n"
     ]
    },
    {
     "name": "stderr",
     "output_type": "stream",
     "text": [
      "c:\\Users\\jessi\\AppData\\Local\\Programs\\Python\\Python311\\Lib\\site-packages\\cfgrib\\xarray_plugin.py:131: FutureWarning: In a future version, xarray will not decode timedelta values based on the presence of a timedelta-like units attribute by default. Instead it will rely on the presence of a timedelta64 dtype attribute, which is now xarray's default way of encoding timedelta64 values. To continue decoding timedeltas based on the presence of a timedelta-like units attribute, users will need to explicitly opt-in by passing True or CFTimedeltaCoder(decode_via_units=True) to decode_timedelta. To silence this warning, set decode_timedelta to True, False, or a 'CFTimedeltaCoder' instance.\n",
      "  vars, attrs, coord_names = xr.conventions.decode_cf_variables(\n",
      "Ignoring index file 'datos_grib_validos\\\\era5land_2017_01_q1\\\\data.grib.5b7b6.idx' older than GRIB file\n"
     ]
    },
    {
     "name": "stdout",
     "output_type": "stream",
     "text": [
      "✅ Añadido: era5land_2016_12_q2\n"
     ]
    },
    {
     "name": "stderr",
     "output_type": "stream",
     "text": [
      "c:\\Users\\jessi\\AppData\\Local\\Programs\\Python\\Python311\\Lib\\site-packages\\cfgrib\\xarray_plugin.py:131: FutureWarning: In a future version, xarray will not decode timedelta values based on the presence of a timedelta-like units attribute by default. Instead it will rely on the presence of a timedelta64 dtype attribute, which is now xarray's default way of encoding timedelta64 values. To continue decoding timedeltas based on the presence of a timedelta-like units attribute, users will need to explicitly opt-in by passing True or CFTimedeltaCoder(decode_via_units=True) to decode_timedelta. To silence this warning, set decode_timedelta to True, False, or a 'CFTimedeltaCoder' instance.\n",
      "  vars, attrs, coord_names = xr.conventions.decode_cf_variables(\n",
      "Ignoring index file 'datos_grib_validos\\\\era5land_2017_01_q2\\\\data.grib.5b7b6.idx' older than GRIB file\n"
     ]
    },
    {
     "name": "stdout",
     "output_type": "stream",
     "text": [
      "✅ Añadido: era5land_2017_01_q1\n"
     ]
    },
    {
     "name": "stderr",
     "output_type": "stream",
     "text": [
      "c:\\Users\\jessi\\AppData\\Local\\Programs\\Python\\Python311\\Lib\\site-packages\\cfgrib\\xarray_plugin.py:131: FutureWarning: In a future version, xarray will not decode timedelta values based on the presence of a timedelta-like units attribute by default. Instead it will rely on the presence of a timedelta64 dtype attribute, which is now xarray's default way of encoding timedelta64 values. To continue decoding timedeltas based on the presence of a timedelta-like units attribute, users will need to explicitly opt-in by passing True or CFTimedeltaCoder(decode_via_units=True) to decode_timedelta. To silence this warning, set decode_timedelta to True, False, or a 'CFTimedeltaCoder' instance.\n",
      "  vars, attrs, coord_names = xr.conventions.decode_cf_variables(\n",
      "Ignoring index file 'datos_grib_validos\\\\era5land_2017_02_q1\\\\data.grib.5b7b6.idx' older than GRIB file\n"
     ]
    },
    {
     "name": "stdout",
     "output_type": "stream",
     "text": [
      "✅ Añadido: era5land_2017_01_q2\n"
     ]
    },
    {
     "name": "stderr",
     "output_type": "stream",
     "text": [
      "c:\\Users\\jessi\\AppData\\Local\\Programs\\Python\\Python311\\Lib\\site-packages\\cfgrib\\xarray_plugin.py:131: FutureWarning: In a future version, xarray will not decode timedelta values based on the presence of a timedelta-like units attribute by default. Instead it will rely on the presence of a timedelta64 dtype attribute, which is now xarray's default way of encoding timedelta64 values. To continue decoding timedeltas based on the presence of a timedelta-like units attribute, users will need to explicitly opt-in by passing True or CFTimedeltaCoder(decode_via_units=True) to decode_timedelta. To silence this warning, set decode_timedelta to True, False, or a 'CFTimedeltaCoder' instance.\n",
      "  vars, attrs, coord_names = xr.conventions.decode_cf_variables(\n",
      "Ignoring index file 'datos_grib_validos\\\\era5land_2017_02_q2\\\\data.grib.5b7b6.idx' older than GRIB file\n"
     ]
    },
    {
     "name": "stdout",
     "output_type": "stream",
     "text": [
      "✅ Añadido: era5land_2017_02_q1\n"
     ]
    },
    {
     "name": "stderr",
     "output_type": "stream",
     "text": [
      "c:\\Users\\jessi\\AppData\\Local\\Programs\\Python\\Python311\\Lib\\site-packages\\cfgrib\\xarray_plugin.py:131: FutureWarning: In a future version, xarray will not decode timedelta values based on the presence of a timedelta-like units attribute by default. Instead it will rely on the presence of a timedelta64 dtype attribute, which is now xarray's default way of encoding timedelta64 values. To continue decoding timedeltas based on the presence of a timedelta-like units attribute, users will need to explicitly opt-in by passing True or CFTimedeltaCoder(decode_via_units=True) to decode_timedelta. To silence this warning, set decode_timedelta to True, False, or a 'CFTimedeltaCoder' instance.\n",
      "  vars, attrs, coord_names = xr.conventions.decode_cf_variables(\n",
      "Ignoring index file 'datos_grib_validos\\\\era5land_2017_03_q1\\\\data.grib.5b7b6.idx' older than GRIB file\n"
     ]
    },
    {
     "name": "stdout",
     "output_type": "stream",
     "text": [
      "✅ Añadido: era5land_2017_02_q2\n"
     ]
    },
    {
     "name": "stderr",
     "output_type": "stream",
     "text": [
      "c:\\Users\\jessi\\AppData\\Local\\Programs\\Python\\Python311\\Lib\\site-packages\\cfgrib\\xarray_plugin.py:131: FutureWarning: In a future version, xarray will not decode timedelta values based on the presence of a timedelta-like units attribute by default. Instead it will rely on the presence of a timedelta64 dtype attribute, which is now xarray's default way of encoding timedelta64 values. To continue decoding timedeltas based on the presence of a timedelta-like units attribute, users will need to explicitly opt-in by passing True or CFTimedeltaCoder(decode_via_units=True) to decode_timedelta. To silence this warning, set decode_timedelta to True, False, or a 'CFTimedeltaCoder' instance.\n",
      "  vars, attrs, coord_names = xr.conventions.decode_cf_variables(\n",
      "Ignoring index file 'datos_grib_validos\\\\era5land_2017_03_q2\\\\data.grib.5b7b6.idx' older than GRIB file\n"
     ]
    },
    {
     "name": "stdout",
     "output_type": "stream",
     "text": [
      "✅ Añadido: era5land_2017_03_q1\n"
     ]
    },
    {
     "name": "stderr",
     "output_type": "stream",
     "text": [
      "c:\\Users\\jessi\\AppData\\Local\\Programs\\Python\\Python311\\Lib\\site-packages\\cfgrib\\xarray_plugin.py:131: FutureWarning: In a future version, xarray will not decode timedelta values based on the presence of a timedelta-like units attribute by default. Instead it will rely on the presence of a timedelta64 dtype attribute, which is now xarray's default way of encoding timedelta64 values. To continue decoding timedeltas based on the presence of a timedelta-like units attribute, users will need to explicitly opt-in by passing True or CFTimedeltaCoder(decode_via_units=True) to decode_timedelta. To silence this warning, set decode_timedelta to True, False, or a 'CFTimedeltaCoder' instance.\n",
      "  vars, attrs, coord_names = xr.conventions.decode_cf_variables(\n",
      "Ignoring index file 'datos_grib_validos\\\\era5land_2017_04_q1\\\\data.grib.5b7b6.idx' older than GRIB file\n"
     ]
    },
    {
     "name": "stdout",
     "output_type": "stream",
     "text": [
      "✅ Añadido: era5land_2017_03_q2\n"
     ]
    },
    {
     "name": "stderr",
     "output_type": "stream",
     "text": [
      "c:\\Users\\jessi\\AppData\\Local\\Programs\\Python\\Python311\\Lib\\site-packages\\cfgrib\\xarray_plugin.py:131: FutureWarning: In a future version, xarray will not decode timedelta values based on the presence of a timedelta-like units attribute by default. Instead it will rely on the presence of a timedelta64 dtype attribute, which is now xarray's default way of encoding timedelta64 values. To continue decoding timedeltas based on the presence of a timedelta-like units attribute, users will need to explicitly opt-in by passing True or CFTimedeltaCoder(decode_via_units=True) to decode_timedelta. To silence this warning, set decode_timedelta to True, False, or a 'CFTimedeltaCoder' instance.\n",
      "  vars, attrs, coord_names = xr.conventions.decode_cf_variables(\n",
      "Ignoring index file 'datos_grib_validos\\\\era5land_2017_04_q2\\\\data.grib.5b7b6.idx' older than GRIB file\n"
     ]
    },
    {
     "name": "stdout",
     "output_type": "stream",
     "text": [
      "✅ Añadido: era5land_2017_04_q1\n"
     ]
    },
    {
     "name": "stderr",
     "output_type": "stream",
     "text": [
      "c:\\Users\\jessi\\AppData\\Local\\Programs\\Python\\Python311\\Lib\\site-packages\\cfgrib\\xarray_plugin.py:131: FutureWarning: In a future version, xarray will not decode timedelta values based on the presence of a timedelta-like units attribute by default. Instead it will rely on the presence of a timedelta64 dtype attribute, which is now xarray's default way of encoding timedelta64 values. To continue decoding timedeltas based on the presence of a timedelta-like units attribute, users will need to explicitly opt-in by passing True or CFTimedeltaCoder(decode_via_units=True) to decode_timedelta. To silence this warning, set decode_timedelta to True, False, or a 'CFTimedeltaCoder' instance.\n",
      "  vars, attrs, coord_names = xr.conventions.decode_cf_variables(\n",
      "Ignoring index file 'datos_grib_validos\\\\era5land_2017_05_q1\\\\data.grib.5b7b6.idx' older than GRIB file\n"
     ]
    },
    {
     "name": "stdout",
     "output_type": "stream",
     "text": [
      "✅ Añadido: era5land_2017_04_q2\n"
     ]
    },
    {
     "name": "stderr",
     "output_type": "stream",
     "text": [
      "c:\\Users\\jessi\\AppData\\Local\\Programs\\Python\\Python311\\Lib\\site-packages\\cfgrib\\xarray_plugin.py:131: FutureWarning: In a future version, xarray will not decode timedelta values based on the presence of a timedelta-like units attribute by default. Instead it will rely on the presence of a timedelta64 dtype attribute, which is now xarray's default way of encoding timedelta64 values. To continue decoding timedeltas based on the presence of a timedelta-like units attribute, users will need to explicitly opt-in by passing True or CFTimedeltaCoder(decode_via_units=True) to decode_timedelta. To silence this warning, set decode_timedelta to True, False, or a 'CFTimedeltaCoder' instance.\n",
      "  vars, attrs, coord_names = xr.conventions.decode_cf_variables(\n",
      "Ignoring index file 'datos_grib_validos\\\\era5land_2017_05_q2\\\\data.grib.5b7b6.idx' older than GRIB file\n"
     ]
    },
    {
     "name": "stdout",
     "output_type": "stream",
     "text": [
      "✅ Añadido: era5land_2017_05_q1\n"
     ]
    },
    {
     "name": "stderr",
     "output_type": "stream",
     "text": [
      "c:\\Users\\jessi\\AppData\\Local\\Programs\\Python\\Python311\\Lib\\site-packages\\cfgrib\\xarray_plugin.py:131: FutureWarning: In a future version, xarray will not decode timedelta values based on the presence of a timedelta-like units attribute by default. Instead it will rely on the presence of a timedelta64 dtype attribute, which is now xarray's default way of encoding timedelta64 values. To continue decoding timedeltas based on the presence of a timedelta-like units attribute, users will need to explicitly opt-in by passing True or CFTimedeltaCoder(decode_via_units=True) to decode_timedelta. To silence this warning, set decode_timedelta to True, False, or a 'CFTimedeltaCoder' instance.\n",
      "  vars, attrs, coord_names = xr.conventions.decode_cf_variables(\n",
      "Ignoring index file 'datos_grib_validos\\\\era5land_2017_06_q1\\\\data.grib.5b7b6.idx' older than GRIB file\n"
     ]
    },
    {
     "name": "stdout",
     "output_type": "stream",
     "text": [
      "✅ Añadido: era5land_2017_05_q2\n"
     ]
    },
    {
     "name": "stderr",
     "output_type": "stream",
     "text": [
      "c:\\Users\\jessi\\AppData\\Local\\Programs\\Python\\Python311\\Lib\\site-packages\\cfgrib\\xarray_plugin.py:131: FutureWarning: In a future version, xarray will not decode timedelta values based on the presence of a timedelta-like units attribute by default. Instead it will rely on the presence of a timedelta64 dtype attribute, which is now xarray's default way of encoding timedelta64 values. To continue decoding timedeltas based on the presence of a timedelta-like units attribute, users will need to explicitly opt-in by passing True or CFTimedeltaCoder(decode_via_units=True) to decode_timedelta. To silence this warning, set decode_timedelta to True, False, or a 'CFTimedeltaCoder' instance.\n",
      "  vars, attrs, coord_names = xr.conventions.decode_cf_variables(\n",
      "Ignoring index file 'datos_grib_validos\\\\era5land_2017_06_q2\\\\data.grib.5b7b6.idx' older than GRIB file\n"
     ]
    },
    {
     "name": "stdout",
     "output_type": "stream",
     "text": [
      "✅ Añadido: era5land_2017_06_q1\n"
     ]
    },
    {
     "name": "stderr",
     "output_type": "stream",
     "text": [
      "c:\\Users\\jessi\\AppData\\Local\\Programs\\Python\\Python311\\Lib\\site-packages\\cfgrib\\xarray_plugin.py:131: FutureWarning: In a future version, xarray will not decode timedelta values based on the presence of a timedelta-like units attribute by default. Instead it will rely on the presence of a timedelta64 dtype attribute, which is now xarray's default way of encoding timedelta64 values. To continue decoding timedeltas based on the presence of a timedelta-like units attribute, users will need to explicitly opt-in by passing True or CFTimedeltaCoder(decode_via_units=True) to decode_timedelta. To silence this warning, set decode_timedelta to True, False, or a 'CFTimedeltaCoder' instance.\n",
      "  vars, attrs, coord_names = xr.conventions.decode_cf_variables(\n",
      "Ignoring index file 'datos_grib_validos\\\\era5land_2017_07_q1\\\\data.grib.5b7b6.idx' older than GRIB file\n"
     ]
    },
    {
     "name": "stdout",
     "output_type": "stream",
     "text": [
      "✅ Añadido: era5land_2017_06_q2\n"
     ]
    },
    {
     "name": "stderr",
     "output_type": "stream",
     "text": [
      "c:\\Users\\jessi\\AppData\\Local\\Programs\\Python\\Python311\\Lib\\site-packages\\cfgrib\\xarray_plugin.py:131: FutureWarning: In a future version, xarray will not decode timedelta values based on the presence of a timedelta-like units attribute by default. Instead it will rely on the presence of a timedelta64 dtype attribute, which is now xarray's default way of encoding timedelta64 values. To continue decoding timedeltas based on the presence of a timedelta-like units attribute, users will need to explicitly opt-in by passing True or CFTimedeltaCoder(decode_via_units=True) to decode_timedelta. To silence this warning, set decode_timedelta to True, False, or a 'CFTimedeltaCoder' instance.\n",
      "  vars, attrs, coord_names = xr.conventions.decode_cf_variables(\n",
      "Ignoring index file 'datos_grib_validos\\\\era5land_2017_07_q2\\\\data.grib.5b7b6.idx' older than GRIB file\n"
     ]
    },
    {
     "name": "stdout",
     "output_type": "stream",
     "text": [
      "✅ Añadido: era5land_2017_07_q1\n"
     ]
    },
    {
     "name": "stderr",
     "output_type": "stream",
     "text": [
      "c:\\Users\\jessi\\AppData\\Local\\Programs\\Python\\Python311\\Lib\\site-packages\\cfgrib\\xarray_plugin.py:131: FutureWarning: In a future version, xarray will not decode timedelta values based on the presence of a timedelta-like units attribute by default. Instead it will rely on the presence of a timedelta64 dtype attribute, which is now xarray's default way of encoding timedelta64 values. To continue decoding timedeltas based on the presence of a timedelta-like units attribute, users will need to explicitly opt-in by passing True or CFTimedeltaCoder(decode_via_units=True) to decode_timedelta. To silence this warning, set decode_timedelta to True, False, or a 'CFTimedeltaCoder' instance.\n",
      "  vars, attrs, coord_names = xr.conventions.decode_cf_variables(\n",
      "Ignoring index file 'datos_grib_validos\\\\era5land_2017_08_q1\\\\data.grib.5b7b6.idx' older than GRIB file\n"
     ]
    },
    {
     "name": "stdout",
     "output_type": "stream",
     "text": [
      "✅ Añadido: era5land_2017_07_q2\n"
     ]
    },
    {
     "name": "stderr",
     "output_type": "stream",
     "text": [
      "c:\\Users\\jessi\\AppData\\Local\\Programs\\Python\\Python311\\Lib\\site-packages\\cfgrib\\xarray_plugin.py:131: FutureWarning: In a future version, xarray will not decode timedelta values based on the presence of a timedelta-like units attribute by default. Instead it will rely on the presence of a timedelta64 dtype attribute, which is now xarray's default way of encoding timedelta64 values. To continue decoding timedeltas based on the presence of a timedelta-like units attribute, users will need to explicitly opt-in by passing True or CFTimedeltaCoder(decode_via_units=True) to decode_timedelta. To silence this warning, set decode_timedelta to True, False, or a 'CFTimedeltaCoder' instance.\n",
      "  vars, attrs, coord_names = xr.conventions.decode_cf_variables(\n",
      "Ignoring index file 'datos_grib_validos\\\\era5land_2017_08_q2\\\\data.grib.5b7b6.idx' older than GRIB file\n"
     ]
    },
    {
     "name": "stdout",
     "output_type": "stream",
     "text": [
      "✅ Añadido: era5land_2017_08_q1\n"
     ]
    },
    {
     "name": "stderr",
     "output_type": "stream",
     "text": [
      "c:\\Users\\jessi\\AppData\\Local\\Programs\\Python\\Python311\\Lib\\site-packages\\cfgrib\\xarray_plugin.py:131: FutureWarning: In a future version, xarray will not decode timedelta values based on the presence of a timedelta-like units attribute by default. Instead it will rely on the presence of a timedelta64 dtype attribute, which is now xarray's default way of encoding timedelta64 values. To continue decoding timedeltas based on the presence of a timedelta-like units attribute, users will need to explicitly opt-in by passing True or CFTimedeltaCoder(decode_via_units=True) to decode_timedelta. To silence this warning, set decode_timedelta to True, False, or a 'CFTimedeltaCoder' instance.\n",
      "  vars, attrs, coord_names = xr.conventions.decode_cf_variables(\n",
      "Ignoring index file 'datos_grib_validos\\\\era5land_2017_09_q1\\\\data.grib.5b7b6.idx' older than GRIB file\n"
     ]
    },
    {
     "name": "stdout",
     "output_type": "stream",
     "text": [
      "✅ Añadido: era5land_2017_08_q2\n"
     ]
    },
    {
     "name": "stderr",
     "output_type": "stream",
     "text": [
      "c:\\Users\\jessi\\AppData\\Local\\Programs\\Python\\Python311\\Lib\\site-packages\\cfgrib\\xarray_plugin.py:131: FutureWarning: In a future version, xarray will not decode timedelta values based on the presence of a timedelta-like units attribute by default. Instead it will rely on the presence of a timedelta64 dtype attribute, which is now xarray's default way of encoding timedelta64 values. To continue decoding timedeltas based on the presence of a timedelta-like units attribute, users will need to explicitly opt-in by passing True or CFTimedeltaCoder(decode_via_units=True) to decode_timedelta. To silence this warning, set decode_timedelta to True, False, or a 'CFTimedeltaCoder' instance.\n",
      "  vars, attrs, coord_names = xr.conventions.decode_cf_variables(\n",
      "Ignoring index file 'datos_grib_validos\\\\era5land_2017_09_q2\\\\data.grib.5b7b6.idx' older than GRIB file\n"
     ]
    },
    {
     "name": "stdout",
     "output_type": "stream",
     "text": [
      "✅ Añadido: era5land_2017_09_q1\n"
     ]
    },
    {
     "name": "stderr",
     "output_type": "stream",
     "text": [
      "c:\\Users\\jessi\\AppData\\Local\\Programs\\Python\\Python311\\Lib\\site-packages\\cfgrib\\xarray_plugin.py:131: FutureWarning: In a future version, xarray will not decode timedelta values based on the presence of a timedelta-like units attribute by default. Instead it will rely on the presence of a timedelta64 dtype attribute, which is now xarray's default way of encoding timedelta64 values. To continue decoding timedeltas based on the presence of a timedelta-like units attribute, users will need to explicitly opt-in by passing True or CFTimedeltaCoder(decode_via_units=True) to decode_timedelta. To silence this warning, set decode_timedelta to True, False, or a 'CFTimedeltaCoder' instance.\n",
      "  vars, attrs, coord_names = xr.conventions.decode_cf_variables(\n",
      "Ignoring index file 'datos_grib_validos\\\\era5land_2017_10_q1\\\\data.grib.5b7b6.idx' older than GRIB file\n"
     ]
    },
    {
     "name": "stdout",
     "output_type": "stream",
     "text": [
      "✅ Añadido: era5land_2017_09_q2\n"
     ]
    },
    {
     "name": "stderr",
     "output_type": "stream",
     "text": [
      "c:\\Users\\jessi\\AppData\\Local\\Programs\\Python\\Python311\\Lib\\site-packages\\cfgrib\\xarray_plugin.py:131: FutureWarning: In a future version, xarray will not decode timedelta values based on the presence of a timedelta-like units attribute by default. Instead it will rely on the presence of a timedelta64 dtype attribute, which is now xarray's default way of encoding timedelta64 values. To continue decoding timedeltas based on the presence of a timedelta-like units attribute, users will need to explicitly opt-in by passing True or CFTimedeltaCoder(decode_via_units=True) to decode_timedelta. To silence this warning, set decode_timedelta to True, False, or a 'CFTimedeltaCoder' instance.\n",
      "  vars, attrs, coord_names = xr.conventions.decode_cf_variables(\n",
      "Ignoring index file 'datos_grib_validos\\\\era5land_2017_10_q2\\\\data.grib.5b7b6.idx' older than GRIB file\n"
     ]
    },
    {
     "name": "stdout",
     "output_type": "stream",
     "text": [
      "✅ Añadido: era5land_2017_10_q1\n"
     ]
    },
    {
     "name": "stderr",
     "output_type": "stream",
     "text": [
      "c:\\Users\\jessi\\AppData\\Local\\Programs\\Python\\Python311\\Lib\\site-packages\\cfgrib\\xarray_plugin.py:131: FutureWarning: In a future version, xarray will not decode timedelta values based on the presence of a timedelta-like units attribute by default. Instead it will rely on the presence of a timedelta64 dtype attribute, which is now xarray's default way of encoding timedelta64 values. To continue decoding timedeltas based on the presence of a timedelta-like units attribute, users will need to explicitly opt-in by passing True or CFTimedeltaCoder(decode_via_units=True) to decode_timedelta. To silence this warning, set decode_timedelta to True, False, or a 'CFTimedeltaCoder' instance.\n",
      "  vars, attrs, coord_names = xr.conventions.decode_cf_variables(\n",
      "Ignoring index file 'datos_grib_validos\\\\era5land_2017_11_q1\\\\data.grib.5b7b6.idx' older than GRIB file\n"
     ]
    },
    {
     "name": "stdout",
     "output_type": "stream",
     "text": [
      "✅ Añadido: era5land_2017_10_q2\n"
     ]
    },
    {
     "name": "stderr",
     "output_type": "stream",
     "text": [
      "c:\\Users\\jessi\\AppData\\Local\\Programs\\Python\\Python311\\Lib\\site-packages\\cfgrib\\xarray_plugin.py:131: FutureWarning: In a future version, xarray will not decode timedelta values based on the presence of a timedelta-like units attribute by default. Instead it will rely on the presence of a timedelta64 dtype attribute, which is now xarray's default way of encoding timedelta64 values. To continue decoding timedeltas based on the presence of a timedelta-like units attribute, users will need to explicitly opt-in by passing True or CFTimedeltaCoder(decode_via_units=True) to decode_timedelta. To silence this warning, set decode_timedelta to True, False, or a 'CFTimedeltaCoder' instance.\n",
      "  vars, attrs, coord_names = xr.conventions.decode_cf_variables(\n",
      "Ignoring index file 'datos_grib_validos\\\\era5land_2017_11_q2\\\\data.grib.5b7b6.idx' older than GRIB file\n"
     ]
    },
    {
     "name": "stdout",
     "output_type": "stream",
     "text": [
      "✅ Añadido: era5land_2017_11_q1\n"
     ]
    },
    {
     "name": "stderr",
     "output_type": "stream",
     "text": [
      "c:\\Users\\jessi\\AppData\\Local\\Programs\\Python\\Python311\\Lib\\site-packages\\cfgrib\\xarray_plugin.py:131: FutureWarning: In a future version, xarray will not decode timedelta values based on the presence of a timedelta-like units attribute by default. Instead it will rely on the presence of a timedelta64 dtype attribute, which is now xarray's default way of encoding timedelta64 values. To continue decoding timedeltas based on the presence of a timedelta-like units attribute, users will need to explicitly opt-in by passing True or CFTimedeltaCoder(decode_via_units=True) to decode_timedelta. To silence this warning, set decode_timedelta to True, False, or a 'CFTimedeltaCoder' instance.\n",
      "  vars, attrs, coord_names = xr.conventions.decode_cf_variables(\n",
      "Ignoring index file 'datos_grib_validos\\\\era5land_2017_12_q1\\\\data.grib.5b7b6.idx' older than GRIB file\n"
     ]
    },
    {
     "name": "stdout",
     "output_type": "stream",
     "text": [
      "✅ Añadido: era5land_2017_11_q2\n"
     ]
    },
    {
     "name": "stderr",
     "output_type": "stream",
     "text": [
      "c:\\Users\\jessi\\AppData\\Local\\Programs\\Python\\Python311\\Lib\\site-packages\\cfgrib\\xarray_plugin.py:131: FutureWarning: In a future version, xarray will not decode timedelta values based on the presence of a timedelta-like units attribute by default. Instead it will rely on the presence of a timedelta64 dtype attribute, which is now xarray's default way of encoding timedelta64 values. To continue decoding timedeltas based on the presence of a timedelta-like units attribute, users will need to explicitly opt-in by passing True or CFTimedeltaCoder(decode_via_units=True) to decode_timedelta. To silence this warning, set decode_timedelta to True, False, or a 'CFTimedeltaCoder' instance.\n",
      "  vars, attrs, coord_names = xr.conventions.decode_cf_variables(\n",
      "Ignoring index file 'datos_grib_validos\\\\era5land_2017_12_q2\\\\data.grib.5b7b6.idx' older than GRIB file\n"
     ]
    },
    {
     "name": "stdout",
     "output_type": "stream",
     "text": [
      "✅ Añadido: era5land_2017_12_q1\n"
     ]
    },
    {
     "name": "stderr",
     "output_type": "stream",
     "text": [
      "c:\\Users\\jessi\\AppData\\Local\\Programs\\Python\\Python311\\Lib\\site-packages\\cfgrib\\xarray_plugin.py:131: FutureWarning: In a future version, xarray will not decode timedelta values based on the presence of a timedelta-like units attribute by default. Instead it will rely on the presence of a timedelta64 dtype attribute, which is now xarray's default way of encoding timedelta64 values. To continue decoding timedeltas based on the presence of a timedelta-like units attribute, users will need to explicitly opt-in by passing True or CFTimedeltaCoder(decode_via_units=True) to decode_timedelta. To silence this warning, set decode_timedelta to True, False, or a 'CFTimedeltaCoder' instance.\n",
      "  vars, attrs, coord_names = xr.conventions.decode_cf_variables(\n",
      "Ignoring index file 'datos_grib_validos\\\\era5land_2018_01_q1\\\\data.grib.5b7b6.idx' older than GRIB file\n"
     ]
    },
    {
     "name": "stdout",
     "output_type": "stream",
     "text": [
      "✅ Añadido: era5land_2017_12_q2\n"
     ]
    },
    {
     "name": "stderr",
     "output_type": "stream",
     "text": [
      "c:\\Users\\jessi\\AppData\\Local\\Programs\\Python\\Python311\\Lib\\site-packages\\cfgrib\\xarray_plugin.py:131: FutureWarning: In a future version, xarray will not decode timedelta values based on the presence of a timedelta-like units attribute by default. Instead it will rely on the presence of a timedelta64 dtype attribute, which is now xarray's default way of encoding timedelta64 values. To continue decoding timedeltas based on the presence of a timedelta-like units attribute, users will need to explicitly opt-in by passing True or CFTimedeltaCoder(decode_via_units=True) to decode_timedelta. To silence this warning, set decode_timedelta to True, False, or a 'CFTimedeltaCoder' instance.\n",
      "  vars, attrs, coord_names = xr.conventions.decode_cf_variables(\n",
      "Ignoring index file 'datos_grib_validos\\\\era5land_2018_01_q2\\\\data.grib.5b7b6.idx' older than GRIB file\n"
     ]
    },
    {
     "name": "stdout",
     "output_type": "stream",
     "text": [
      "✅ Añadido: era5land_2018_01_q1\n"
     ]
    },
    {
     "name": "stderr",
     "output_type": "stream",
     "text": [
      "c:\\Users\\jessi\\AppData\\Local\\Programs\\Python\\Python311\\Lib\\site-packages\\cfgrib\\xarray_plugin.py:131: FutureWarning: In a future version, xarray will not decode timedelta values based on the presence of a timedelta-like units attribute by default. Instead it will rely on the presence of a timedelta64 dtype attribute, which is now xarray's default way of encoding timedelta64 values. To continue decoding timedeltas based on the presence of a timedelta-like units attribute, users will need to explicitly opt-in by passing True or CFTimedeltaCoder(decode_via_units=True) to decode_timedelta. To silence this warning, set decode_timedelta to True, False, or a 'CFTimedeltaCoder' instance.\n",
      "  vars, attrs, coord_names = xr.conventions.decode_cf_variables(\n",
      "Ignoring index file 'datos_grib_validos\\\\era5land_2018_02_q1\\\\data.grib.5b7b6.idx' older than GRIB file\n"
     ]
    },
    {
     "name": "stdout",
     "output_type": "stream",
     "text": [
      "✅ Añadido: era5land_2018_01_q2\n"
     ]
    },
    {
     "name": "stderr",
     "output_type": "stream",
     "text": [
      "c:\\Users\\jessi\\AppData\\Local\\Programs\\Python\\Python311\\Lib\\site-packages\\cfgrib\\xarray_plugin.py:131: FutureWarning: In a future version, xarray will not decode timedelta values based on the presence of a timedelta-like units attribute by default. Instead it will rely on the presence of a timedelta64 dtype attribute, which is now xarray's default way of encoding timedelta64 values. To continue decoding timedeltas based on the presence of a timedelta-like units attribute, users will need to explicitly opt-in by passing True or CFTimedeltaCoder(decode_via_units=True) to decode_timedelta. To silence this warning, set decode_timedelta to True, False, or a 'CFTimedeltaCoder' instance.\n",
      "  vars, attrs, coord_names = xr.conventions.decode_cf_variables(\n",
      "Ignoring index file 'datos_grib_validos\\\\era5land_2018_02_q2\\\\data.grib.5b7b6.idx' older than GRIB file\n"
     ]
    },
    {
     "name": "stdout",
     "output_type": "stream",
     "text": [
      "✅ Añadido: era5land_2018_02_q1\n"
     ]
    },
    {
     "name": "stderr",
     "output_type": "stream",
     "text": [
      "c:\\Users\\jessi\\AppData\\Local\\Programs\\Python\\Python311\\Lib\\site-packages\\cfgrib\\xarray_plugin.py:131: FutureWarning: In a future version, xarray will not decode timedelta values based on the presence of a timedelta-like units attribute by default. Instead it will rely on the presence of a timedelta64 dtype attribute, which is now xarray's default way of encoding timedelta64 values. To continue decoding timedeltas based on the presence of a timedelta-like units attribute, users will need to explicitly opt-in by passing True or CFTimedeltaCoder(decode_via_units=True) to decode_timedelta. To silence this warning, set decode_timedelta to True, False, or a 'CFTimedeltaCoder' instance.\n",
      "  vars, attrs, coord_names = xr.conventions.decode_cf_variables(\n",
      "Ignoring index file 'datos_grib_validos\\\\era5land_2018_03_q1\\\\data.grib.5b7b6.idx' older than GRIB file\n"
     ]
    },
    {
     "name": "stdout",
     "output_type": "stream",
     "text": [
      "✅ Añadido: era5land_2018_02_q2\n"
     ]
    },
    {
     "name": "stderr",
     "output_type": "stream",
     "text": [
      "c:\\Users\\jessi\\AppData\\Local\\Programs\\Python\\Python311\\Lib\\site-packages\\cfgrib\\xarray_plugin.py:131: FutureWarning: In a future version, xarray will not decode timedelta values based on the presence of a timedelta-like units attribute by default. Instead it will rely on the presence of a timedelta64 dtype attribute, which is now xarray's default way of encoding timedelta64 values. To continue decoding timedeltas based on the presence of a timedelta-like units attribute, users will need to explicitly opt-in by passing True or CFTimedeltaCoder(decode_via_units=True) to decode_timedelta. To silence this warning, set decode_timedelta to True, False, or a 'CFTimedeltaCoder' instance.\n",
      "  vars, attrs, coord_names = xr.conventions.decode_cf_variables(\n",
      "Ignoring index file 'datos_grib_validos\\\\era5land_2018_03_q2\\\\data.grib.5b7b6.idx' older than GRIB file\n"
     ]
    },
    {
     "name": "stdout",
     "output_type": "stream",
     "text": [
      "✅ Añadido: era5land_2018_03_q1\n"
     ]
    },
    {
     "name": "stderr",
     "output_type": "stream",
     "text": [
      "c:\\Users\\jessi\\AppData\\Local\\Programs\\Python\\Python311\\Lib\\site-packages\\cfgrib\\xarray_plugin.py:131: FutureWarning: In a future version, xarray will not decode timedelta values based on the presence of a timedelta-like units attribute by default. Instead it will rely on the presence of a timedelta64 dtype attribute, which is now xarray's default way of encoding timedelta64 values. To continue decoding timedeltas based on the presence of a timedelta-like units attribute, users will need to explicitly opt-in by passing True or CFTimedeltaCoder(decode_via_units=True) to decode_timedelta. To silence this warning, set decode_timedelta to True, False, or a 'CFTimedeltaCoder' instance.\n",
      "  vars, attrs, coord_names = xr.conventions.decode_cf_variables(\n",
      "Ignoring index file 'datos_grib_validos\\\\era5land_2018_04_q1\\\\data.grib.5b7b6.idx' older than GRIB file\n"
     ]
    },
    {
     "name": "stdout",
     "output_type": "stream",
     "text": [
      "✅ Añadido: era5land_2018_03_q2\n"
     ]
    },
    {
     "name": "stderr",
     "output_type": "stream",
     "text": [
      "c:\\Users\\jessi\\AppData\\Local\\Programs\\Python\\Python311\\Lib\\site-packages\\cfgrib\\xarray_plugin.py:131: FutureWarning: In a future version, xarray will not decode timedelta values based on the presence of a timedelta-like units attribute by default. Instead it will rely on the presence of a timedelta64 dtype attribute, which is now xarray's default way of encoding timedelta64 values. To continue decoding timedeltas based on the presence of a timedelta-like units attribute, users will need to explicitly opt-in by passing True or CFTimedeltaCoder(decode_via_units=True) to decode_timedelta. To silence this warning, set decode_timedelta to True, False, or a 'CFTimedeltaCoder' instance.\n",
      "  vars, attrs, coord_names = xr.conventions.decode_cf_variables(\n",
      "Ignoring index file 'datos_grib_validos\\\\era5land_2018_04_q2\\\\data.grib.5b7b6.idx' older than GRIB file\n"
     ]
    },
    {
     "name": "stdout",
     "output_type": "stream",
     "text": [
      "✅ Añadido: era5land_2018_04_q1\n"
     ]
    },
    {
     "name": "stderr",
     "output_type": "stream",
     "text": [
      "c:\\Users\\jessi\\AppData\\Local\\Programs\\Python\\Python311\\Lib\\site-packages\\cfgrib\\xarray_plugin.py:131: FutureWarning: In a future version, xarray will not decode timedelta values based on the presence of a timedelta-like units attribute by default. Instead it will rely on the presence of a timedelta64 dtype attribute, which is now xarray's default way of encoding timedelta64 values. To continue decoding timedeltas based on the presence of a timedelta-like units attribute, users will need to explicitly opt-in by passing True or CFTimedeltaCoder(decode_via_units=True) to decode_timedelta. To silence this warning, set decode_timedelta to True, False, or a 'CFTimedeltaCoder' instance.\n",
      "  vars, attrs, coord_names = xr.conventions.decode_cf_variables(\n",
      "Ignoring index file 'datos_grib_validos\\\\era5land_2018_05_q1\\\\data.grib.5b7b6.idx' older than GRIB file\n"
     ]
    },
    {
     "name": "stdout",
     "output_type": "stream",
     "text": [
      "✅ Añadido: era5land_2018_04_q2\n"
     ]
    },
    {
     "name": "stderr",
     "output_type": "stream",
     "text": [
      "c:\\Users\\jessi\\AppData\\Local\\Programs\\Python\\Python311\\Lib\\site-packages\\cfgrib\\xarray_plugin.py:131: FutureWarning: In a future version, xarray will not decode timedelta values based on the presence of a timedelta-like units attribute by default. Instead it will rely on the presence of a timedelta64 dtype attribute, which is now xarray's default way of encoding timedelta64 values. To continue decoding timedeltas based on the presence of a timedelta-like units attribute, users will need to explicitly opt-in by passing True or CFTimedeltaCoder(decode_via_units=True) to decode_timedelta. To silence this warning, set decode_timedelta to True, False, or a 'CFTimedeltaCoder' instance.\n",
      "  vars, attrs, coord_names = xr.conventions.decode_cf_variables(\n",
      "Ignoring index file 'datos_grib_validos\\\\era5land_2018_05_q2\\\\data.grib.5b7b6.idx' older than GRIB file\n"
     ]
    },
    {
     "name": "stdout",
     "output_type": "stream",
     "text": [
      "✅ Añadido: era5land_2018_05_q1\n"
     ]
    },
    {
     "name": "stderr",
     "output_type": "stream",
     "text": [
      "c:\\Users\\jessi\\AppData\\Local\\Programs\\Python\\Python311\\Lib\\site-packages\\cfgrib\\xarray_plugin.py:131: FutureWarning: In a future version, xarray will not decode timedelta values based on the presence of a timedelta-like units attribute by default. Instead it will rely on the presence of a timedelta64 dtype attribute, which is now xarray's default way of encoding timedelta64 values. To continue decoding timedeltas based on the presence of a timedelta-like units attribute, users will need to explicitly opt-in by passing True or CFTimedeltaCoder(decode_via_units=True) to decode_timedelta. To silence this warning, set decode_timedelta to True, False, or a 'CFTimedeltaCoder' instance.\n",
      "  vars, attrs, coord_names = xr.conventions.decode_cf_variables(\n",
      "Ignoring index file 'datos_grib_validos\\\\era5land_2018_06_q1\\\\data.grib.5b7b6.idx' older than GRIB file\n"
     ]
    },
    {
     "name": "stdout",
     "output_type": "stream",
     "text": [
      "✅ Añadido: era5land_2018_05_q2\n"
     ]
    },
    {
     "name": "stderr",
     "output_type": "stream",
     "text": [
      "c:\\Users\\jessi\\AppData\\Local\\Programs\\Python\\Python311\\Lib\\site-packages\\cfgrib\\xarray_plugin.py:131: FutureWarning: In a future version, xarray will not decode timedelta values based on the presence of a timedelta-like units attribute by default. Instead it will rely on the presence of a timedelta64 dtype attribute, which is now xarray's default way of encoding timedelta64 values. To continue decoding timedeltas based on the presence of a timedelta-like units attribute, users will need to explicitly opt-in by passing True or CFTimedeltaCoder(decode_via_units=True) to decode_timedelta. To silence this warning, set decode_timedelta to True, False, or a 'CFTimedeltaCoder' instance.\n",
      "  vars, attrs, coord_names = xr.conventions.decode_cf_variables(\n",
      "Ignoring index file 'datos_grib_validos\\\\era5land_2018_06_q2\\\\data.grib.5b7b6.idx' older than GRIB file\n"
     ]
    },
    {
     "name": "stdout",
     "output_type": "stream",
     "text": [
      "✅ Añadido: era5land_2018_06_q1\n"
     ]
    },
    {
     "name": "stderr",
     "output_type": "stream",
     "text": [
      "c:\\Users\\jessi\\AppData\\Local\\Programs\\Python\\Python311\\Lib\\site-packages\\cfgrib\\xarray_plugin.py:131: FutureWarning: In a future version, xarray will not decode timedelta values based on the presence of a timedelta-like units attribute by default. Instead it will rely on the presence of a timedelta64 dtype attribute, which is now xarray's default way of encoding timedelta64 values. To continue decoding timedeltas based on the presence of a timedelta-like units attribute, users will need to explicitly opt-in by passing True or CFTimedeltaCoder(decode_via_units=True) to decode_timedelta. To silence this warning, set decode_timedelta to True, False, or a 'CFTimedeltaCoder' instance.\n",
      "  vars, attrs, coord_names = xr.conventions.decode_cf_variables(\n",
      "Ignoring index file 'datos_grib_validos\\\\era5land_2018_07_q1\\\\data.grib.5b7b6.idx' older than GRIB file\n"
     ]
    },
    {
     "name": "stdout",
     "output_type": "stream",
     "text": [
      "✅ Añadido: era5land_2018_06_q2\n"
     ]
    },
    {
     "name": "stderr",
     "output_type": "stream",
     "text": [
      "c:\\Users\\jessi\\AppData\\Local\\Programs\\Python\\Python311\\Lib\\site-packages\\cfgrib\\xarray_plugin.py:131: FutureWarning: In a future version, xarray will not decode timedelta values based on the presence of a timedelta-like units attribute by default. Instead it will rely on the presence of a timedelta64 dtype attribute, which is now xarray's default way of encoding timedelta64 values. To continue decoding timedeltas based on the presence of a timedelta-like units attribute, users will need to explicitly opt-in by passing True or CFTimedeltaCoder(decode_via_units=True) to decode_timedelta. To silence this warning, set decode_timedelta to True, False, or a 'CFTimedeltaCoder' instance.\n",
      "  vars, attrs, coord_names = xr.conventions.decode_cf_variables(\n",
      "Ignoring index file 'datos_grib_validos\\\\era5land_2018_07_q2\\\\data.grib.5b7b6.idx' older than GRIB file\n"
     ]
    },
    {
     "name": "stdout",
     "output_type": "stream",
     "text": [
      "✅ Añadido: era5land_2018_07_q1\n"
     ]
    },
    {
     "name": "stderr",
     "output_type": "stream",
     "text": [
      "c:\\Users\\jessi\\AppData\\Local\\Programs\\Python\\Python311\\Lib\\site-packages\\cfgrib\\xarray_plugin.py:131: FutureWarning: In a future version, xarray will not decode timedelta values based on the presence of a timedelta-like units attribute by default. Instead it will rely on the presence of a timedelta64 dtype attribute, which is now xarray's default way of encoding timedelta64 values. To continue decoding timedeltas based on the presence of a timedelta-like units attribute, users will need to explicitly opt-in by passing True or CFTimedeltaCoder(decode_via_units=True) to decode_timedelta. To silence this warning, set decode_timedelta to True, False, or a 'CFTimedeltaCoder' instance.\n",
      "  vars, attrs, coord_names = xr.conventions.decode_cf_variables(\n",
      "Ignoring index file 'datos_grib_validos\\\\era5land_2018_08_q1\\\\data.grib.5b7b6.idx' older than GRIB file\n"
     ]
    },
    {
     "name": "stdout",
     "output_type": "stream",
     "text": [
      "✅ Añadido: era5land_2018_07_q2\n"
     ]
    },
    {
     "name": "stderr",
     "output_type": "stream",
     "text": [
      "c:\\Users\\jessi\\AppData\\Local\\Programs\\Python\\Python311\\Lib\\site-packages\\cfgrib\\xarray_plugin.py:131: FutureWarning: In a future version, xarray will not decode timedelta values based on the presence of a timedelta-like units attribute by default. Instead it will rely on the presence of a timedelta64 dtype attribute, which is now xarray's default way of encoding timedelta64 values. To continue decoding timedeltas based on the presence of a timedelta-like units attribute, users will need to explicitly opt-in by passing True or CFTimedeltaCoder(decode_via_units=True) to decode_timedelta. To silence this warning, set decode_timedelta to True, False, or a 'CFTimedeltaCoder' instance.\n",
      "  vars, attrs, coord_names = xr.conventions.decode_cf_variables(\n",
      "Ignoring index file 'datos_grib_validos\\\\era5land_2018_08_q2\\\\data.grib.5b7b6.idx' older than GRIB file\n"
     ]
    },
    {
     "name": "stdout",
     "output_type": "stream",
     "text": [
      "✅ Añadido: era5land_2018_08_q1\n"
     ]
    },
    {
     "name": "stderr",
     "output_type": "stream",
     "text": [
      "c:\\Users\\jessi\\AppData\\Local\\Programs\\Python\\Python311\\Lib\\site-packages\\cfgrib\\xarray_plugin.py:131: FutureWarning: In a future version, xarray will not decode timedelta values based on the presence of a timedelta-like units attribute by default. Instead it will rely on the presence of a timedelta64 dtype attribute, which is now xarray's default way of encoding timedelta64 values. To continue decoding timedeltas based on the presence of a timedelta-like units attribute, users will need to explicitly opt-in by passing True or CFTimedeltaCoder(decode_via_units=True) to decode_timedelta. To silence this warning, set decode_timedelta to True, False, or a 'CFTimedeltaCoder' instance.\n",
      "  vars, attrs, coord_names = xr.conventions.decode_cf_variables(\n",
      "Ignoring index file 'datos_grib_validos\\\\era5land_2018_09_q1\\\\data.grib.5b7b6.idx' older than GRIB file\n"
     ]
    },
    {
     "name": "stdout",
     "output_type": "stream",
     "text": [
      "✅ Añadido: era5land_2018_08_q2\n"
     ]
    },
    {
     "name": "stderr",
     "output_type": "stream",
     "text": [
      "c:\\Users\\jessi\\AppData\\Local\\Programs\\Python\\Python311\\Lib\\site-packages\\cfgrib\\xarray_plugin.py:131: FutureWarning: In a future version, xarray will not decode timedelta values based on the presence of a timedelta-like units attribute by default. Instead it will rely on the presence of a timedelta64 dtype attribute, which is now xarray's default way of encoding timedelta64 values. To continue decoding timedeltas based on the presence of a timedelta-like units attribute, users will need to explicitly opt-in by passing True or CFTimedeltaCoder(decode_via_units=True) to decode_timedelta. To silence this warning, set decode_timedelta to True, False, or a 'CFTimedeltaCoder' instance.\n",
      "  vars, attrs, coord_names = xr.conventions.decode_cf_variables(\n",
      "Ignoring index file 'datos_grib_validos\\\\era5land_2018_09_q2\\\\data.grib.5b7b6.idx' older than GRIB file\n"
     ]
    },
    {
     "name": "stdout",
     "output_type": "stream",
     "text": [
      "✅ Añadido: era5land_2018_09_q1\n"
     ]
    },
    {
     "name": "stderr",
     "output_type": "stream",
     "text": [
      "c:\\Users\\jessi\\AppData\\Local\\Programs\\Python\\Python311\\Lib\\site-packages\\cfgrib\\xarray_plugin.py:131: FutureWarning: In a future version, xarray will not decode timedelta values based on the presence of a timedelta-like units attribute by default. Instead it will rely on the presence of a timedelta64 dtype attribute, which is now xarray's default way of encoding timedelta64 values. To continue decoding timedeltas based on the presence of a timedelta-like units attribute, users will need to explicitly opt-in by passing True or CFTimedeltaCoder(decode_via_units=True) to decode_timedelta. To silence this warning, set decode_timedelta to True, False, or a 'CFTimedeltaCoder' instance.\n",
      "  vars, attrs, coord_names = xr.conventions.decode_cf_variables(\n",
      "Ignoring index file 'datos_grib_validos\\\\era5land_2018_10_q1\\\\data.grib.5b7b6.idx' older than GRIB file\n"
     ]
    },
    {
     "name": "stdout",
     "output_type": "stream",
     "text": [
      "✅ Añadido: era5land_2018_09_q2\n"
     ]
    },
    {
     "name": "stderr",
     "output_type": "stream",
     "text": [
      "c:\\Users\\jessi\\AppData\\Local\\Programs\\Python\\Python311\\Lib\\site-packages\\cfgrib\\xarray_plugin.py:131: FutureWarning: In a future version, xarray will not decode timedelta values based on the presence of a timedelta-like units attribute by default. Instead it will rely on the presence of a timedelta64 dtype attribute, which is now xarray's default way of encoding timedelta64 values. To continue decoding timedeltas based on the presence of a timedelta-like units attribute, users will need to explicitly opt-in by passing True or CFTimedeltaCoder(decode_via_units=True) to decode_timedelta. To silence this warning, set decode_timedelta to True, False, or a 'CFTimedeltaCoder' instance.\n",
      "  vars, attrs, coord_names = xr.conventions.decode_cf_variables(\n",
      "Ignoring index file 'datos_grib_validos\\\\era5land_2018_10_q2\\\\data.grib.5b7b6.idx' older than GRIB file\n"
     ]
    },
    {
     "name": "stdout",
     "output_type": "stream",
     "text": [
      "✅ Añadido: era5land_2018_10_q1\n"
     ]
    },
    {
     "name": "stderr",
     "output_type": "stream",
     "text": [
      "c:\\Users\\jessi\\AppData\\Local\\Programs\\Python\\Python311\\Lib\\site-packages\\cfgrib\\xarray_plugin.py:131: FutureWarning: In a future version, xarray will not decode timedelta values based on the presence of a timedelta-like units attribute by default. Instead it will rely on the presence of a timedelta64 dtype attribute, which is now xarray's default way of encoding timedelta64 values. To continue decoding timedeltas based on the presence of a timedelta-like units attribute, users will need to explicitly opt-in by passing True or CFTimedeltaCoder(decode_via_units=True) to decode_timedelta. To silence this warning, set decode_timedelta to True, False, or a 'CFTimedeltaCoder' instance.\n",
      "  vars, attrs, coord_names = xr.conventions.decode_cf_variables(\n",
      "Ignoring index file 'datos_grib_validos\\\\era5land_2018_11_q1\\\\data.grib.5b7b6.idx' older than GRIB file\n"
     ]
    },
    {
     "name": "stdout",
     "output_type": "stream",
     "text": [
      "✅ Añadido: era5land_2018_10_q2\n"
     ]
    },
    {
     "name": "stderr",
     "output_type": "stream",
     "text": [
      "c:\\Users\\jessi\\AppData\\Local\\Programs\\Python\\Python311\\Lib\\site-packages\\cfgrib\\xarray_plugin.py:131: FutureWarning: In a future version, xarray will not decode timedelta values based on the presence of a timedelta-like units attribute by default. Instead it will rely on the presence of a timedelta64 dtype attribute, which is now xarray's default way of encoding timedelta64 values. To continue decoding timedeltas based on the presence of a timedelta-like units attribute, users will need to explicitly opt-in by passing True or CFTimedeltaCoder(decode_via_units=True) to decode_timedelta. To silence this warning, set decode_timedelta to True, False, or a 'CFTimedeltaCoder' instance.\n",
      "  vars, attrs, coord_names = xr.conventions.decode_cf_variables(\n",
      "Ignoring index file 'datos_grib_validos\\\\era5land_2018_11_q2\\\\data.grib.5b7b6.idx' older than GRIB file\n"
     ]
    },
    {
     "name": "stdout",
     "output_type": "stream",
     "text": [
      "✅ Añadido: era5land_2018_11_q1\n"
     ]
    },
    {
     "name": "stderr",
     "output_type": "stream",
     "text": [
      "c:\\Users\\jessi\\AppData\\Local\\Programs\\Python\\Python311\\Lib\\site-packages\\cfgrib\\xarray_plugin.py:131: FutureWarning: In a future version, xarray will not decode timedelta values based on the presence of a timedelta-like units attribute by default. Instead it will rely on the presence of a timedelta64 dtype attribute, which is now xarray's default way of encoding timedelta64 values. To continue decoding timedeltas based on the presence of a timedelta-like units attribute, users will need to explicitly opt-in by passing True or CFTimedeltaCoder(decode_via_units=True) to decode_timedelta. To silence this warning, set decode_timedelta to True, False, or a 'CFTimedeltaCoder' instance.\n",
      "  vars, attrs, coord_names = xr.conventions.decode_cf_variables(\n",
      "Ignoring index file 'datos_grib_validos\\\\era5land_2018_12_q1\\\\data.grib.5b7b6.idx' older than GRIB file\n"
     ]
    },
    {
     "name": "stdout",
     "output_type": "stream",
     "text": [
      "✅ Añadido: era5land_2018_11_q2\n"
     ]
    },
    {
     "name": "stderr",
     "output_type": "stream",
     "text": [
      "c:\\Users\\jessi\\AppData\\Local\\Programs\\Python\\Python311\\Lib\\site-packages\\cfgrib\\xarray_plugin.py:131: FutureWarning: In a future version, xarray will not decode timedelta values based on the presence of a timedelta-like units attribute by default. Instead it will rely on the presence of a timedelta64 dtype attribute, which is now xarray's default way of encoding timedelta64 values. To continue decoding timedeltas based on the presence of a timedelta-like units attribute, users will need to explicitly opt-in by passing True or CFTimedeltaCoder(decode_via_units=True) to decode_timedelta. To silence this warning, set decode_timedelta to True, False, or a 'CFTimedeltaCoder' instance.\n",
      "  vars, attrs, coord_names = xr.conventions.decode_cf_variables(\n",
      "Ignoring index file 'datos_grib_validos\\\\era5land_2018_12_q2\\\\data.grib.5b7b6.idx' older than GRIB file\n"
     ]
    },
    {
     "name": "stdout",
     "output_type": "stream",
     "text": [
      "✅ Añadido: era5land_2018_12_q1\n"
     ]
    },
    {
     "name": "stderr",
     "output_type": "stream",
     "text": [
      "c:\\Users\\jessi\\AppData\\Local\\Programs\\Python\\Python311\\Lib\\site-packages\\cfgrib\\xarray_plugin.py:131: FutureWarning: In a future version, xarray will not decode timedelta values based on the presence of a timedelta-like units attribute by default. Instead it will rely on the presence of a timedelta64 dtype attribute, which is now xarray's default way of encoding timedelta64 values. To continue decoding timedeltas based on the presence of a timedelta-like units attribute, users will need to explicitly opt-in by passing True or CFTimedeltaCoder(decode_via_units=True) to decode_timedelta. To silence this warning, set decode_timedelta to True, False, or a 'CFTimedeltaCoder' instance.\n",
      "  vars, attrs, coord_names = xr.conventions.decode_cf_variables(\n",
      "c:\\Users\\jessi\\AppData\\Local\\Programs\\Python\\Python311\\Lib\\site-packages\\cfgrib\\xarray_plugin.py:131: FutureWarning: In a future version, xarray will not decode timedelta values based on the presence of a timedelta-like units attribute by default. Instead it will rely on the presence of a timedelta64 dtype attribute, which is now xarray's default way of encoding timedelta64 values. To continue decoding timedeltas based on the presence of a timedelta-like units attribute, users will need to explicitly opt-in by passing True or CFTimedeltaCoder(decode_via_units=True) to decode_timedelta. To silence this warning, set decode_timedelta to True, False, or a 'CFTimedeltaCoder' instance.\n",
      "  vars, attrs, coord_names = xr.conventions.decode_cf_variables(\n",
      "c:\\Users\\jessi\\AppData\\Local\\Programs\\Python\\Python311\\Lib\\site-packages\\cfgrib\\xarray_plugin.py:131: FutureWarning: In a future version, xarray will not decode timedelta values based on the presence of a timedelta-like units attribute by default. Instead it will rely on the presence of a timedelta64 dtype attribute, which is now xarray's default way of encoding timedelta64 values. To continue decoding timedeltas based on the presence of a timedelta-like units attribute, users will need to explicitly opt-in by passing True or CFTimedeltaCoder(decode_via_units=True) to decode_timedelta. To silence this warning, set decode_timedelta to True, False, or a 'CFTimedeltaCoder' instance.\n",
      "  vars, attrs, coord_names = xr.conventions.decode_cf_variables(\n"
     ]
    },
    {
     "name": "stdout",
     "output_type": "stream",
     "text": [
      "✅ Añadido: era5land_2018_12_q2\n",
      "✅ Añadido: era5land_2024_01_q1\n",
      "✅ Añadido: era5land_2024_01_q2\n"
     ]
    },
    {
     "name": "stderr",
     "output_type": "stream",
     "text": [
      "c:\\Users\\jessi\\AppData\\Local\\Programs\\Python\\Python311\\Lib\\site-packages\\cfgrib\\xarray_plugin.py:131: FutureWarning: In a future version, xarray will not decode timedelta values based on the presence of a timedelta-like units attribute by default. Instead it will rely on the presence of a timedelta64 dtype attribute, which is now xarray's default way of encoding timedelta64 values. To continue decoding timedeltas based on the presence of a timedelta-like units attribute, users will need to explicitly opt-in by passing True or CFTimedeltaCoder(decode_via_units=True) to decode_timedelta. To silence this warning, set decode_timedelta to True, False, or a 'CFTimedeltaCoder' instance.\n",
      "  vars, attrs, coord_names = xr.conventions.decode_cf_variables(\n",
      "c:\\Users\\jessi\\AppData\\Local\\Programs\\Python\\Python311\\Lib\\site-packages\\cfgrib\\xarray_plugin.py:131: FutureWarning: In a future version, xarray will not decode timedelta values based on the presence of a timedelta-like units attribute by default. Instead it will rely on the presence of a timedelta64 dtype attribute, which is now xarray's default way of encoding timedelta64 values. To continue decoding timedeltas based on the presence of a timedelta-like units attribute, users will need to explicitly opt-in by passing True or CFTimedeltaCoder(decode_via_units=True) to decode_timedelta. To silence this warning, set decode_timedelta to True, False, or a 'CFTimedeltaCoder' instance.\n",
      "  vars, attrs, coord_names = xr.conventions.decode_cf_variables(\n",
      "c:\\Users\\jessi\\AppData\\Local\\Programs\\Python\\Python311\\Lib\\site-packages\\cfgrib\\xarray_plugin.py:131: FutureWarning: In a future version, xarray will not decode timedelta values based on the presence of a timedelta-like units attribute by default. Instead it will rely on the presence of a timedelta64 dtype attribute, which is now xarray's default way of encoding timedelta64 values. To continue decoding timedeltas based on the presence of a timedelta-like units attribute, users will need to explicitly opt-in by passing True or CFTimedeltaCoder(decode_via_units=True) to decode_timedelta. To silence this warning, set decode_timedelta to True, False, or a 'CFTimedeltaCoder' instance.\n",
      "  vars, attrs, coord_names = xr.conventions.decode_cf_variables(\n",
      "c:\\Users\\jessi\\AppData\\Local\\Programs\\Python\\Python311\\Lib\\site-packages\\cfgrib\\xarray_plugin.py:131: FutureWarning: In a future version, xarray will not decode timedelta values based on the presence of a timedelta-like units attribute by default. Instead it will rely on the presence of a timedelta64 dtype attribute, which is now xarray's default way of encoding timedelta64 values. To continue decoding timedeltas based on the presence of a timedelta-like units attribute, users will need to explicitly opt-in by passing True or CFTimedeltaCoder(decode_via_units=True) to decode_timedelta. To silence this warning, set decode_timedelta to True, False, or a 'CFTimedeltaCoder' instance.\n",
      "  vars, attrs, coord_names = xr.conventions.decode_cf_variables(\n"
     ]
    },
    {
     "name": "stdout",
     "output_type": "stream",
     "text": [
      "✅ Añadido: era5land_2024_02_q1\n",
      "✅ Añadido: era5land_2024_02_q2\n",
      "✅ Añadido: era5land_2024_03_q1\n",
      "✅ Añadido: era5land_2024_03_q2\n"
     ]
    },
    {
     "name": "stderr",
     "output_type": "stream",
     "text": [
      "c:\\Users\\jessi\\AppData\\Local\\Programs\\Python\\Python311\\Lib\\site-packages\\cfgrib\\xarray_plugin.py:131: FutureWarning: In a future version, xarray will not decode timedelta values based on the presence of a timedelta-like units attribute by default. Instead it will rely on the presence of a timedelta64 dtype attribute, which is now xarray's default way of encoding timedelta64 values. To continue decoding timedeltas based on the presence of a timedelta-like units attribute, users will need to explicitly opt-in by passing True or CFTimedeltaCoder(decode_via_units=True) to decode_timedelta. To silence this warning, set decode_timedelta to True, False, or a 'CFTimedeltaCoder' instance.\n",
      "  vars, attrs, coord_names = xr.conventions.decode_cf_variables(\n",
      "c:\\Users\\jessi\\AppData\\Local\\Programs\\Python\\Python311\\Lib\\site-packages\\cfgrib\\xarray_plugin.py:131: FutureWarning: In a future version, xarray will not decode timedelta values based on the presence of a timedelta-like units attribute by default. Instead it will rely on the presence of a timedelta64 dtype attribute, which is now xarray's default way of encoding timedelta64 values. To continue decoding timedeltas based on the presence of a timedelta-like units attribute, users will need to explicitly opt-in by passing True or CFTimedeltaCoder(decode_via_units=True) to decode_timedelta. To silence this warning, set decode_timedelta to True, False, or a 'CFTimedeltaCoder' instance.\n",
      "  vars, attrs, coord_names = xr.conventions.decode_cf_variables(\n",
      "c:\\Users\\jessi\\AppData\\Local\\Programs\\Python\\Python311\\Lib\\site-packages\\cfgrib\\xarray_plugin.py:131: FutureWarning: In a future version, xarray will not decode timedelta values based on the presence of a timedelta-like units attribute by default. Instead it will rely on the presence of a timedelta64 dtype attribute, which is now xarray's default way of encoding timedelta64 values. To continue decoding timedeltas based on the presence of a timedelta-like units attribute, users will need to explicitly opt-in by passing True or CFTimedeltaCoder(decode_via_units=True) to decode_timedelta. To silence this warning, set decode_timedelta to True, False, or a 'CFTimedeltaCoder' instance.\n",
      "  vars, attrs, coord_names = xr.conventions.decode_cf_variables(\n",
      "c:\\Users\\jessi\\AppData\\Local\\Programs\\Python\\Python311\\Lib\\site-packages\\cfgrib\\xarray_plugin.py:131: FutureWarning: In a future version, xarray will not decode timedelta values based on the presence of a timedelta-like units attribute by default. Instead it will rely on the presence of a timedelta64 dtype attribute, which is now xarray's default way of encoding timedelta64 values. To continue decoding timedeltas based on the presence of a timedelta-like units attribute, users will need to explicitly opt-in by passing True or CFTimedeltaCoder(decode_via_units=True) to decode_timedelta. To silence this warning, set decode_timedelta to True, False, or a 'CFTimedeltaCoder' instance.\n",
      "  vars, attrs, coord_names = xr.conventions.decode_cf_variables(\n"
     ]
    },
    {
     "name": "stdout",
     "output_type": "stream",
     "text": [
      "✅ Añadido: era5land_2024_04_q1\n",
      "✅ Añadido: era5land_2024_04_q2\n",
      "✅ Añadido: era5land_2024_05_q1\n",
      "✅ Añadido: era5land_2024_05_q2\n"
     ]
    },
    {
     "name": "stderr",
     "output_type": "stream",
     "text": [
      "c:\\Users\\jessi\\AppData\\Local\\Programs\\Python\\Python311\\Lib\\site-packages\\cfgrib\\xarray_plugin.py:131: FutureWarning: In a future version, xarray will not decode timedelta values based on the presence of a timedelta-like units attribute by default. Instead it will rely on the presence of a timedelta64 dtype attribute, which is now xarray's default way of encoding timedelta64 values. To continue decoding timedeltas based on the presence of a timedelta-like units attribute, users will need to explicitly opt-in by passing True or CFTimedeltaCoder(decode_via_units=True) to decode_timedelta. To silence this warning, set decode_timedelta to True, False, or a 'CFTimedeltaCoder' instance.\n",
      "  vars, attrs, coord_names = xr.conventions.decode_cf_variables(\n",
      "c:\\Users\\jessi\\AppData\\Local\\Programs\\Python\\Python311\\Lib\\site-packages\\cfgrib\\xarray_plugin.py:131: FutureWarning: In a future version, xarray will not decode timedelta values based on the presence of a timedelta-like units attribute by default. Instead it will rely on the presence of a timedelta64 dtype attribute, which is now xarray's default way of encoding timedelta64 values. To continue decoding timedeltas based on the presence of a timedelta-like units attribute, users will need to explicitly opt-in by passing True or CFTimedeltaCoder(decode_via_units=True) to decode_timedelta. To silence this warning, set decode_timedelta to True, False, or a 'CFTimedeltaCoder' instance.\n",
      "  vars, attrs, coord_names = xr.conventions.decode_cf_variables(\n",
      "c:\\Users\\jessi\\AppData\\Local\\Programs\\Python\\Python311\\Lib\\site-packages\\cfgrib\\xarray_plugin.py:131: FutureWarning: In a future version, xarray will not decode timedelta values based on the presence of a timedelta-like units attribute by default. Instead it will rely on the presence of a timedelta64 dtype attribute, which is now xarray's default way of encoding timedelta64 values. To continue decoding timedeltas based on the presence of a timedelta-like units attribute, users will need to explicitly opt-in by passing True or CFTimedeltaCoder(decode_via_units=True) to decode_timedelta. To silence this warning, set decode_timedelta to True, False, or a 'CFTimedeltaCoder' instance.\n",
      "  vars, attrs, coord_names = xr.conventions.decode_cf_variables(\n",
      "c:\\Users\\jessi\\AppData\\Local\\Programs\\Python\\Python311\\Lib\\site-packages\\cfgrib\\xarray_plugin.py:131: FutureWarning: In a future version, xarray will not decode timedelta values based on the presence of a timedelta-like units attribute by default. Instead it will rely on the presence of a timedelta64 dtype attribute, which is now xarray's default way of encoding timedelta64 values. To continue decoding timedeltas based on the presence of a timedelta-like units attribute, users will need to explicitly opt-in by passing True or CFTimedeltaCoder(decode_via_units=True) to decode_timedelta. To silence this warning, set decode_timedelta to True, False, or a 'CFTimedeltaCoder' instance.\n",
      "  vars, attrs, coord_names = xr.conventions.decode_cf_variables(\n"
     ]
    },
    {
     "name": "stdout",
     "output_type": "stream",
     "text": [
      "✅ Añadido: era5land_2024_06_q1\n",
      "✅ Añadido: era5land_2024_06_q2\n",
      "✅ Añadido: era5land_2024_07_q1\n",
      "✅ Añadido: era5land_2024_07_q2\n"
     ]
    },
    {
     "name": "stderr",
     "output_type": "stream",
     "text": [
      "c:\\Users\\jessi\\AppData\\Local\\Programs\\Python\\Python311\\Lib\\site-packages\\cfgrib\\xarray_plugin.py:131: FutureWarning: In a future version, xarray will not decode timedelta values based on the presence of a timedelta-like units attribute by default. Instead it will rely on the presence of a timedelta64 dtype attribute, which is now xarray's default way of encoding timedelta64 values. To continue decoding timedeltas based on the presence of a timedelta-like units attribute, users will need to explicitly opt-in by passing True or CFTimedeltaCoder(decode_via_units=True) to decode_timedelta. To silence this warning, set decode_timedelta to True, False, or a 'CFTimedeltaCoder' instance.\n",
      "  vars, attrs, coord_names = xr.conventions.decode_cf_variables(\n",
      "c:\\Users\\jessi\\AppData\\Local\\Programs\\Python\\Python311\\Lib\\site-packages\\cfgrib\\xarray_plugin.py:131: FutureWarning: In a future version, xarray will not decode timedelta values based on the presence of a timedelta-like units attribute by default. Instead it will rely on the presence of a timedelta64 dtype attribute, which is now xarray's default way of encoding timedelta64 values. To continue decoding timedeltas based on the presence of a timedelta-like units attribute, users will need to explicitly opt-in by passing True or CFTimedeltaCoder(decode_via_units=True) to decode_timedelta. To silence this warning, set decode_timedelta to True, False, or a 'CFTimedeltaCoder' instance.\n",
      "  vars, attrs, coord_names = xr.conventions.decode_cf_variables(\n",
      "c:\\Users\\jessi\\AppData\\Local\\Programs\\Python\\Python311\\Lib\\site-packages\\cfgrib\\xarray_plugin.py:131: FutureWarning: In a future version, xarray will not decode timedelta values based on the presence of a timedelta-like units attribute by default. Instead it will rely on the presence of a timedelta64 dtype attribute, which is now xarray's default way of encoding timedelta64 values. To continue decoding timedeltas based on the presence of a timedelta-like units attribute, users will need to explicitly opt-in by passing True or CFTimedeltaCoder(decode_via_units=True) to decode_timedelta. To silence this warning, set decode_timedelta to True, False, or a 'CFTimedeltaCoder' instance.\n",
      "  vars, attrs, coord_names = xr.conventions.decode_cf_variables(\n"
     ]
    },
    {
     "name": "stdout",
     "output_type": "stream",
     "text": [
      "✅ Añadido: era5land_2024_08_q1\n",
      "✅ Añadido: era5land_2024_08_q2\n",
      "✅ Añadido: era5land_2024_09_q1\n"
     ]
    },
    {
     "name": "stderr",
     "output_type": "stream",
     "text": [
      "c:\\Users\\jessi\\AppData\\Local\\Programs\\Python\\Python311\\Lib\\site-packages\\cfgrib\\xarray_plugin.py:131: FutureWarning: In a future version, xarray will not decode timedelta values based on the presence of a timedelta-like units attribute by default. Instead it will rely on the presence of a timedelta64 dtype attribute, which is now xarray's default way of encoding timedelta64 values. To continue decoding timedeltas based on the presence of a timedelta-like units attribute, users will need to explicitly opt-in by passing True or CFTimedeltaCoder(decode_via_units=True) to decode_timedelta. To silence this warning, set decode_timedelta to True, False, or a 'CFTimedeltaCoder' instance.\n",
      "  vars, attrs, coord_names = xr.conventions.decode_cf_variables(\n",
      "c:\\Users\\jessi\\AppData\\Local\\Programs\\Python\\Python311\\Lib\\site-packages\\cfgrib\\xarray_plugin.py:131: FutureWarning: In a future version, xarray will not decode timedelta values based on the presence of a timedelta-like units attribute by default. Instead it will rely on the presence of a timedelta64 dtype attribute, which is now xarray's default way of encoding timedelta64 values. To continue decoding timedeltas based on the presence of a timedelta-like units attribute, users will need to explicitly opt-in by passing True or CFTimedeltaCoder(decode_via_units=True) to decode_timedelta. To silence this warning, set decode_timedelta to True, False, or a 'CFTimedeltaCoder' instance.\n",
      "  vars, attrs, coord_names = xr.conventions.decode_cf_variables(\n",
      "c:\\Users\\jessi\\AppData\\Local\\Programs\\Python\\Python311\\Lib\\site-packages\\cfgrib\\xarray_plugin.py:131: FutureWarning: In a future version, xarray will not decode timedelta values based on the presence of a timedelta-like units attribute by default. Instead it will rely on the presence of a timedelta64 dtype attribute, which is now xarray's default way of encoding timedelta64 values. To continue decoding timedeltas based on the presence of a timedelta-like units attribute, users will need to explicitly opt-in by passing True or CFTimedeltaCoder(decode_via_units=True) to decode_timedelta. To silence this warning, set decode_timedelta to True, False, or a 'CFTimedeltaCoder' instance.\n",
      "  vars, attrs, coord_names = xr.conventions.decode_cf_variables(\n"
     ]
    },
    {
     "name": "stdout",
     "output_type": "stream",
     "text": [
      "✅ Añadido: era5land_2024_09_q2\n",
      "✅ Añadido: era5land_2024_10_q1\n",
      "✅ Añadido: era5land_2024_10_q2\n"
     ]
    },
    {
     "name": "stderr",
     "output_type": "stream",
     "text": [
      "c:\\Users\\jessi\\AppData\\Local\\Programs\\Python\\Python311\\Lib\\site-packages\\cfgrib\\xarray_plugin.py:131: FutureWarning: In a future version, xarray will not decode timedelta values based on the presence of a timedelta-like units attribute by default. Instead it will rely on the presence of a timedelta64 dtype attribute, which is now xarray's default way of encoding timedelta64 values. To continue decoding timedeltas based on the presence of a timedelta-like units attribute, users will need to explicitly opt-in by passing True or CFTimedeltaCoder(decode_via_units=True) to decode_timedelta. To silence this warning, set decode_timedelta to True, False, or a 'CFTimedeltaCoder' instance.\n",
      "  vars, attrs, coord_names = xr.conventions.decode_cf_variables(\n",
      "c:\\Users\\jessi\\AppData\\Local\\Programs\\Python\\Python311\\Lib\\site-packages\\cfgrib\\xarray_plugin.py:131: FutureWarning: In a future version, xarray will not decode timedelta values based on the presence of a timedelta-like units attribute by default. Instead it will rely on the presence of a timedelta64 dtype attribute, which is now xarray's default way of encoding timedelta64 values. To continue decoding timedeltas based on the presence of a timedelta-like units attribute, users will need to explicitly opt-in by passing True or CFTimedeltaCoder(decode_via_units=True) to decode_timedelta. To silence this warning, set decode_timedelta to True, False, or a 'CFTimedeltaCoder' instance.\n",
      "  vars, attrs, coord_names = xr.conventions.decode_cf_variables(\n",
      "c:\\Users\\jessi\\AppData\\Local\\Programs\\Python\\Python311\\Lib\\site-packages\\cfgrib\\xarray_plugin.py:131: FutureWarning: In a future version, xarray will not decode timedelta values based on the presence of a timedelta-like units attribute by default. Instead it will rely on the presence of a timedelta64 dtype attribute, which is now xarray's default way of encoding timedelta64 values. To continue decoding timedeltas based on the presence of a timedelta-like units attribute, users will need to explicitly opt-in by passing True or CFTimedeltaCoder(decode_via_units=True) to decode_timedelta. To silence this warning, set decode_timedelta to True, False, or a 'CFTimedeltaCoder' instance.\n",
      "  vars, attrs, coord_names = xr.conventions.decode_cf_variables(\n",
      "c:\\Users\\jessi\\AppData\\Local\\Programs\\Python\\Python311\\Lib\\site-packages\\cfgrib\\xarray_plugin.py:131: FutureWarning: In a future version, xarray will not decode timedelta values based on the presence of a timedelta-like units attribute by default. Instead it will rely on the presence of a timedelta64 dtype attribute, which is now xarray's default way of encoding timedelta64 values. To continue decoding timedeltas based on the presence of a timedelta-like units attribute, users will need to explicitly opt-in by passing True or CFTimedeltaCoder(decode_via_units=True) to decode_timedelta. To silence this warning, set decode_timedelta to True, False, or a 'CFTimedeltaCoder' instance.\n",
      "  vars, attrs, coord_names = xr.conventions.decode_cf_variables(\n"
     ]
    },
    {
     "name": "stdout",
     "output_type": "stream",
     "text": [
      "✅ Añadido: era5land_2024_11_q1\n",
      "✅ Añadido: era5land_2024_11_q2\n",
      "✅ Añadido: era5land_2024_12_q1\n",
      "✅ Añadido: era5land_2024_12_q2\n",
      "<xarray.Dataset> Size: 42MB\n",
      "Dimensions:     (time: 1558, step: 24, latitude: 7, longitude: 5)\n",
      "Coordinates:\n",
      "    number      int64 8B 0\n",
      "  * time        (time) datetime64[ns] 12kB 2015-12-31 2016-01-01 ... 2024-12-31\n",
      "  * step        (step) timedelta64[ns] 192B 01:00:00 ... 1 days 00:00:00\n",
      "    surface     float64 8B 0.0\n",
      "  * latitude    (latitude) float64 56B 5.4 5.3 5.2 5.1 5.0 4.9 4.8\n",
      "  * longitude   (longitude) float64 40B -75.75 -75.65 -75.55 -75.45 -75.35\n",
      "    valid_time  (time, step) datetime64[ns] 299kB 2015-12-31T01:00:00 ... 202...\n",
      "Data variables:\n",
      "    d2m         (time, step, latitude, longitude) float32 5MB nan nan ... nan\n",
      "    t2m         (time, step, latitude, longitude) float32 5MB nan nan ... nan\n",
      "    strd        (time, step, latitude, longitude) float32 5MB nan nan ... nan\n",
      "    ssrd        (time, step, latitude, longitude) float32 5MB nan nan ... nan\n",
      "    u10         (time, step, latitude, longitude) float32 5MB nan nan ... nan\n",
      "    v10         (time, step, latitude, longitude) float32 5MB nan nan ... nan\n",
      "    sp          (time, step, latitude, longitude) float32 5MB nan nan ... nan\n",
      "    tp          (time, step, latitude, longitude) float32 5MB nan nan ... nan\n",
      "Attributes:\n",
      "    GRIB_edition:            1\n",
      "    GRIB_centre:             ecmf\n",
      "    GRIB_centreDescription:  European Centre for Medium-Range Weather Forecasts\n",
      "    GRIB_subCentre:          0\n",
      "    Conventions:             CF-1.7\n",
      "    institution:             European Centre for Medium-Range Weather Forecasts\n",
      "    history:                 2025-07-04T21:17 GRIB to CDM+CF via cfgrib-0.9.1...\n"
     ]
    }
   ],
   "source": [
    "import os\n",
    "import xarray as xr\n",
    "\n",
    "# Carpeta donde están los subdirectorios con los GRIB descomprimidos\n",
    "carpeta = \"datos_grib_validos\"\n",
    "\n",
    "# Lista para guardar cada Dataset\n",
    "datasets = []\n",
    "\n",
    "# Recorremos en orden alfabético para mantener orden temporal\n",
    "for subdir in sorted(os.listdir(carpeta)):\n",
    "    path = os.path.join(carpeta, subdir, \"data.grib\")\n",
    "    if os.path.exists(path):\n",
    "        try:\n",
    "            ds = xr.open_dataset(path, engine=\"cfgrib\")\n",
    "            datasets.append(ds)\n",
    "            print(f\"✅ Añadido: {subdir}\")\n",
    "        except Exception as e:\n",
    "            print(f\"❌ Error en {subdir}: {e}\")\n",
    "\n",
    "# Concatenar por dimensión 'time'\n",
    "ds_concatenado = xr.concat(datasets, dim=\"time\")\n",
    "\n",
    "# Mostrar resumen\n",
    "print(ds_concatenado)\n"
   ]
  },
  {
   "cell_type": "markdown",
   "id": "3f9f0890",
   "metadata": {},
   "source": [
    "### 🔄 Conversión del `xarray.Dataset` a `pandas.DataFrame` en formato largo\n",
    "\n",
    "En esta etapa se transforma el `Dataset` concatenado (`ds_concatenado`) en un `DataFrame` plano para facilitar análisis y visualizaciones:\n",
    "\n",
    "- Se usa `.to_dataframe()` para convertir el objeto multidimensional de `xarray` a un `DataFrame` de `pandas`.\n",
    "- `.reset_index()` elimina los índices jerárquicos (como tiempo, latitud y longitud), convirtiéndolos en columnas explícitas.\n",
    "- El resultado, `datos_meteorologicos`, tiene una estructura **larga**: cada fila representa una observación única en un punto geográfico y momento específico, con las variables meteorológicas como columnas.\n",
    "\n",
    "📌 Este formato es ideal para análisis con `pandas`, creación de gráficos, limpieza de datos o exportación a `.csv`.\n"
   ]
  },
  {
   "cell_type": "code",
   "execution_count": null,
   "id": "519b3bf4",
   "metadata": {},
   "outputs": [],
   "source": [
    "# Convertir el dataset a DataFrame (formato largo)\n",
    "datos_meteorologicos = ds_concatenado.to_dataframe().reset_index()\n",
    "print(datos_meteorologicos)\n"
   ]
  },
  {
   "cell_type": "markdown",
   "id": "9f66761c",
   "metadata": {},
   "source": [
    "### 🧹 Limpieza del DataFrame meteorológico: filtrado temporal y eliminación de columnas innecesarias\n",
    "\n",
    "Este bloque realiza una limpieza del DataFrame `datos_meteorologicos` para dejarlo con una estructura más clara y coherente:\n",
    "\n",
    "1. 🕒 **Conversión de la columna `valid_time` a tipo datetime**:\n",
    "   - Se asegura que los valores sean reconocidos como fechas para poder aplicar filtros temporales.\n",
    "\n",
    "2. 📆 **Filtrado de registros**:\n",
    "   - Se eliminan todas las filas correspondientes al año 2015, dejando solo datos de 2016 en adelante.\n",
    "\n",
    "3. 🧼 **Eliminación de columnas innecesarias**:\n",
    "   - Se eliminan las columnas:\n",
    "     - `time`: ya no es necesaria, pues se conserva solo `valid_time` como referencia temporal.\n",
    "     - `step`: información redundante sobre el paso de tiempo (repetida en `valid_time`).\n",
    "     - `surface` y `number`: metadatos internos del archivo `.grib` que no son útiles para el análisis.\n",
    "\n",
    "✅ Después de esta limpieza, el DataFrame queda más compacto y enfocado únicamente en las variables meteorológicas relevantes por hora y ubicación geográfica.\n"
   ]
  },
  {
   "cell_type": "code",
   "execution_count": null,
   "id": "92fc4623",
   "metadata": {},
   "outputs": [],
   "source": [
    "import pandas as pd\n",
    "# Convertir a datetime si es necesario\n",
    "datos_meteorologicos['valid_time'] = pd.to_datetime(datos_meteorologicos['valid_time'])\n",
    "\n",
    "# Eliminar registros del año 2015\n",
    "datos_meteorologicos = datos_meteorologicos[datos_meteorologicos['valid_time'].dt.year > 2015]\n",
    "\n",
    "# Asegúrate de que 'valid_time' es tipo datetime\n",
    "datos_meteorologicos['valid_time'] = pd.to_datetime(datos_meteorologicos['valid_time'])\n",
    "\n",
    "# Filtrar registros para conservar solo los posteriores a 2015\n",
    "datos_meteorologicos = datos_meteorologicos[datos_meteorologicos['valid_time'].dt.year > 2015]\n",
    "\n",
    "# Eliminar las columnas 'time' y 'step'\n",
    "datos_meteorologicos = datos_meteorologicos.drop(columns=['time', 'step'])\n",
    "\n",
    "# Eliminar las columnas 'suface' y 'number'\n",
    "datos_meteorologicos = datos_meteorologicos.drop(columns=['surface', 'number'])\n"
   ]
  },
  {
   "cell_type": "markdown",
   "id": "a7850535",
   "metadata": {},
   "source": [
    "### 🔍 Verificación de valores faltantes en variables clave\n",
    "\n",
    "Este bloque revisa si existen valores nulos (`NaN`) en las principales variables meteorológicas del DataFrame:\n",
    "\n",
    "- Se define la lista `variables_necesarias` con las variables clave a analizar:\n",
    "  - `t2m`: temperatura a 2 metros\n",
    "  - `d2m`: temperatura del punto de rocío\n",
    "  - `ssrd`: radiación solar descendente en superficie\n",
    "  - `strd`: radiación térmica de onda larga en superficie\n",
    "  - `tp`: precipitación total\n",
    "  - `u10`, `v10`: componentes zonal y meridional del viento a 10 metros\n",
    "\n",
    "- Se utiliza `.isna().sum()` para contar la cantidad de valores faltantes por variable.\n",
    "\n",
    "📋 El resultado se imprime como tabla, permitiendo evaluar la calidad de los datos y decidir si se necesita imputación, interpolación o eliminación de registros.\n"
   ]
  },
  {
   "cell_type": "code",
   "execution_count": null,
   "id": "2ac0b46c",
   "metadata": {},
   "outputs": [
    {
     "name": "stdout",
     "output_type": "stream",
     "text": [
      "Valores faltantes por variable:\n",
      "t2m     79835\n",
      "d2m     79835\n",
      "ssrd    79835\n",
      "strd    79835\n",
      "tp      79835\n",
      "u10     79835\n",
      "v10     79835\n",
      "dtype: int64\n"
     ]
    }
   ],
   "source": [
    "import numpy as np\n",
    "import pandas as pd\n",
    "\n",
    "# Verificar si hay NaN en las columnas necesarias\n",
    "variables_necesarias = ['t2m', 'd2m', 'ssrd', 'strd', 'tp', 'u10', 'v10']\n",
    "na_check = datos_meteorologicos[variables_necesarias].isna().sum()\n",
    "\n",
    "print(\"Valores faltantes por variable:\")\n",
    "print(na_check)\n",
    "\n",
    "# Si deseas eliminar las filas con NaN antes del cálculo:\n",
    "datos_meteorologicos.dropna(subset=variables_necesarias, inplace=True)\n"
   ]
  },
  {
   "cell_type": "markdown",
   "id": "a4e197db",
   "metadata": {},
   "source": [
    "### 🧮 Cálculo de variables meteorológicas derivadas\n",
    "\n",
    "Este bloque transforma las variables originales (en unidades físicas estandarizadas) en medidas más interpretables y útiles para el análisis climático:\n",
    "\n",
    "| **Variable requerida** | **Significado**                    | **Fórmula / Cálculo**                                                                                                                                                      | **Variables base necesarias (ERA5)**                 | **Unidades originales**     | **Nombre en DataFrame**      |\n",
    "|------------------------|------------------------------------|----------------------------------------------------------------------------------------------------------------------------------------------------------------------------|------------------------------------------------------|-----------------------------|------------------------------|\n",
    "| `TA_1_1_1`             | Temperatura del aire a 2 m (°C)    | `TA_1_1_1 = t2m - 273.15`                                                                                                                                                   | `2m_temperature`                                     | Kelvin (K)                  | `t2m`                        |\n",
    "| `RH_1_1_1`             | Humedad relativa (%)               | `e = 6.112 × exp[(17.67 × d2m)/(d2m + 243.5)]`<br>`e_s = 6.112 × exp[(17.67 × t2m)/(t2m + 243.5)]`<br>`RH = 100 × (e / e_s)`                                                 | `2m_temperature`, `2m_dewpoint_temperature`          | Kelvin (K)                  | `t2m`, `d2m`                 |\n",
    "| `VPD_PI`               | Déficit de presión de vapor (hPa)  | `VPD = e_s - e` usando las mismas fórmulas anteriores                                                                                                                      | `2m_temperature`, `2m_dewpoint_temperature`          | Kelvin (K)                  | `t2m`, `d2m`                 |\n",
    "| `SW_IN_1_1_1`          | Radiación solar incidente (W/m²)   | `SW_IN_1_1_1 = ssrd / 3600`                                                                                                                                                | `surface_solar_radiation_downwards`                  | Joules por m² (J/m²)        | `ssrd`                       |\n",
    "| `LW_IN`                | Radiación térmica incidente (W/m²) | `LW_IN = strd / 3600`                                                                                                                                                      | `surface_thermal_radiation_downwards`                | Joules por m² (J/m²)        | `strd`                       |\n",
    "| `P`                    | Precipitación total (mm)           | `P = tp * 1000`                                                                                                                                                            | `total_precipitation`                                | Metros (m)                  | `tp`                         |\n",
    "| `WS`                   | Velocidad del viento a 10 m (m/s)  | `WS = √(u10² + v10²)`                                                                                                                                                      | `10m_u_component_of_wind`, `10m_v_component_of_wind` | Metros por segundo (m/s)    | `u10`, `v10`                 |\n"
   ]
  },
  {
   "cell_type": "code",
   "execution_count": 28,
   "id": "ec70d7f1",
   "metadata": {},
   "outputs": [
    {
     "name": "stdout",
     "output_type": "stream",
     "text": [
      "\n",
      "Variables calculadas:\n",
      "      TA_1_1_1   RH_1_1_1    VPD_PI  SW_IN_1_1_1        LW_IN         P  \\\n",
      "805  18.632233  89.168648  2.324497  3950.961670  8657.380859  1.754855   \n",
      "806  22.028717  83.891258  4.264734  4126.850098  8441.751953  1.020242   \n",
      "807  22.978912  77.646881  6.269915  4308.090332  8250.395508  0.706960   \n",
      "808  18.498444  74.938644  5.333482  4491.039551  8070.979492  0.584409   \n",
      "809  14.639069  71.822021  4.691209  4676.913574  7995.352051  0.522897   \n",
      "\n",
      "           WS  \n",
      "805  0.685388  \n",
      "806  0.547065  \n",
      "807  0.139769  \n",
      "808  0.419850  \n",
      "809  0.774673  \n"
     ]
    }
   ],
   "source": [
    "# 1. Temperatura del aire a 2m (°C)\n",
    "datos_meteorologicos[\"TA_1_1_1\"] = datos_meteorologicos[\"t2m\"] - 273.15\n",
    "\n",
    "# 2. Humedad relativa (%)\n",
    "Td = datos_meteorologicos[\"d2m\"] - 273.15\n",
    "T = datos_meteorologicos[\"t2m\"] - 273.15\n",
    "\n",
    "e = 6.112 * np.exp((17.67 * Td) / (Td + 243.5))\n",
    "es = 6.112 * np.exp((17.67 * T) / (T + 243.5))\n",
    "datos_meteorologicos[\"RH_1_1_1\"] = 100 * (e / es)\n",
    "\n",
    "# 3. Déficit de presión de vapor (hPa)\n",
    "datos_meteorologicos[\"VPD_PI\"] = es - e\n",
    "\n",
    "# 4. Radiación solar incidente (W/m²)\n",
    "datos_meteorologicos[\"SW_IN_1_1_1\"] = datos_meteorologicos[\"ssrd\"] / 3600\n",
    "\n",
    "# 5. Radiación térmica incidente (W/m²)\n",
    "datos_meteorologicos[\"LW_IN\"] = datos_meteorologicos[\"strd\"] / 3600\n",
    "\n",
    "# 6. Precipitación total (mm)\n",
    "datos_meteorologicos[\"P\"] = datos_meteorologicos[\"tp\"] * 1000\n",
    "\n",
    "# 7. Velocidad del viento a 10m (m/s)\n",
    "datos_meteorologicos[\"WS\"] = np.sqrt(datos_meteorologicos[\"u10\"]**2 + datos_meteorologicos[\"v10\"]**2)\n",
    "\n",
    "# Mostrar las primeras filas para revisar\n",
    "print(\"\\nVariables calculadas:\")\n",
    "print(datos_meteorologicos[[\"TA_1_1_1\", \"RH_1_1_1\", \"VPD_PI\", \"SW_IN_1_1_1\", \"LW_IN\", \"P\", \"WS\"]].head())\n"
   ]
  },
  {
   "cell_type": "markdown",
   "id": "9b40c635",
   "metadata": {},
   "source": [
    "### 🧾 Selección de variables finales para el análisis\n",
    "\n",
    "En este paso se crea un nuevo DataFrame que conserva únicamente las columnas relevantes para el análisis climático y espacial:\n",
    "\n",
    "- `valid_time`: fecha y hora de la observación.\n",
    "- `latitude` y `longitude`: coordenadas geográficas del punto de medición.\n",
    "- `TA_1_1_1`: temperatura del aire a 2 metros (°C).\n",
    "- `RH_1_1_1`: humedad relativa (%).\n",
    "- `VPD_PI`: déficit de presión de vapor (hPa).\n",
    "- `SW_IN_1_1_1`: radiación solar incidente (W/m²).\n",
    "- `LW_IN`: radiación térmica incidente (W/m²).\n",
    "- `P`: precipitación acumulada (mm).\n",
    "- `WS`: velocidad del viento (m/s).\n",
    "\n",
    "🔎 Este filtrado deja el DataFrame listo para análisis exploratorios, visualizaciones o modelos predictivos, con una estructura compacta y solo las variables necesarias.\n"
   ]
  },
  {
   "cell_type": "code",
   "execution_count": 29,
   "id": "a499198a",
   "metadata": {},
   "outputs": [],
   "source": [
    "# Paso 6: Dejar solo columnas finales deseadas\n",
    "columnas_finales = [\n",
    "    \"valid_time\", \"latitude\", \"longitude\",\n",
    "    \"TA_1_1_1\", \"RH_1_1_1\", \"VPD_PI\",\n",
    "    \"SW_IN_1_1_1\", \"LW_IN\", \"P\", \"WS\"\n",
    "]\n",
    "\n",
    "datos_meteorologicos = datos_meteorologicos[columnas_finales]"
   ]
  },
  {
   "cell_type": "markdown",
   "id": "f026f249",
   "metadata": {},
   "source": [
    "### ⏱️ Interpolación temporal a intervalos de 30 minutos y enriquecimiento de variables temporales\n",
    "\n",
    "Este bloque duplica la frecuencia temporal de los datos meteorológicos, creando observaciones intermedias cada 30 minutos, y añade columnas útiles para análisis horarios y estacionales:\n",
    "\n",
    "---\n",
    "\n",
    "#### 🔁 Interpolación por duplicación temporal\n",
    "- Se crea una copia del DataFrame y se le suma 30 minutos a la columna `valid_time`.\n",
    "- Luego, se combinan los datos originales y los desplazados usando `pd.concat`.\n",
    "- El resultado son registros interpolados a intervalos de **30 minutos**, sin aplicar ninguna transformación en los valores aún (esto es útil si luego se quiere interpolar suavemente o realizar simulaciones más frecuentes).\n",
    "\n",
    "---\n",
    "\n",
    "#### 📏 Reordenamiento espacial y temporal\n",
    "- Los datos se ordenan por `valid_time`, `latitude` y `longitude` para mantener coherencia en el análisis espacio-temporal.\n",
    "\n",
    "---\n",
    "\n",
    "#### 📆 Enriquecimiento con variables de tiempo\n",
    "- `doy`: día del año (1 a 365 o 366), útil para análisis estacionales o ciclos anuales.\n",
    "- `hour`: hora del día en formato decimal (ej. 13.5 para las 13:30), útil para estudios diarios o ciclos circadianos.\n",
    "\n",
    "✅ Esta transformación prepara los datos para modelos o visualizaciones que requieren mayor resolución temporal o segmentación por hora/día del año.\n"
   ]
  },
  {
   "cell_type": "code",
   "execution_count": null,
   "id": "32cace1f",
   "metadata": {},
   "outputs": [],
   "source": [
    "import pandas as pd\n",
    "\n",
    "# Asegúrate de que 'valid_time' sea de tipo datetime\n",
    "datos_meteorologicos['valid_time'] = pd.to_datetime(datos_meteorologicos['valid_time'])\n",
    "\n",
    "# Creamos una copia de las filas originales con valid_time + 30 minutos\n",
    "datos_interpolados = datos_meteorologicos.copy()\n",
    "datos_interpolados['valid_time'] = datos_interpolados['valid_time'] + pd.Timedelta(minutes=30)\n",
    "\n",
    "# Unimos el original con la versión desplazada\n",
    "datos_meteorologicos = pd.concat([datos_meteorologicos, datos_interpolados], ignore_index=True)\n",
    "\n",
    "# Ordenamos por tiempo, latitud y longitud para mantener coherencia espacial-temporal\n",
    "datos_meteorologicos = datos_meteorologicos.sort_values(by=['valid_time', 'latitude', 'longitude']).reset_index(drop=True)\n",
    "\n",
    "# Asegúrate de que 'valid_time' sea datetime (por si no lo está aún)\n",
    "datos_meteorologicos['valid_time'] = pd.to_datetime(datos_meteorologicos['valid_time'])\n",
    "\n",
    "# Día del año (1-365/366)\n",
    "datos_meteorologicos['doy'] = datos_meteorologicos['valid_time'].dt.dayofyear\n",
    "\n",
    "# Hora en formato decimal (por ejemplo, 13.5 para 13:30)\n",
    "datos_meteorologicos['hour'] = (\n",
    "    datos_meteorologicos['valid_time'].dt.hour +\n",
    "    datos_meteorologicos['valid_time'].dt.minute / 60\n",
    ")\n"
   ]
  },
  {
   "cell_type": "code",
   "execution_count": 32,
   "id": "e57ca4d1",
   "metadata": {},
   "outputs": [
    {
     "name": "stdout",
     "output_type": "stream",
     "text": [
      "                 valid_time  latitude  longitude   TA_1_1_1   RH_1_1_1  \\\n",
      "0       2016-01-01 00:00:00       4.8     -75.75  19.595123  87.700951   \n",
      "1       2016-01-01 00:00:00       4.8     -75.65  18.885162  88.978897   \n",
      "2       2016-01-01 00:00:00       4.8     -75.55  16.120514  88.946922   \n",
      "3       2016-01-01 00:00:00       4.8     -75.45  11.233795  87.099213   \n",
      "4       2016-01-01 00:00:00       4.8     -75.35   9.225983  82.682060   \n",
      "...                     ...       ...        ...        ...        ...   \n",
      "2456155 2024-12-31 23:30:00       5.4     -75.75  17.574127  83.456444   \n",
      "2456156 2024-12-31 23:30:00       5.4     -75.65  19.493073  83.802109   \n",
      "2456157 2024-12-31 23:30:00       5.4     -75.55  19.164948  86.257156   \n",
      "2456158 2024-12-31 23:30:00       5.4     -75.45  15.528229  88.156494   \n",
      "2456159 2024-12-31 23:30:00       5.4     -75.35  12.521393  89.229492   \n",
      "\n",
      "           VPD_PI  SW_IN_1_1_1        LW_IN         P        WS  doy  hour  \n",
      "0        2.802898  4627.227051  8936.840820  2.337520  0.130689    1   0.0  \n",
      "1        2.402941  4743.579102  8647.375000  2.836574  0.342523    1   0.0  \n",
      "2        2.023785  4844.480469  8371.195312  2.664332  0.460917    1   0.0  \n",
      "3        1.718792  4936.001465  8111.340332  2.184787  0.562959    1   0.0  \n",
      "4        2.017553  5023.760742  7961.169922  1.660862  0.615920    1   0.0  \n",
      "...           ...          ...          ...       ...       ...  ...   ...  \n",
      "2456155  3.321880  3663.309082  8337.953125  7.477600  0.886624  366  23.5  \n",
      "2456156  3.668076  3805.314941  8210.663086  8.549444  0.879942  366  23.5  \n",
      "2456157  3.049162  3939.071045  8099.704590  7.601254  0.567600  366  23.5  \n",
      "2456158  2.087872  4058.462158  8010.410156  7.456731  0.264292  366  23.5  \n",
      "2456159  1.562197  4150.802246  7997.220703  8.359876  0.438445  366  23.5  \n",
      "\n",
      "[2456160 rows x 12 columns]\n"
     ]
    }
   ],
   "source": [
    "print(datos_meteorologicos)"
   ]
  },
  {
   "cell_type": "code",
   "execution_count": 33,
   "id": "2fd6495f",
   "metadata": {},
   "outputs": [
    {
     "name": "stdout",
     "output_type": "stream",
     "text": [
      "📁 CSV guardado como 'datos_meteorologicos_era5land.csv'\n"
     ]
    }
   ],
   "source": [
    "# Guardar en CSV\n",
    "datos_meteorologicos.to_csv(\"datos_meteorologicos_era5land.csv\", index=False)\n",
    "\n",
    "print(\"📁 CSV guardado como 'datos_meteorologicos_era5land.csv'\")"
   ]
  },
  {
   "cell_type": "code",
   "execution_count": 2,
   "id": "7a6397b4",
   "metadata": {},
   "outputs": [
    {
     "name": "stdout",
     "output_type": "stream",
     "text": [
      "Requirement already satisfied: folium in /usr/local/python/3.12.1/lib/python3.12/site-packages (0.20.0)\n",
      "Requirement already satisfied: branca in /usr/local/python/3.12.1/lib/python3.12/site-packages (0.8.1)\n",
      "Requirement already satisfied: ipywidgets in /usr/local/python/3.12.1/lib/python3.12/site-packages (8.1.7)\n",
      "Requirement already satisfied: openpyxl in /usr/local/python/3.12.1/lib/python3.12/site-packages (3.1.5)\n",
      "Requirement already satisfied: jinja2>=2.9 in /home/codespace/.local/lib/python3.12/site-packages (from folium) (3.1.6)\n",
      "Requirement already satisfied: numpy in /home/codespace/.local/lib/python3.12/site-packages (from folium) (2.2.6)\n",
      "Requirement already satisfied: requests in /home/codespace/.local/lib/python3.12/site-packages (from folium) (2.32.3)\n",
      "Requirement already satisfied: xyzservices in /usr/local/python/3.12.1/lib/python3.12/site-packages (from folium) (2025.4.0)\n",
      "Requirement already satisfied: comm>=0.1.3 in /home/codespace/.local/lib/python3.12/site-packages (from ipywidgets) (0.2.2)\n",
      "Requirement already satisfied: ipython>=6.1.0 in /home/codespace/.local/lib/python3.12/site-packages (from ipywidgets) (9.2.0)\n",
      "Requirement already satisfied: traitlets>=4.3.1 in /home/codespace/.local/lib/python3.12/site-packages (from ipywidgets) (5.14.3)\n",
      "Requirement already satisfied: widgetsnbextension~=4.0.14 in /usr/local/python/3.12.1/lib/python3.12/site-packages (from ipywidgets) (4.0.14)\n",
      "Requirement already satisfied: jupyterlab_widgets~=3.0.15 in /usr/local/python/3.12.1/lib/python3.12/site-packages (from ipywidgets) (3.0.15)\n",
      "Requirement already satisfied: et-xmlfile in /usr/local/python/3.12.1/lib/python3.12/site-packages (from openpyxl) (2.0.0)\n",
      "Requirement already satisfied: decorator in /home/codespace/.local/lib/python3.12/site-packages (from ipython>=6.1.0->ipywidgets) (5.2.1)\n",
      "Requirement already satisfied: ipython-pygments-lexers in /home/codespace/.local/lib/python3.12/site-packages (from ipython>=6.1.0->ipywidgets) (1.1.1)\n",
      "Requirement already satisfied: jedi>=0.16 in /home/codespace/.local/lib/python3.12/site-packages (from ipython>=6.1.0->ipywidgets) (0.19.2)\n",
      "Requirement already satisfied: matplotlib-inline in /home/codespace/.local/lib/python3.12/site-packages (from ipython>=6.1.0->ipywidgets) (0.1.7)\n",
      "Requirement already satisfied: pexpect>4.3 in /home/codespace/.local/lib/python3.12/site-packages (from ipython>=6.1.0->ipywidgets) (4.9.0)\n",
      "Requirement already satisfied: prompt_toolkit<3.1.0,>=3.0.41 in /home/codespace/.local/lib/python3.12/site-packages (from ipython>=6.1.0->ipywidgets) (3.0.51)\n",
      "Requirement already satisfied: pygments>=2.4.0 in /home/codespace/.local/lib/python3.12/site-packages (from ipython>=6.1.0->ipywidgets) (2.19.1)\n",
      "Requirement already satisfied: stack_data in /home/codespace/.local/lib/python3.12/site-packages (from ipython>=6.1.0->ipywidgets) (0.6.3)\n",
      "Requirement already satisfied: wcwidth in /home/codespace/.local/lib/python3.12/site-packages (from prompt_toolkit<3.1.0,>=3.0.41->ipython>=6.1.0->ipywidgets) (0.2.13)\n",
      "Requirement already satisfied: parso<0.9.0,>=0.8.4 in /home/codespace/.local/lib/python3.12/site-packages (from jedi>=0.16->ipython>=6.1.0->ipywidgets) (0.8.4)\n",
      "Requirement already satisfied: MarkupSafe>=2.0 in /home/codespace/.local/lib/python3.12/site-packages (from jinja2>=2.9->folium) (3.0.2)\n",
      "Requirement already satisfied: ptyprocess>=0.5 in /home/codespace/.local/lib/python3.12/site-packages (from pexpect>4.3->ipython>=6.1.0->ipywidgets) (0.7.0)\n",
      "Requirement already satisfied: charset-normalizer<4,>=2 in /home/codespace/.local/lib/python3.12/site-packages (from requests->folium) (3.4.2)\n",
      "Requirement already satisfied: idna<4,>=2.5 in /home/codespace/.local/lib/python3.12/site-packages (from requests->folium) (3.10)\n",
      "Requirement already satisfied: urllib3<3,>=1.21.1 in /home/codespace/.local/lib/python3.12/site-packages (from requests->folium) (2.4.0)\n",
      "Requirement already satisfied: certifi>=2017.4.17 in /home/codespace/.local/lib/python3.12/site-packages (from requests->folium) (2025.4.26)\n",
      "Requirement already satisfied: executing>=1.2.0 in /home/codespace/.local/lib/python3.12/site-packages (from stack_data->ipython>=6.1.0->ipywidgets) (2.2.0)\n",
      "Requirement already satisfied: asttokens>=2.1.0 in /home/codespace/.local/lib/python3.12/site-packages (from stack_data->ipython>=6.1.0->ipywidgets) (3.0.0)\n",
      "Requirement already satisfied: pure-eval in /home/codespace/.local/lib/python3.12/site-packages (from stack_data->ipython>=6.1.0->ipywidgets) (0.2.3)\n",
      "Note: you may need to restart the kernel to use updated packages.\n"
     ]
    }
   ],
   "source": [
    "pip install folium branca ipywidgets openpyxl"
   ]
  },
  {
   "cell_type": "code",
   "execution_count": 3,
   "id": "02eeb7eb",
   "metadata": {},
   "outputs": [
    {
     "data": {
      "application/vnd.jupyter.widget-view+json": {
       "model_id": "8d6df77304c34d70abacd1bc08fed588",
       "version_major": 2,
       "version_minor": 0
      },
      "text/plain": [
       "interactive(children=(Dropdown(description='Variable:', options=(('Temperatura del aire (°C)', 'TA_1_1_1'), ('…"
      ]
     },
     "metadata": {},
     "output_type": "display_data"
    }
   ],
   "source": [
    "# Mapa Datos meteorológicos\n",
    "import pandas as pd\n",
    "import folium\n",
    "from folium.plugins import MarkerCluster\n",
    "from branca.colormap import linear\n",
    "from ipywidgets import interact, Dropdown\n",
    "import datetime\n",
    "\n",
    "# 📥 Cargar datos\n",
    "df = pd.read_excel(\"datos_meteorologicos_era5land_solo_2018.xlsx\", parse_dates=[\"valid_time\"])\n",
    "\n",
    "\n",
    "# 🧠 Diccionario de nombres legibles\n",
    "nombre_variables_legibles = {\n",
    "    \"TA_1_1_1\": \"Temperatura del aire (°C)\",\n",
    "    \"RH_1_1_1\": \"Humedad relativa (%)\",\n",
    "    \"VPD_PI\": \"Déficit de presión de vapor (hPa)\",\n",
    "    \"SW_IN_1_1_1\": \"Radiación solar incidente (W/m²)\",\n",
    "    \"LW_IN\": \"Radiación térmica incidente (W/m²)\",\n",
    "    \"P\": \"Precipitación total (mm)\",\n",
    "    \"WS\": \"Velocidad del viento (m/s)\"\n",
    "}\n",
    "\n",
    "nombres_variables = list(nombre_variables_legibles.keys())\n",
    "\n",
    "# 🗓️ Fechas disponibles\n",
    "fechas_disponibles = sorted(df[\"valid_time\"].dt.date.unique())\n",
    "fecha_default = pd.to_datetime(\"2018-12-31\").date()\n",
    "\n",
    "if fecha_default not in fechas_disponibles:\n",
    "    print(\"⚠️ La fecha 2024-12-31 no está en los datos, se usará la más reciente.\")\n",
    "    fecha_default = fechas_disponibles[-1]\n",
    "\n",
    "fechas_str = [str(f) for f in fechas_disponibles]\n",
    "fecha_default_str = str(fecha_default)\n",
    "\n",
    "# 🗺️ Función para crear el mapa\n",
    "def crear_mapa_interactivo(variable, fecha_obj):\n",
    "    df_dia = df[df[\"valid_time\"].dt.date == fecha_obj].copy()\n",
    "\n",
    "    if df_dia.empty:\n",
    "        return f\"No hay datos para la fecha {fecha_obj}\"\n",
    "\n",
    "    # ✅ Usar colormap que sí esté disponible\n",
    "    colormap = linear.YlGnBu_09.scale(df_dia[variable].min(), df_dia[variable].max())\n",
    "    colormap.caption = nombre_variables_legibles[variable]\n",
    "\n",
    "    lat_caldas = df_dia[\"latitude\"].mean()\n",
    "    lon_caldas = df_dia[\"longitude\"].mean()\n",
    "    m = folium.Map(location=[lat_caldas, lon_caldas], zoom_start=8, tiles=\"CartoDB positron\")\n",
    "\n",
    "    for _, row in df_dia.iterrows():\n",
    "        valor = row[variable]\n",
    "        popup_text = f\"{nombre_variables_legibles[variable]}: {valor:.2f}\"\n",
    "        folium.CircleMarker(\n",
    "            location=[row[\"latitude\"], row[\"longitude\"]],\n",
    "            radius=5,\n",
    "            color=colormap(valor),\n",
    "            fill=True,\n",
    "            fill_color=colormap(valor),\n",
    "            fill_opacity=0.7,\n",
    "            tooltip=popup_text\n",
    "        ).add_to(m)\n",
    "\n",
    "    m.add_child(colormap)\n",
    "    return m\n",
    "\n",
    "# 🎛️ Widget interactivo\n",
    "@interact(\n",
    "    variable=Dropdown(\n",
    "        options=[(nombre_variables_legibles[v], v) for v in nombres_variables],\n",
    "        value=nombres_variables[0],\n",
    "        description=\"Variable:\"\n",
    "    ),\n",
    "    fecha=Dropdown(\n",
    "        options=fechas_str,\n",
    "        value=fecha_default_str,\n",
    "        description=\"Fecha:\"\n",
    "    )\n",
    ")\n",
    "def mostrar_mapa(variable, fecha):\n",
    "    fecha_obj = pd.to_datetime(fecha).date()\n",
    "    display(crear_mapa_interactivo(variable, fecha_obj))\n"
   ]
  }
 ],
 "metadata": {
  "kernelspec": {
   "display_name": "Python 3",
   "language": "python",
   "name": "python3"
  },
  "language_info": {
   "codemirror_mode": {
    "name": "ipython",
    "version": 3
   },
   "file_extension": ".py",
   "mimetype": "text/x-python",
   "name": "python",
   "nbconvert_exporter": "python",
   "pygments_lexer": "ipython3",
   "version": "3.12.1"
  }
 },
 "nbformat": 4,
 "nbformat_minor": 5
}
