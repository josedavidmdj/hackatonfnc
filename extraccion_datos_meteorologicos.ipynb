{
 "cells": [
  {
   "cell_type": "markdown",
   "id": "ba1d54d0",
   "metadata": {},
   "source": [
    "🧩 1. Instalación de librerías necesarias"
   ]
  },
  {
   "cell_type": "code",
   "execution_count": 6,
   "id": "e9e3ecb6",
   "metadata": {},
   "outputs": [
    {
     "name": "stdout",
     "output_type": "stream",
     "text": [
      "Requirement already satisfied: xarray in /usr/local/python/3.12.1/lib/python3.12/site-packages (2025.6.1)\n",
      "Requirement already satisfied: netcdf4 in /usr/local/python/3.12.1/lib/python3.12/site-packages (1.7.2)\n",
      "Requirement already satisfied: pandas in /home/codespace/.local/lib/python3.12/site-packages (2.2.3)\n",
      "Requirement already satisfied: numpy>=1.24 in /home/codespace/.local/lib/python3.12/site-packages (from xarray) (2.2.6)\n",
      "Requirement already satisfied: packaging>=23.2 in /home/codespace/.local/lib/python3.12/site-packages (from xarray) (25.0)\n",
      "Requirement already satisfied: cftime in /usr/local/python/3.12.1/lib/python3.12/site-packages (from netcdf4) (1.6.4.post1)\n",
      "Requirement already satisfied: certifi in /home/codespace/.local/lib/python3.12/site-packages (from netcdf4) (2025.4.26)\n",
      "Requirement already satisfied: python-dateutil>=2.8.2 in /home/codespace/.local/lib/python3.12/site-packages (from pandas) (2.9.0.post0)\n",
      "Requirement already satisfied: pytz>=2020.1 in /home/codespace/.local/lib/python3.12/site-packages (from pandas) (2025.2)\n",
      "Requirement already satisfied: tzdata>=2022.7 in /home/codespace/.local/lib/python3.12/site-packages (from pandas) (2025.2)\n",
      "Requirement already satisfied: six>=1.5 in /home/codespace/.local/lib/python3.12/site-packages (from python-dateutil>=2.8.2->pandas) (1.17.0)\n"
     ]
    }
   ],
   "source": [
    "!pip install xarray netcdf4 pandas\n"
   ]
  },
  {
   "cell_type": "markdown",
   "id": "2ed92f5e",
   "metadata": {},
   "source": [
    "📥 2. Carga de archivos .nc"
   ]
  },
  {
   "cell_type": "code",
   "execution_count": 7,
   "id": "eb2f67a5",
   "metadata": {},
   "outputs": [],
   "source": [
    "import xarray as xr\n",
    "\n",
    "# Abrimos ambos archivos descomprimidos\n",
    "ds_temp = xr.open_dataset(\"datos_netcdf/data_stream-oper_stepType-instant.nc\")\n",
    "ds_acum = xr.open_dataset(\"datos_netcdf/data_stream-oper_stepType-accum.nc\")\n"
   ]
  },
  {
   "cell_type": "markdown",
   "id": "21a1450f",
   "metadata": {},
   "source": [
    "🧮 3. Procesamiento a DataFrame"
   ]
  },
  {
   "cell_type": "code",
   "execution_count": 8,
   "id": "6fa161b5",
   "metadata": {},
   "outputs": [],
   "source": [
    "import pandas as pd\n",
    "\n",
    "df_temp = ds_temp[[\"t2m\", \"d2m\"]].to_dataframe().reset_index()\n",
    "df_acum = ds_acum[[\"tp\", \"ssrd\"]].to_dataframe().reset_index()\n",
    "\n",
    "df = pd.merge(df_temp, df_acum, on=[\"valid_time\", \"latitude\", \"longitude\"])\n",
    "\n",
    "df.rename(columns={\n",
    "    \"valid_time\": \"fecha\",\n",
    "    \"t2m\": \"temperatura_2m_C\",\n",
    "    \"d2m\": \"punto_rocio_2m_C\",\n",
    "    \"tp\": \"precipitacion_total_mm\",\n",
    "    \"ssrd\": \"radiacion_solar_whm2\"\n",
    "}, inplace=True)\n",
    "\n",
    "# Conversión de unidades\n",
    "df[\"temperatura_2m_C\"] -= 273.15\n",
    "df[\"punto_rocio_2m_C\"] -= 273.15\n",
    "df[\"precipitacion_total_mm\"] *= 1000\n",
    "df[\"radiacion_solar_whm2\"] /= 3600\n",
    "\n",
    "# Dejar solo fecha sin hora\n",
    "df[\"fecha\"] = pd.to_datetime(df[\"fecha\"]).dt.date\n",
    "\n",
    "# Agregación diaria\n",
    "numericas = [\"temperatura_2m_C\", \"punto_rocio_2m_C\", \"precipitacion_total_mm\", \"radiacion_solar_whm2\"]\n",
    "df_dia = df.groupby([\"latitude\", \"longitude\", \"fecha\"])[numericas].mean().reset_index()\n",
    "df_dia.rename(columns={\"latitude\": \"latitud\", \"longitude\": \"longitud\"}, inplace=True)\n"
   ]
  },
  {
   "cell_type": "markdown",
   "id": "16c2240d",
   "metadata": {},
   "source": [
    "🧮 4. Generación de características avanzadas"
   ]
  },
  {
   "cell_type": "code",
   "execution_count": 9,
   "id": "73920e30",
   "metadata": {},
   "outputs": [],
   "source": [
    "def add_moving_features(df, col, nombre_base):\n",
    "    for dias in [4, 7, 14, 21, 28]:\n",
    "        df[f\"{nombre_base}_prom_{dias}d\"] = (\n",
    "            df.groupby([\"latitud\", \"longitud\"])[col]\n",
    "            .transform(lambda x: x.rolling(window=dias, min_periods=1).mean())\n",
    "        )\n",
    "        df[f\"{nombre_base}_acum_{dias}d\"] = (\n",
    "            df.groupby([\"latitud\", \"longitud\"])[col]\n",
    "            .transform(lambda x: x.rolling(window=dias, min_periods=1).sum())\n",
    "        )\n",
    "\n",
    "add_moving_features(df_dia, \"radiacion_solar_whm2\", \"radiacion_solar\")\n",
    "add_moving_features(df_dia, \"temperatura_2m_C\", \"temperatura_2m\")\n",
    "\n",
    "for dias in [1, 2, 3, 4, 5]:\n",
    "    df_dia[f\"precipitacion_acum_{dias}d\"] = (\n",
    "        df_dia.groupby([\"latitud\", \"longitud\"])[\"precipitacion_total_mm\"]\n",
    "        .transform(lambda x: x.rolling(window=dias, min_periods=1).sum())\n",
    "    )\n"
   ]
  },
  {
   "cell_type": "markdown",
   "id": "6bbfe2f8",
   "metadata": {},
   "source": [
    "🧮 5. Exportar a CSV"
   ]
  },
  {
   "cell_type": "code",
   "execution_count": 10,
   "id": "3d4bfeeb",
   "metadata": {},
   "outputs": [],
   "source": [
    "df_dia.to_csv(\"carbonspace_datos.csv\", index=False)\n"
   ]
  },
  {
   "cell_type": "markdown",
   "id": "a64abff7",
   "metadata": {},
   "source": [
    "| Variable                 | Descripción                                                      |\n",
    "| ------------------------ | ---------------------------------------------------------------- |\n",
    "| `latitud`                | Latitud del píxel o punto geográfico (°)                         |\n",
    "| `longitud`               | Longitud del píxel o punto geográfico (°)                        |\n",
    "| `fecha`                  | Fecha de observación (AAAA-MM-DD)                                |\n",
    "| `temperatura_2m_C`       | Temperatura promedio diaria del aire a 2 metros (°C)             |\n",
    "| `punto_rocio_2m_C`       | Temperatura promedio diaria del punto de rocío a 2 metros (°C)   |\n",
    "| `precipitacion_total_mm` | Precipitación total diaria (mm)                                  |\n",
    "| `radiacion_solar_whm2`   | Radiación solar superficial descendente acumulada diaria (Wh/m²) |\n",
    "\n",
    "| Variables derivadas        | Descripción                                        |\n",
    "| -------------------------- | -------------------------------------------------- |\n",
    "| `radiacion_solar_prom_4d`  | Promedio de radiación solar en los últimos 4 días  |\n",
    "| `radiacion_solar_acum_4d`  | Acumulado de radiación solar en los últimos 4 días |\n",
    "| `radiacion_solar_prom_7d`  | Promedio de 7 días                                 |\n",
    "| `radiacion_solar_acum_7d`  | Acumulado de 7 días                                |\n",
    "| `radiacion_solar_prom_14d` | Promedio de 14 días                                |\n",
    "| `radiacion_solar_acum_14d` | Acumulado de 14 días                               |\n",
    "| `radiacion_solar_prom_21d` | Promedio de 21 días                                |\n",
    "| `radiacion_solar_acum_21d` | Acumulado de 21 días                               |\n",
    "| `radiacion_solar_prom_28d` | Promedio de 28 días                                |\n",
    "| `radiacion_solar_acum_28d` | Acumulado de 28 días                               |\n",
    "| `temperatura_2m_prom_4d`   | Promedio de temperatura de los últimos 4 días |\n",
    "| `temperatura_2m_acum_4d`   | Suma de temperatura de los últimos 4 días     |\n",
    "| `temperatura_2m_prom_7d`   | Promedio de 7 días                            |\n",
    "| `temperatura_2m_acum_7d`   | Suma de 7 días                                |\n",
    "| `temperatura_2m_prom_14d`  | Promedio de 14 días                           |\n",
    "| `temperatura_2m_acum_14d`  | Suma de 14 días                               |\n",
    "| `temperatura_2m_prom_21d`  | Promedio de 21 días                           |\n",
    "| `temperatura_2m_acum_21d`  | Suma de 21 días                               |\n",
    "| `temperatura_2m_prom_28d`  | Promedio de 28 días                           |\n",
    "| `temperatura_2m_acum_28d`  | Suma de 28 días                               |\n",
    "| `precipitacion_acum_1d`    | Precipitación acumulada de 1 día |\n",
    "| `precipitacion_acum_2d`    | Acumulado de 2 días              |\n",
    "| `precipitacion_acum_3d`    | Acumulado de 3 días              |\n",
    "| `precipitacion_acum_4d`    | Acumulado de 4 días              |\n",
    "| `precipitacion_acum_5d`    | Acumulado de 5 días              |\n"
   ]
  }
 ],
 "metadata": {
  "kernelspec": {
   "display_name": "Python 3",
   "language": "python",
   "name": "python3"
  },
  "language_info": {
   "codemirror_mode": {
    "name": "ipython",
    "version": 3
   },
   "file_extension": ".py",
   "mimetype": "text/x-python",
   "name": "python",
   "nbconvert_exporter": "python",
   "pygments_lexer": "ipython3",
   "version": "3.12.1"
  }
 },
 "nbformat": 4,
 "nbformat_minor": 5
}
